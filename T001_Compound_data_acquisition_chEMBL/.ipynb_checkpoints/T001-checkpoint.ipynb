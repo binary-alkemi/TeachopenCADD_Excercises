{
 "cells": [
  {
   "cell_type": "code",
   "execution_count": 1,
   "metadata": {},
   "outputs": [],
   "source": [
    "import sys\n",
    "import math\n",
    "from pathlib import Path\n",
    "from zipfile import ZipFile\n",
    "from tempfile import TemporaryDirectory\n",
    "import numpy as np\n",
    "import pandas as pd\n",
    "from rdkit.Chem import PandasTools"
   ]
  },
  {
   "cell_type": "code",
   "execution_count": 2,
   "metadata": {},
   "outputs": [],
   "source": [
    "from chembl_webresource_client.new_client import new_client"
   ]
  },
  {
   "cell_type": "code",
   "execution_count": 3,
   "metadata": {},
   "outputs": [],
   "source": [
    "## display all results and not only last result\n",
    "from IPython.core.interactiveshell import InteractiveShell\n",
    "\n",
    "InteractiveShell.ast_node_interactivity = \"all\"\n"
   ]
  },
  {
   "cell_type": "code",
   "execution_count": 4,
   "metadata": {},
   "outputs": [],
   "source": [
    "HERE = Path(_dh[-1])\n",
    "DATA = HERE / \"data\""
   ]
  },
  {
   "cell_type": "code",
   "execution_count": 5,
   "metadata": {},
   "outputs": [
    {
     "data": {
      "text/plain": [
       "PosixPath('/home/mandar/git_repos/TeachopenCADD_Excercises/T001_Compound_data_acquisition_chEMBL')"
      ]
     },
     "execution_count": 5,
     "metadata": {},
     "output_type": "execute_result"
    },
    {
     "data": {
      "text/plain": [
       "PosixPath('/home/mandar/git_repos/TeachopenCADD_Excercises/T001_Compound_data_acquisition_chEMBL/data')"
      ]
     },
     "execution_count": 5,
     "metadata": {},
     "output_type": "execute_result"
    }
   ],
   "source": [
    "# checking variables\n",
    "HERE\n",
    "DATA"
   ]
  },
  {
   "cell_type": "code",
   "execution_count": 6,
   "metadata": {},
   "outputs": [],
   "source": [
    "targets_api = new_client.target\n",
    "compounds_api = new_client.molecule\n",
    "bioactivities_api = new_client.activity"
   ]
  },
  {
   "cell_type": "code",
   "execution_count": 7,
   "metadata": {},
   "outputs": [
    {
     "data": {
      "text/plain": [
       "chembl_webresource_client.query_set.QuerySet"
      ]
     },
     "execution_count": 7,
     "metadata": {},
     "output_type": "execute_result"
    }
   ],
   "source": [
    "type(targets_api)"
   ]
  },
  {
   "cell_type": "code",
   "execution_count": 8,
   "metadata": {},
   "outputs": [],
   "source": [
    "## import target protein based on UniProt ID , example :EGFR kinase P00533\n",
    "uniprot_id = \"P00533\""
   ]
  },
  {
   "cell_type": "code",
   "execution_count": 9,
   "metadata": {},
   "outputs": [
    {
     "data": {
      "text/plain": [
       "[{'cross_references': [{'xref_id': 'O43451', 'xref_name': None, 'xref_src': 'canSAR-Target'}, {'xref_id': 'Maltase-glucoamylase', 'xref_name': None, 'xref_src': 'Wikipedia'}], 'organism': 'Homo sapiens', 'pref_name': 'Maltase-glucoamylase', 'species_group_flag': False, 'target_chembl_id': 'CHEMBL2074', 'target_components': [{'accession': 'O43451', 'component_description': 'Maltase-glucoamylase, intestinal', 'component_id': 434, 'component_type': 'PROTEIN', 'relationship': 'SINGLE PROTEIN', 'target_component_synonyms': [{'component_synonym': '3.2.1.20', 'syn_type': 'EC_NUMBER'}, {'component_synonym': '3.2.1.3', 'syn_type': 'EC_NUMBER'}, {'component_synonym': 'Alpha-glucosidase', 'syn_type': 'UNIPROT'}, {'component_synonym': 'Glucan 1,4-alpha-glucosidase', 'syn_type': 'UNIPROT'}, {'component_synonym': 'Glucoamylase', 'syn_type': 'UNIPROT'}, {'component_synonym': 'Maltase', 'syn_type': 'UNIPROT'}, {'component_synonym': 'Maltase-glucoamylase, intestinal', 'syn_type': 'UNIPROT'}, {'component_synonym': 'MGA', 'syn_type': 'GENE_SYMBOL_OTHER'}, {'component_synonym': 'MGAM', 'syn_type': 'GENE_SYMBOL'}, {'component_synonym': 'MGAML', 'syn_type': 'GENE_SYMBOL_OTHER'}], 'target_component_xrefs': [{'xref_id': 'ENSG00000257335', 'xref_name': None, 'xref_src_db': 'EnsemblGene'}, {'xref_id': 'O43451', 'xref_name': None, 'xref_src_db': 'ExpressionAtlas'}, {'xref_id': 'GO:0005886', 'xref_name': 'plasma membrane', 'xref_src_db': 'GoComponent'}, {'xref_id': 'GO:0016020', 'xref_name': 'membrane', 'xref_src_db': 'GoComponent'}, {'xref_id': 'GO:0016021', 'xref_name': 'integral component of membrane', 'xref_src_db': 'GoComponent'}, {'xref_id': 'GO:0016324', 'xref_name': 'apical plasma membrane', 'xref_src_db': 'GoComponent'}, {'xref_id': 'GO:0070062', 'xref_name': 'extracellular exosome', 'xref_src_db': 'GoComponent'}, {'xref_id': 'GO:0070821', 'xref_name': 'tertiary granule membrane', 'xref_src_db': 'GoComponent'}, {'xref_id': 'GO:0101003', 'xref_name': 'ficolin-1-rich granule membrane', 'xref_src_db': 'GoComponent'}, {'xref_id': 'GO:0003824', 'xref_name': 'catalytic activity', 'xref_src_db': 'GoFunction'}, {'xref_id': 'GO:0004339', 'xref_name': 'glucan 1,4-alpha-glucosidase activity', 'xref_src_db': 'GoFunction'}, {'xref_id': 'GO:0004553', 'xref_name': 'hydrolase activity, hydrolyzing O-glycosyl compounds', 'xref_src_db': 'GoFunction'}, {'xref_id': 'GO:0004558', 'xref_name': 'alpha-1,4-glucosidase activity', 'xref_src_db': 'GoFunction'}, {'xref_id': 'GO:0016160', 'xref_name': 'amylase activity', 'xref_src_db': 'GoFunction'}, {'xref_id': 'GO:0016787', 'xref_name': 'hydrolase activity', 'xref_src_db': 'GoFunction'}, {'xref_id': 'GO:0016798', 'xref_name': 'hydrolase activity, acting on glycosyl bonds', 'xref_src_db': 'GoFunction'}, {'xref_id': 'GO:0030246', 'xref_name': 'carbohydrate binding', 'xref_src_db': 'GoFunction'}, {'xref_id': 'GO:0032450', 'xref_name': 'maltose alpha-glucosidase activity', 'xref_src_db': 'GoFunction'}, {'xref_id': 'GO:0090599', 'xref_name': 'alpha-glucosidase activity', 'xref_src_db': 'GoFunction'}, {'xref_id': 'GO:0000023', 'xref_name': 'maltose metabolic process', 'xref_src_db': 'GoProcess'}, {'xref_id': 'GO:0005975', 'xref_name': 'carbohydrate metabolic process', 'xref_src_db': 'GoProcess'}, {'xref_id': 'GO:0005983', 'xref_name': 'starch catabolic process', 'xref_src_db': 'GoProcess'}, {'xref_id': 'GO:0008152', 'xref_name': 'metabolic process', 'xref_src_db': 'GoProcess'}, {'xref_id': 'GO:0043312', 'xref_name': 'neutrophil degranulation', 'xref_src_db': 'GoProcess'}, {'xref_id': 'GO:0044245', 'xref_name': 'polysaccharide digestion', 'xref_src_db': 'GoProcess'}, {'xref_id': '2627', 'xref_name': None, 'xref_src_db': 'GuideToPHARMACOLOGY'}, {'xref_id': 'O43451', 'xref_name': None, 'xref_src_db': 'IntAct'}, {'xref_id': 'IPR000322', 'xref_name': 'Glyco_hydro_31.', 'xref_src_db': 'InterPro'}, {'xref_id': 'IPR000519', 'xref_name': 'P_trefoil_dom.', 'xref_src_db': 'InterPro'}, {'xref_id': 'IPR011013', 'xref_name': 'Gal_mutarotase_sf_dom.', 'xref_src_db': 'InterPro'}, {'xref_id': 'IPR013780', 'xref_name': 'Glyco_hydro_b.', 'xref_src_db': 'InterPro'}, {'xref_id': 'IPR017853', 'xref_name': 'Glycoside_hydrolase_SF.', 'xref_src_db': 'InterPro'}, {'xref_id': 'IPR017957', 'xref_name': 'P_trefoil_CS.', 'xref_src_db': 'InterPro'}, {'xref_id': 'IPR030458', 'xref_name': 'Glyco_hydro_31_AS.', 'xref_src_db': 'InterPro'}, {'xref_id': 'IPR030459', 'xref_name': 'Glyco_hydro_31_CS.', 'xref_src_db': 'InterPro'}, {'xref_id': 'IPR031727', 'xref_name': 'Gal_mutarotase_N.', 'xref_src_db': 'InterPro'}, {'xref_id': '2QLY', 'xref_name': 'A', 'xref_src_db': 'PDBe'}, {'xref_id': '2QMJ', 'xref_name': 'A', 'xref_src_db': 'PDBe'}, {'xref_id': '3CTT', 'xref_name': 'A', 'xref_src_db': 'PDBe'}, {'xref_id': '3L4T', 'xref_name': 'A', 'xref_src_db': 'PDBe'}, {'xref_id': '3L4U', 'xref_name': 'A', 'xref_src_db': 'PDBe'}, {'xref_id': '3L4V', 'xref_name': 'A', 'xref_src_db': 'PDBe'}, {'xref_id': '3L4W', 'xref_name': 'A', 'xref_src_db': 'PDBe'}, {'xref_id': '3L4X', 'xref_name': 'A', 'xref_src_db': 'PDBe'}, {'xref_id': '3L4Y', 'xref_name': 'A', 'xref_src_db': 'PDBe'}, {'xref_id': '3L4Z', 'xref_name': 'A', 'xref_src_db': 'PDBe'}, {'xref_id': '3TON', 'xref_name': 'A', 'xref_src_db': 'PDBe'}, {'xref_id': '3TOP', 'xref_name': 'A', 'xref_src_db': 'PDBe'}, {'xref_id': 'PF00088', 'xref_name': 'Trefoil', 'xref_src_db': 'Pfam'}, {'xref_id': 'PF01055', 'xref_name': 'Glyco_hydro_31', 'xref_src_db': 'Pfam'}, {'xref_id': 'PF16863', 'xref_name': 'NtCtMGAM_N', 'xref_src_db': 'Pfam'}, {'xref_id': 'PA30778', 'xref_name': 'maltase-glucoamylase (alpha-glucosidase)', 'xref_src_db': 'PharmGKB'}, {'xref_id': 'R-HSA-189085', 'xref_name': 'Digestion of dietary carbohydrate.', 'xref_src_db': 'Reactome'}, {'xref_id': 'R-HSA-6798695', 'xref_name': 'Neutrophil degranulation.', 'xref_src_db': 'Reactome'}, {'xref_id': 'O43451', 'xref_name': None, 'xref_src_db': 'UniProt'}, {'xref_id': 'Q0VAX6', 'xref_name': None, 'xref_src_db': 'UniProt'}, {'xref_id': 'Q75ME7', 'xref_name': None, 'xref_src_db': 'UniProt'}, {'xref_id': 'Q86UM5', 'xref_name': None, 'xref_src_db': 'UniProt'}]}], 'target_type': 'SINGLE PROTEIN', 'tax_id': 9606}, {'cross_references': [{'xref_id': 'O60706', 'xref_name': None, 'xref_src': 'canSAR-Target'}, {'xref_id': 'ABCC9', 'xref_name': None, 'xref_src': 'Wikipedia'}], 'organism': 'Homo sapiens', 'pref_name': 'Sulfonylurea receptor 2', 'species_group_flag': False, 'target_chembl_id': 'CHEMBL1971', 'target_components': [{'accession': 'O60706', 'component_description': 'ATP-binding cassette sub-family C member 9', 'component_id': 294, 'component_type': 'PROTEIN', 'relationship': 'SINGLE PROTEIN', 'target_component_synonyms': [{'component_synonym': 'ABCC9', 'syn_type': 'GENE_SYMBOL'}, {'component_synonym': 'ATP-binding cassette sub-family C member 9', 'syn_type': 'UNIPROT'}, {'component_synonym': 'Sulfonylurea receptor 2', 'syn_type': 'UNIPROT'}, {'component_synonym': 'SUR2', 'syn_type': 'GENE_SYMBOL_OTHER'}], 'target_component_xrefs': [{'xref_id': 'ABCC9', 'xref_name': 'Cardiomyopathy, dilated, 10; Atrial fibrillation, familial 12; Cantu syndrome', 'xref_src_db': 'CGD'}, {'xref_id': 'ENSG00000069431', 'xref_name': None, 'xref_src_db': 'EnsemblGene'}, {'xref_id': 'O60706', 'xref_name': None, 'xref_src_db': 'ExpressionAtlas'}, {'xref_id': 'GO:0005886', 'xref_name': 'plasma membrane', 'xref_src_db': 'GoComponent'}, {'xref_id': 'GO:0008282', 'xref_name': 'inward rectifying potassium channel', 'xref_src_db': 'GoComponent'}, {'xref_id': 'GO:0016020', 'xref_name': 'membrane', 'xref_src_db': 'GoComponent'}, {'xref_id': 'GO:0016021', 'xref_name': 'integral component of membrane', 'xref_src_db': 'GoComponent'}, {'xref_id': 'GO:0030017', 'xref_name': 'sarcomere', 'xref_src_db': 'GoComponent'}, {'xref_id': 'GO:0031004', 'xref_name': 'potassium ion-transporting ATPase complex', 'xref_src_db': 'GoComponent'}, {'xref_id': 'GO:0000166', 'xref_name': 'nucleotide binding', 'xref_src_db': 'GoFunction'}, {'xref_id': 'GO:0005261', 'xref_name': 'cation channel activity', 'xref_src_db': 'GoFunction'}, {'xref_id': 'GO:0005267', 'xref_name': 'potassium channel activity', 'xref_src_db': 'GoFunction'}, {'xref_id': 'GO:0005524', 'xref_name': 'ATP binding', 'xref_src_db': 'GoFunction'}, {'xref_id': 'GO:0008281', 'xref_name': 'sulfonylurea receptor activity', 'xref_src_db': 'GoFunction'}, {'xref_id': 'GO:0015272', 'xref_name': 'ATP-activated inward rectifier potassium channel activity', 'xref_src_db': 'GoFunction'}, {'xref_id': 'GO:0015459', 'xref_name': 'potassium channel regulator activity', 'xref_src_db': 'GoFunction'}, {'xref_id': 'GO:0016887', 'xref_name': 'ATPase activity', 'xref_src_db': 'GoFunction'}, {'xref_id': 'GO:0019829', 'xref_name': 'ATPase-coupled cation transmembrane transporter activity', 'xref_src_db': 'GoFunction'}, {'xref_id': 'GO:0022857', 'xref_name': 'transmembrane transporter activity', 'xref_src_db': 'GoFunction'}, {'xref_id': 'GO:0042626', 'xref_name': 'ATPase-coupled transmembrane transporter activity', 'xref_src_db': 'GoFunction'}, {'xref_id': 'GO:0044325', 'xref_name': 'ion channel binding', 'xref_src_db': 'GoFunction'}, {'xref_id': 'GO:0006813', 'xref_name': 'potassium ion transport', 'xref_src_db': 'GoProcess'}, {'xref_id': 'GO:0033198', 'xref_name': 'response to ATP', 'xref_src_db': 'GoProcess'}, {'xref_id': 'GO:0051607', 'xref_name': 'defense response to virus', 'xref_src_db': 'GoProcess'}, {'xref_id': 'GO:0055085', 'xref_name': 'transmembrane transport', 'xref_src_db': 'GoProcess'}, {'xref_id': 'GO:0061337', 'xref_name': 'cardiac conduction', 'xref_src_db': 'GoProcess'}, {'xref_id': 'GO:0071805', 'xref_name': 'potassium ion transmembrane transport', 'xref_src_db': 'GoProcess'}, {'xref_id': 'GO:0098655', 'xref_name': 'cation transmembrane transport', 'xref_src_db': 'GoProcess'}, {'xref_id': 'GO:0098662', 'xref_name': 'inorganic cation transmembrane transport', 'xref_src_db': 'GoProcess'}, {'xref_id': 'GO:0150104', 'xref_name': 'transport across blood-brain barrier', 'xref_src_db': 'GoProcess'}, {'xref_id': 'GO:1903779', 'xref_name': 'regulation of cardiac conduction', 'xref_src_db': 'GoProcess'}, {'xref_id': 'GO:1990573', 'xref_name': 'potassium ion import across plasma membrane', 'xref_src_db': 'GoProcess'}, {'xref_id': '2746', 'xref_name': None, 'xref_src_db': 'GuideToPHARMACOLOGY'}, {'xref_id': 'O60706', 'xref_name': None, 'xref_src_db': 'IntAct'}, {'xref_id': 'IPR000388', 'xref_name': 'Sulphorea_rcpt.', 'xref_src_db': 'InterPro'}, {'xref_id': 'IPR001475', 'xref_name': 'ABCC9.', 'xref_src_db': 'InterPro'}, {'xref_id': 'IPR003439', 'xref_name': 'ABC_transporter-like.', 'xref_src_db': 'InterPro'}, {'xref_id': 'IPR003593', 'xref_name': 'AAA+_ATPase.', 'xref_src_db': 'InterPro'}, {'xref_id': 'IPR011527', 'xref_name': 'ABC1_TM_dom.', 'xref_src_db': 'InterPro'}, {'xref_id': 'IPR017871', 'xref_name': 'ABC_transporter_CS.', 'xref_src_db': 'InterPro'}, {'xref_id': 'IPR027417', 'xref_name': 'P-loop_NTPase.', 'xref_src_db': 'InterPro'}, {'xref_id': 'IPR036640', 'xref_name': 'ABC1_TM_sf.', 'xref_src_db': 'InterPro'}, {'xref_id': 'PF00005', 'xref_name': 'ABC_tran', 'xref_src_db': 'Pfam'}, {'xref_id': 'PF00664', 'xref_name': 'ABC_membrane', 'xref_src_db': 'Pfam'}, {'xref_id': 'PA396', 'xref_name': 'ATP-binding cassette, sub-family C (CFTR/MRP), member 9', 'xref_src_db': 'PharmGKB'}, {'xref_id': 'R-HSA-1296025', 'xref_name': 'ATP sensitive Potassium channels.', 'xref_src_db': 'Reactome'}, {'xref_id': 'R-HSA-382556', 'xref_name': 'ABC-family proteins mediated transport.', 'xref_src_db': 'Reactome'}, {'xref_id': 'R-HSA-5578775', 'xref_name': 'Ion homeostasis.', 'xref_src_db': 'Reactome'}, {'xref_id': 'R-HSA-5678420', 'xref_name': 'Defective ABCC9 causes dilated cardiomyopathy 10, familial atrial fibrillation 12 and hypertrichotic osteochondrodysplasia.', 'xref_src_db': 'Reactome'}, {'xref_id': 'O60706', 'xref_name': None, 'xref_src_db': 'UniProt'}, {'xref_id': 'O60707', 'xref_name': None, 'xref_src_db': 'UniProt'}]}], 'target_type': 'SINGLE PROTEIN', 'tax_id': 9606}, {'cross_references': [{'xref_id': 'CGMP-specific_phosphodiesterase_type_5', 'xref_name': None, 'xref_src': 'Wikipedia'}], 'organism': 'Homo sapiens', 'pref_name': 'Phosphodiesterase 5A', 'species_group_flag': False, 'target_chembl_id': 'CHEMBL1827', 'target_components': [{'accession': 'O76074', 'component_description': \"cGMP-specific 3',5'-cyclic phosphodiesterase\", 'component_id': 124, 'component_type': 'PROTEIN', 'relationship': 'SINGLE PROTEIN', 'target_component_synonyms': [{'component_synonym': '3.1.4.35', 'syn_type': 'EC_NUMBER'}, {'component_synonym': 'CGB-PDE', 'syn_type': 'UNIPROT'}, {'component_synonym': 'cGMP-binding cGMP-specific phosphodiesterase', 'syn_type': 'UNIPROT'}, {'component_synonym': \"cGMP-specific 3',5'-cyclic phosphodiesterase\", 'syn_type': 'UNIPROT'}, {'component_synonym': 'PDE5', 'syn_type': 'GENE_SYMBOL_OTHER'}, {'component_synonym': 'PDE5A', 'syn_type': 'GENE_SYMBOL'}], 'target_component_xrefs': [{'xref_id': 'ENSG00000138735', 'xref_name': None, 'xref_src_db': 'EnsemblGene'}, {'xref_id': 'O76074', 'xref_name': None, 'xref_src_db': 'ExpressionAtlas'}, {'xref_id': 'GO:0005575', 'xref_name': 'cellular_component', 'xref_src_db': 'GoComponent'}, {'xref_id': 'GO:0005829', 'xref_name': 'cytosol', 'xref_src_db': 'GoComponent'}, {'xref_id': 'GO:0000166', 'xref_name': 'nucleotide binding', 'xref_src_db': 'GoFunction'}, {'xref_id': 'GO:0003824', 'xref_name': 'catalytic activity', 'xref_src_db': 'GoFunction'}, {'xref_id': 'GO:0004112', 'xref_name': 'cyclic-nucleotide phosphodiesterase activity', 'xref_src_db': 'GoFunction'}, {'xref_id': 'GO:0004114', 'xref_name': \"3',5'-cyclic-nucleotide phosphodiesterase activity\", 'xref_src_db': 'GoFunction'}, {'xref_id': 'GO:0005515', 'xref_name': 'protein binding', 'xref_src_db': 'GoFunction'}, {'xref_id': 'GO:0008081', 'xref_name': 'phosphoric diester hydrolase activity', 'xref_src_db': 'GoFunction'}, {'xref_id': 'GO:0016787', 'xref_name': 'hydrolase activity', 'xref_src_db': 'GoFunction'}, {'xref_id': 'GO:0030553', 'xref_name': 'cGMP binding', 'xref_src_db': 'GoFunction'}, {'xref_id': 'GO:0046872', 'xref_name': 'metal ion binding', 'xref_src_db': 'GoFunction'}, {'xref_id': 'GO:0047555', 'xref_name': \"3',5'-cyclic-GMP phosphodiesterase activity\", 'xref_src_db': 'GoFunction'}, {'xref_id': 'GO:0007165', 'xref_name': 'signal transduction', 'xref_src_db': 'GoProcess'}, {'xref_id': 'GO:0008152', 'xref_name': 'metabolic process', 'xref_src_db': 'GoProcess'}, {'xref_id': 'GO:0010613', 'xref_name': 'positive regulation of cardiac muscle hypertrophy', 'xref_src_db': 'GoProcess'}, {'xref_id': 'GO:0010749', 'xref_name': 'regulation of nitric oxide mediated signal transduction', 'xref_src_db': 'GoProcess'}, {'xref_id': 'GO:0042130', 'xref_name': 'negative regulation of T cell proliferation', 'xref_src_db': 'GoProcess'}, {'xref_id': 'GO:0043406', 'xref_name': 'positive regulation of MAP kinase activity', 'xref_src_db': 'GoProcess'}, {'xref_id': 'GO:0046068', 'xref_name': 'cGMP metabolic process', 'xref_src_db': 'GoProcess'}, {'xref_id': 'GO:0046069', 'xref_name': 'cGMP catabolic process', 'xref_src_db': 'GoProcess'}, {'xref_id': 'GO:0055118', 'xref_name': 'negative regulation of cardiac muscle contraction', 'xref_src_db': 'GoProcess'}, {'xref_id': 'GO:0055119', 'xref_name': 'relaxation of cardiac muscle', 'xref_src_db': 'GoProcess'}, {'xref_id': 'GO:0060282', 'xref_name': 'positive regulation of oocyte development', 'xref_src_db': 'GoProcess'}, {'xref_id': '1304', 'xref_name': None, 'xref_src_db': 'GuideToPHARMACOLOGY'}, {'xref_id': 'O76074', 'xref_name': None, 'xref_src_db': 'IntAct'}, {'xref_id': 'IPR002073', 'xref_name': 'PDEase_catalytic_dom.', 'xref_src_db': 'InterPro'}, {'xref_id': 'IPR003018', 'xref_name': 'GAF.', 'xref_src_db': 'InterPro'}, {'xref_id': 'IPR003607', 'xref_name': 'HD/PDEase_dom.', 'xref_src_db': 'InterPro'}, {'xref_id': 'IPR023088', 'xref_name': 'PDEase.', 'xref_src_db': 'InterPro'}, {'xref_id': 'IPR023174', 'xref_name': 'PDEase_CS.', 'xref_src_db': 'InterPro'}, {'xref_id': 'IPR029016', 'xref_name': 'GAF-like_dom_sf.', 'xref_src_db': 'InterPro'}, {'xref_id': 'IPR036971', 'xref_name': 'PDEase_catalytic_dom_sf.', 'xref_src_db': 'InterPro'}, {'xref_id': '1RKP', 'xref_name': 'A', 'xref_src_db': 'PDBe'}, {'xref_id': '1T9R', 'xref_name': 'A', 'xref_src_db': 'PDBe'}, {'xref_id': '1T9S', 'xref_name': 'A', 'xref_src_db': 'PDBe'}, {'xref_id': '1TBF', 'xref_name': 'A', 'xref_src_db': 'PDBe'}, {'xref_id': '1UDT', 'xref_name': 'A', 'xref_src_db': 'PDBe'}, {'xref_id': '1UDU', 'xref_name': 'A', 'xref_src_db': 'PDBe'}, {'xref_id': '1UHO', 'xref_name': 'A', 'xref_src_db': 'PDBe'}, {'xref_id': '1XOZ', 'xref_name': 'A', 'xref_src_db': 'PDBe'}, {'xref_id': '1XP0', 'xref_name': 'A', 'xref_src_db': 'PDBe'}, {'xref_id': '2CHM', 'xref_name': 'A', 'xref_src_db': 'PDBe'}, {'xref_id': '2H40', 'xref_name': 'A', 'xref_src_db': 'PDBe'}, {'xref_id': '2H42', 'xref_name': 'A', 'xref_src_db': 'PDBe'}, {'xref_id': '2H44', 'xref_name': 'A', 'xref_src_db': 'PDBe'}, {'xref_id': '2XSS', 'xref_name': 'A', 'xref_src_db': 'PDBe'}, {'xref_id': '3B2R', 'xref_name': 'A', 'xref_src_db': 'PDBe'}, {'xref_id': '3BJC', 'xref_name': 'A', 'xref_src_db': 'PDBe'}, {'xref_id': '3HC8', 'xref_name': 'A', 'xref_src_db': 'PDBe'}, {'xref_id': '3HDZ', 'xref_name': 'A', 'xref_src_db': 'PDBe'}, {'xref_id': '3JWQ', 'xref_name': 'A', 'xref_src_db': 'PDBe'}, {'xref_id': '3JWR', 'xref_name': 'A', 'xref_src_db': 'PDBe'}, {'xref_id': '3LFV', 'xref_name': 'A', 'xref_src_db': 'PDBe'}, {'xref_id': '3MF0', 'xref_name': 'A', 'xref_src_db': 'PDBe'}, {'xref_id': '3SHY', 'xref_name': 'A', 'xref_src_db': 'PDBe'}, {'xref_id': '3SHZ', 'xref_name': 'A', 'xref_src_db': 'PDBe'}, {'xref_id': '3SIE', 'xref_name': 'A', 'xref_src_db': 'PDBe'}, {'xref_id': '3TGE', 'xref_name': 'A', 'xref_src_db': 'PDBe'}, {'xref_id': '3TGG', 'xref_name': 'A', 'xref_src_db': 'PDBe'}, {'xref_id': '4G2W', 'xref_name': 'A', 'xref_src_db': 'PDBe'}, {'xref_id': '4G2Y', 'xref_name': 'A', 'xref_src_db': 'PDBe'}, {'xref_id': '4I9Z', 'xref_name': 'A', 'xref_src_db': 'PDBe'}, {'xref_id': '4IA0', 'xref_name': 'A', 'xref_src_db': 'PDBe'}, {'xref_id': '4MD6', 'xref_name': 'A', 'xref_src_db': 'PDBe'}, {'xref_id': '4OEW', 'xref_name': 'A', 'xref_src_db': 'PDBe'}, {'xref_id': '4OEX', 'xref_name': 'A', 'xref_src_db': 'PDBe'}, {'xref_id': '5JO3', 'xref_name': 'A', 'xref_src_db': 'PDBe'}, {'xref_id': '5ZZ2', 'xref_name': 'A', 'xref_src_db': 'PDBe'}, {'xref_id': '6ACB', 'xref_name': 'A', 'xref_src_db': 'PDBe'}, {'xref_id': 'PF00233', 'xref_name': 'PDEase_I', 'xref_src_db': 'Pfam'}, {'xref_id': 'PF01590', 'xref_name': 'GAF', 'xref_src_db': 'Pfam'}, {'xref_id': 'PA33132', 'xref_name': 'phosphodiesterase 5A, cGMP-specific', 'xref_src_db': 'PharmGKB'}, {'xref_id': 'R-HSA-418457', 'xref_name': 'cGMP effects.', 'xref_src_db': 'Reactome'}, {'xref_id': 'A0AV69', 'xref_name': None, 'xref_src_db': 'UniProt'}, {'xref_id': 'A8K2C4', 'xref_name': None, 'xref_src_db': 'UniProt'}, {'xref_id': 'O75026', 'xref_name': None, 'xref_src_db': 'UniProt'}, {'xref_id': 'O75887', 'xref_name': None, 'xref_src_db': 'UniProt'}, {'xref_id': 'O76074', 'xref_name': None, 'xref_src_db': 'UniProt'}, {'xref_id': 'Q86UI0', 'xref_name': None, 'xref_src_db': 'UniProt'}, {'xref_id': 'Q86V66', 'xref_name': None, 'xref_src_db': 'UniProt'}, {'xref_id': 'Q9Y6Z6', 'xref_name': None, 'xref_src_db': 'UniProt'}]}], 'target_type': 'SINGLE PROTEIN', 'tax_id': 9606}, {'cross_references': [{'xref_id': 'O95180', 'xref_name': None, 'xref_src': 'canSAR-Target'}, {'xref_id': 'CACNA1H', 'xref_name': None, 'xref_src': 'Wikipedia'}], 'organism': 'Homo sapiens', 'pref_name': 'Voltage-gated T-type calcium channel alpha-1H subunit', 'species_group_flag': False, 'target_chembl_id': 'CHEMBL1859', 'target_components': [{'accession': 'O95180', 'component_description': 'Voltage-dependent T-type calcium channel subunit alpha-1H', 'component_id': 167, 'component_type': 'PROTEIN', 'relationship': 'SINGLE PROTEIN', 'target_component_synonyms': [{'component_synonym': 'CACNA1H', 'syn_type': 'GENE_SYMBOL'}, {'component_synonym': 'Low-voltage-activated calcium channel alpha1 3.2 subunit', 'syn_type': 'UNIPROT'}, {'component_synonym': 'Voltage-dependent T-type calcium channel subunit alpha-1H', 'syn_type': 'UNIPROT'}, {'component_synonym': 'Voltage-gated calcium channel subunit alpha Cav3.2', 'syn_type': 'UNIPROT'}], 'target_component_xrefs': [{'xref_id': 'ENSG00000196557', 'xref_name': None, 'xref_src_db': 'EnsemblGene'}, {'xref_id': 'O95180', 'xref_name': None, 'xref_src_db': 'ExpressionAtlas'}, {'xref_id': 'GO:0001518', 'xref_name': 'voltage-gated sodium channel complex', 'xref_src_db': 'GoComponent'}, {'xref_id': 'GO:0005886', 'xref_name': 'plasma membrane', 'xref_src_db': 'GoComponent'}, {'xref_id': 'GO:0005887', 'xref_name': 'integral component of plasma membrane', 'xref_src_db': 'GoComponent'}, {'xref_id': 'GO:0005891', 'xref_name': 'voltage-gated calcium channel complex', 'xref_src_db': 'GoComponent'}, {'xref_id': 'GO:0016020', 'xref_name': 'membrane', 'xref_src_db': 'GoComponent'}, {'xref_id': 'GO:0016021', 'xref_name': 'integral component of membrane', 'xref_src_db': 'GoComponent'}, {'xref_id': 'GO:0043005', 'xref_name': 'neuron projection', 'xref_src_db': 'GoComponent'}, {'xref_id': 'GO:0005216', 'xref_name': 'ion channel activity', 'xref_src_db': 'GoFunction'}, {'xref_id': 'GO:0005244', 'xref_name': 'voltage-gated ion channel activity', 'xref_src_db': 'GoFunction'}, {'xref_id': 'GO:0005245', 'xref_name': 'voltage-gated calcium channel activity', 'xref_src_db': 'GoFunction'}, {'xref_id': 'GO:0005248', 'xref_name': 'voltage-gated sodium channel activity', 'xref_src_db': 'GoFunction'}, {'xref_id': 'GO:0005261', 'xref_name': 'cation channel activity', 'xref_src_db': 'GoFunction'}, {'xref_id': 'GO:0005262', 'xref_name': 'calcium channel activity', 'xref_src_db': 'GoFunction'}, {'xref_id': 'GO:0005515', 'xref_name': 'protein binding', 'xref_src_db': 'GoFunction'}, {'xref_id': 'GO:0008332', 'xref_name': 'low voltage-gated calcium channel activity', 'xref_src_db': 'GoFunction'}, {'xref_id': 'GO:0046872', 'xref_name': 'metal ion binding', 'xref_src_db': 'GoFunction'}, {'xref_id': 'GO:0097110', 'xref_name': 'scaffold protein binding', 'xref_src_db': 'GoFunction'}, {'xref_id': 'GO:0006811', 'xref_name': 'ion transport', 'xref_src_db': 'GoProcess'}, {'xref_id': 'GO:0006816', 'xref_name': 'calcium ion transport', 'xref_src_db': 'GoProcess'}, {'xref_id': 'GO:0006936', 'xref_name': 'muscle contraction', 'xref_src_db': 'GoProcess'}, {'xref_id': 'GO:0007517', 'xref_name': 'muscle organ development', 'xref_src_db': 'GoProcess'}, {'xref_id': 'GO:0007520', 'xref_name': 'myoblast fusion', 'xref_src_db': 'GoProcess'}, {'xref_id': 'GO:0008016', 'xref_name': 'regulation of heart contraction', 'xref_src_db': 'GoProcess'}, {'xref_id': 'GO:0019228', 'xref_name': 'neuronal action potential', 'xref_src_db': 'GoProcess'}, {'xref_id': 'GO:0032342', 'xref_name': 'aldosterone biosynthetic process', 'xref_src_db': 'GoProcess'}, {'xref_id': 'GO:0032870', 'xref_name': 'cellular response to hormone stimulus', 'xref_src_db': 'GoProcess'}, {'xref_id': 'GO:0034651', 'xref_name': 'cortisol biosynthetic process', 'xref_src_db': 'GoProcess'}, {'xref_id': 'GO:0034765', 'xref_name': 'regulation of ion transmembrane transport', 'xref_src_db': 'GoProcess'}, {'xref_id': 'GO:0035725', 'xref_name': 'sodium ion transmembrane transport', 'xref_src_db': 'GoProcess'}, {'xref_id': 'GO:0035865', 'xref_name': 'cellular response to potassium ion', 'xref_src_db': 'GoProcess'}, {'xref_id': 'GO:0042391', 'xref_name': 'regulation of membrane potential', 'xref_src_db': 'GoProcess'}, {'xref_id': 'GO:0045956', 'xref_name': 'positive regulation of calcium ion-dependent exocytosis', 'xref_src_db': 'GoProcess'}, {'xref_id': 'GO:0055085', 'xref_name': 'transmembrane transport', 'xref_src_db': 'GoProcess'}, {'xref_id': 'GO:0070509', 'xref_name': 'calcium ion import', 'xref_src_db': 'GoProcess'}, {'xref_id': 'GO:0070588', 'xref_name': 'calcium ion transmembrane transport', 'xref_src_db': 'GoProcess'}, {'xref_id': 'GO:0086010', 'xref_name': 'membrane depolarization during action potential', 'xref_src_db': 'GoProcess'}, {'xref_id': 'GO:0098662', 'xref_name': 'inorganic cation transmembrane transport', 'xref_src_db': 'GoProcess'}, {'xref_id': 'GO:2000344', 'xref_name': 'positive regulation of acrosome reaction', 'xref_src_db': 'GoProcess'}, {'xref_id': '536', 'xref_name': None, 'xref_src_db': 'GuideToPHARMACOLOGY'}, {'xref_id': 'O95180', 'xref_name': None, 'xref_src_db': 'IntAct'}, {'xref_id': 'IPR005445', 'xref_name': 'VDCC_T_a1.', 'xref_src_db': 'InterPro'}, {'xref_id': 'IPR005821', 'xref_name': 'Ion_trans_dom.', 'xref_src_db': 'InterPro'}, {'xref_id': 'IPR027359', 'xref_name': 'Volt_channel_dom_sf.', 'xref_src_db': 'InterPro'}, {'xref_id': 'PF00520', 'xref_name': 'Ion_trans', 'xref_src_db': 'Pfam'}, {'xref_id': 'PA380', 'xref_name': 'calcium channel, voltage-dependent, T type, alpha 1H subunit', 'xref_src_db': 'PharmGKB'}, {'xref_id': 'O95180', 'xref_name': 'Tclin', 'xref_src_db': 'Pharos'}, {'xref_id': 'R-HSA-419037', 'xref_name': 'NCAM1 interactions.', 'xref_src_db': 'Reactome'}, {'xref_id': 'B5ME00', 'xref_name': None, 'xref_src_db': 'UniProt'}, {'xref_id': 'F8WFD1', 'xref_name': None, 'xref_src_db': 'UniProt'}, {'xref_id': 'O95180', 'xref_name': None, 'xref_src_db': 'UniProt'}, {'xref_id': 'O95802', 'xref_name': None, 'xref_src_db': 'UniProt'}, {'xref_id': 'Q8WWI6', 'xref_name': None, 'xref_src_db': 'UniProt'}, {'xref_id': 'Q96QI6', 'xref_name': None, 'xref_src_db': 'UniProt'}, {'xref_id': 'Q96RZ9', 'xref_name': None, 'xref_src_db': 'UniProt'}, {'xref_id': 'Q9NYY4', 'xref_name': None, 'xref_src_db': 'UniProt'}, {'xref_id': 'Q9NYY5', 'xref_name': None, 'xref_src_db': 'UniProt'}]}], 'target_type': 'SINGLE PROTEIN', 'tax_id': 9606}, '...(remaining elements truncated)...']"
      ]
     },
     "execution_count": 9,
     "metadata": {},
     "output_type": "execute_result"
    }
   ],
   "source": [
    "targets = targets_api.get(targets_component__accession=uniprot_id)\n",
    "#targets has too much information. so we choose headers of interest.\n",
    "targets"
   ]
  },
  {
   "cell_type": "code",
   "execution_count": 10,
   "metadata": {},
   "outputs": [
    {
     "name": "stdout",
     "output_type": "stream",
     "text": [
      "The type of the targets is \"<class 'chembl_webresource_client.query_set.QuerySet'>\"\n"
     ]
    },
    {
     "data": {
      "text/plain": [
       "[{'organism': 'Homo sapiens', 'pref_name': 'Epidermal growth factor receptor erbB1', 'target_chembl_id': 'CHEMBL203', 'target_type': 'SINGLE PROTEIN'}, {'organism': 'Homo sapiens', 'pref_name': 'Epidermal growth factor receptor and ErbB2 (HER1 and HER2)', 'target_chembl_id': 'CHEMBL2111431', 'target_type': 'PROTEIN FAMILY'}, {'organism': 'Homo sapiens', 'pref_name': 'Epidermal growth factor receptor', 'target_chembl_id': 'CHEMBL2363049', 'target_type': 'PROTEIN FAMILY'}, {'organism': 'Homo sapiens', 'pref_name': 'MER intracellular domain/EGFR extracellular domain chimera', 'target_chembl_id': 'CHEMBL3137284', 'target_type': 'CHIMERIC PROTEIN'}]"
      ]
     },
     "execution_count": 10,
     "metadata": {},
     "output_type": "execute_result"
    }
   ],
   "source": [
    "targets = targets_api.get(target_components__accession=uniprot_id).only(\n",
    "    \"target_chembl_id\", \"organism\", \"pref_name\", \"target_type\"\n",
    ")\n",
    "print(f'The type of the targets is \"{type(targets)}\"')\n",
    "targets"
   ]
  },
  {
   "cell_type": "code",
   "execution_count": 11,
   "metadata": {},
   "outputs": [
    {
     "data": {
      "text/html": [
       "<div>\n",
       "<style scoped>\n",
       "    .dataframe tbody tr th:only-of-type {\n",
       "        vertical-align: middle;\n",
       "    }\n",
       "\n",
       "    .dataframe tbody tr th {\n",
       "        vertical-align: top;\n",
       "    }\n",
       "\n",
       "    .dataframe thead th {\n",
       "        text-align: right;\n",
       "    }\n",
       "</style>\n",
       "<table border=\"1\" class=\"dataframe\">\n",
       "  <thead>\n",
       "    <tr style=\"text-align: right;\">\n",
       "      <th></th>\n",
       "      <th>organism</th>\n",
       "      <th>pref_name</th>\n",
       "      <th>target_chembl_id</th>\n",
       "      <th>target_type</th>\n",
       "    </tr>\n",
       "  </thead>\n",
       "  <tbody>\n",
       "    <tr>\n",
       "      <th>0</th>\n",
       "      <td>Homo sapiens</td>\n",
       "      <td>Epidermal growth factor receptor erbB1</td>\n",
       "      <td>CHEMBL203</td>\n",
       "      <td>SINGLE PROTEIN</td>\n",
       "    </tr>\n",
       "    <tr>\n",
       "      <th>1</th>\n",
       "      <td>Homo sapiens</td>\n",
       "      <td>Epidermal growth factor receptor erbB1</td>\n",
       "      <td>CHEMBL203</td>\n",
       "      <td>SINGLE PROTEIN</td>\n",
       "    </tr>\n",
       "    <tr>\n",
       "      <th>2</th>\n",
       "      <td>Homo sapiens</td>\n",
       "      <td>Epidermal growth factor receptor and ErbB2 (HE...</td>\n",
       "      <td>CHEMBL2111431</td>\n",
       "      <td>PROTEIN FAMILY</td>\n",
       "    </tr>\n",
       "    <tr>\n",
       "      <th>3</th>\n",
       "      <td>Homo sapiens</td>\n",
       "      <td>Epidermal growth factor receptor</td>\n",
       "      <td>CHEMBL2363049</td>\n",
       "      <td>PROTEIN FAMILY</td>\n",
       "    </tr>\n",
       "    <tr>\n",
       "      <th>4</th>\n",
       "      <td>Homo sapiens</td>\n",
       "      <td>MER intracellular domain/EGFR extracellular do...</td>\n",
       "      <td>CHEMBL3137284</td>\n",
       "      <td>CHIMERIC PROTEIN</td>\n",
       "    </tr>\n",
       "  </tbody>\n",
       "</table>\n",
       "</div>"
      ],
      "text/plain": [
       "       organism                                          pref_name  \\\n",
       "0  Homo sapiens             Epidermal growth factor receptor erbB1   \n",
       "1  Homo sapiens             Epidermal growth factor receptor erbB1   \n",
       "2  Homo sapiens  Epidermal growth factor receptor and ErbB2 (HE...   \n",
       "3  Homo sapiens                   Epidermal growth factor receptor   \n",
       "4  Homo sapiens  MER intracellular domain/EGFR extracellular do...   \n",
       "\n",
       "  target_chembl_id       target_type  \n",
       "0        CHEMBL203    SINGLE PROTEIN  \n",
       "1        CHEMBL203    SINGLE PROTEIN  \n",
       "2    CHEMBL2111431    PROTEIN FAMILY  \n",
       "3    CHEMBL2363049    PROTEIN FAMILY  \n",
       "4    CHEMBL3137284  CHIMERIC PROTEIN  "
      ]
     },
     "execution_count": 11,
     "metadata": {},
     "output_type": "execute_result"
    }
   ],
   "source": [
    "# converting to Pandas dataframe for better understanding.\n",
    "targets = pd.DataFrame.from_records(targets)\n",
    "targets"
   ]
  },
  {
   "cell_type": "code",
   "execution_count": 12,
   "metadata": {},
   "outputs": [
    {
     "data": {
      "text/plain": [
       "organism                                      Homo sapiens\n",
       "pref_name           Epidermal growth factor receptor erbB1\n",
       "target_chembl_id                                 CHEMBL203\n",
       "target_type                                 SINGLE PROTEIN\n",
       "Name: 0, dtype: object"
      ]
     },
     "execution_count": 12,
     "metadata": {},
     "output_type": "execute_result"
    }
   ],
   "source": [
    "## chosing target id\n",
    "target=targets.iloc[0]\n",
    "target"
   ]
  },
  {
   "cell_type": "code",
   "execution_count": 13,
   "metadata": {},
   "outputs": [
    {
     "data": {
      "text/plain": [
       "'CHEMBL203'"
      ]
     },
     "execution_count": 13,
     "metadata": {},
     "output_type": "execute_result"
    },
    {
     "name": "stdout",
     "output_type": "stream",
     "text": [
      "The target ChEMBL ID is CHEMBL203\n"
     ]
    }
   ],
   "source": [
    "chembl_id = target.target_chembl_id\n",
    "chembl_id\n",
    "print(f\"The target ChEMBL ID is {chembl_id}\")"
   ]
  },
  {
   "cell_type": "code",
   "execution_count": 14,
   "metadata": {},
   "outputs": [
    {
     "name": "stdout",
     "output_type": "stream",
     "text": [
      "Length and type of bioactivities object: 7177, <class 'chembl_webresource_client.query_set.QuerySet'>\n"
     ]
    }
   ],
   "source": [
    "bioactivities = bioactivities_api.filter(\n",
    "    target_chembl_id=chembl_id, type=\"IC50\", relation=\"=\", assay_type=\"B\"\n",
    ").only(\n",
    "    \"activity_id\",\n",
    "    \"assay_chembl_id\",\n",
    "    \"assay_description\",\n",
    "    \"assay_type\",\n",
    "    \"molecule_chembl_id\",\n",
    "    \"type\",\n",
    "    \"standard_units\",\n",
    "    \"relation\",\n",
    "    \"standard_value\",\n",
    "    \"target_chembl_id\",\n",
    "    \"target_organism\",\n",
    ")\n",
    "\n",
    "print(f\"Length and type of bioactivities object: {len(bioactivities)}, {type(bioactivities)}\")"
   ]
  },
  {
   "cell_type": "code",
   "execution_count": 15,
   "metadata": {},
   "outputs": [
    {
     "name": "stdout",
     "output_type": "stream",
     "text": [
      "Length and type of first element: 13, <class 'dict'>\n"
     ]
    },
    {
     "data": {
      "text/plain": [
       "{'activity_id': 32260,\n",
       " 'assay_chembl_id': 'CHEMBL674637',\n",
       " 'assay_description': 'Inhibitory activity towards tyrosine phosphorylation for the epidermal growth factor-receptor kinase',\n",
       " 'assay_type': 'B',\n",
       " 'molecule_chembl_id': 'CHEMBL68920',\n",
       " 'relation': '=',\n",
       " 'standard_units': 'nM',\n",
       " 'standard_value': '41.0',\n",
       " 'target_chembl_id': 'CHEMBL203',\n",
       " 'target_organism': 'Homo sapiens',\n",
       " 'type': 'IC50',\n",
       " 'units': 'uM',\n",
       " 'value': '0.041'}"
      ]
     },
     "execution_count": 15,
     "metadata": {},
     "output_type": "execute_result"
    }
   ],
   "source": [
    "print(f\"Length and type of first element: {len(bioactivities[0])}, {type(bioactivities[0])}\")\n",
    "bioactivities[0]"
   ]
  },
  {
   "cell_type": "markdown",
   "metadata": {},
   "source": [
    "## The step below takes longer time to fetch data and is expected. \n",
    "If you face error or there is no data in dataframe, run above two cells and then run cell below"
   ]
  },
  {
   "cell_type": "code",
   "execution_count": 16,
   "metadata": {},
   "outputs": [
    {
     "name": "stdout",
     "output_type": "stream",
     "text": [
      "DataFrame shape: (7178, 13)\n"
     ]
    },
    {
     "data": {
      "text/html": [
       "<div>\n",
       "<style scoped>\n",
       "    .dataframe tbody tr th:only-of-type {\n",
       "        vertical-align: middle;\n",
       "    }\n",
       "\n",
       "    .dataframe tbody tr th {\n",
       "        vertical-align: top;\n",
       "    }\n",
       "\n",
       "    .dataframe thead th {\n",
       "        text-align: right;\n",
       "    }\n",
       "</style>\n",
       "<table border=\"1\" class=\"dataframe\">\n",
       "  <thead>\n",
       "    <tr style=\"text-align: right;\">\n",
       "      <th></th>\n",
       "      <th>activity_id</th>\n",
       "      <th>assay_chembl_id</th>\n",
       "      <th>assay_description</th>\n",
       "      <th>assay_type</th>\n",
       "      <th>molecule_chembl_id</th>\n",
       "      <th>relation</th>\n",
       "      <th>standard_units</th>\n",
       "      <th>standard_value</th>\n",
       "      <th>target_chembl_id</th>\n",
       "      <th>target_organism</th>\n",
       "      <th>type</th>\n",
       "      <th>units</th>\n",
       "      <th>value</th>\n",
       "    </tr>\n",
       "  </thead>\n",
       "  <tbody>\n",
       "    <tr>\n",
       "      <th>0</th>\n",
       "      <td>32260</td>\n",
       "      <td>CHEMBL674637</td>\n",
       "      <td>Inhibitory activity towards tyrosine phosphory...</td>\n",
       "      <td>B</td>\n",
       "      <td>CHEMBL68920</td>\n",
       "      <td>=</td>\n",
       "      <td>nM</td>\n",
       "      <td>41.0</td>\n",
       "      <td>CHEMBL203</td>\n",
       "      <td>Homo sapiens</td>\n",
       "      <td>IC50</td>\n",
       "      <td>uM</td>\n",
       "      <td>0.041</td>\n",
       "    </tr>\n",
       "    <tr>\n",
       "      <th>1</th>\n",
       "      <td>32260</td>\n",
       "      <td>CHEMBL674637</td>\n",
       "      <td>Inhibitory activity towards tyrosine phosphory...</td>\n",
       "      <td>B</td>\n",
       "      <td>CHEMBL68920</td>\n",
       "      <td>=</td>\n",
       "      <td>nM</td>\n",
       "      <td>41.0</td>\n",
       "      <td>CHEMBL203</td>\n",
       "      <td>Homo sapiens</td>\n",
       "      <td>IC50</td>\n",
       "      <td>uM</td>\n",
       "      <td>0.041</td>\n",
       "    </tr>\n",
       "    <tr>\n",
       "      <th>2</th>\n",
       "      <td>32267</td>\n",
       "      <td>CHEMBL674637</td>\n",
       "      <td>Inhibitory activity towards tyrosine phosphory...</td>\n",
       "      <td>B</td>\n",
       "      <td>CHEMBL69960</td>\n",
       "      <td>=</td>\n",
       "      <td>nM</td>\n",
       "      <td>170.0</td>\n",
       "      <td>CHEMBL203</td>\n",
       "      <td>Homo sapiens</td>\n",
       "      <td>IC50</td>\n",
       "      <td>uM</td>\n",
       "      <td>0.17</td>\n",
       "    </tr>\n",
       "    <tr>\n",
       "      <th>3</th>\n",
       "      <td>32680</td>\n",
       "      <td>CHEMBL677833</td>\n",
       "      <td>In vitro inhibition of Epidermal growth factor...</td>\n",
       "      <td>B</td>\n",
       "      <td>CHEMBL137635</td>\n",
       "      <td>=</td>\n",
       "      <td>nM</td>\n",
       "      <td>9300.0</td>\n",
       "      <td>CHEMBL203</td>\n",
       "      <td>Homo sapiens</td>\n",
       "      <td>IC50</td>\n",
       "      <td>uM</td>\n",
       "      <td>9.3</td>\n",
       "    </tr>\n",
       "    <tr>\n",
       "      <th>4</th>\n",
       "      <td>32770</td>\n",
       "      <td>CHEMBL674643</td>\n",
       "      <td>Inhibitory concentration of EGF dependent auto...</td>\n",
       "      <td>B</td>\n",
       "      <td>CHEMBL306988</td>\n",
       "      <td>=</td>\n",
       "      <td>nM</td>\n",
       "      <td>500000.0</td>\n",
       "      <td>CHEMBL203</td>\n",
       "      <td>Homo sapiens</td>\n",
       "      <td>IC50</td>\n",
       "      <td>uM</td>\n",
       "      <td>500.0</td>\n",
       "    </tr>\n",
       "    <tr>\n",
       "      <th>...</th>\n",
       "      <td>...</td>\n",
       "      <td>...</td>\n",
       "      <td>...</td>\n",
       "      <td>...</td>\n",
       "      <td>...</td>\n",
       "      <td>...</td>\n",
       "      <td>...</td>\n",
       "      <td>...</td>\n",
       "      <td>...</td>\n",
       "      <td>...</td>\n",
       "      <td>...</td>\n",
       "      <td>...</td>\n",
       "      <td>...</td>\n",
       "    </tr>\n",
       "    <tr>\n",
       "      <th>7173</th>\n",
       "      <td>18798661</td>\n",
       "      <td>CHEMBL4274201</td>\n",
       "      <td>Inhibition of recombinant human EGFR L858R mut...</td>\n",
       "      <td>B</td>\n",
       "      <td>CHEMBL554</td>\n",
       "      <td>=</td>\n",
       "      <td>nM</td>\n",
       "      <td>37.55</td>\n",
       "      <td>CHEMBL203</td>\n",
       "      <td>Homo sapiens</td>\n",
       "      <td>IC50</td>\n",
       "      <td>nM</td>\n",
       "      <td>37.55</td>\n",
       "    </tr>\n",
       "    <tr>\n",
       "      <th>7174</th>\n",
       "      <td>18798662</td>\n",
       "      <td>CHEMBL4274201</td>\n",
       "      <td>Inhibition of recombinant human EGFR L858R mut...</td>\n",
       "      <td>B</td>\n",
       "      <td>CHEMBL939</td>\n",
       "      <td>=</td>\n",
       "      <td>nM</td>\n",
       "      <td>11.5</td>\n",
       "      <td>CHEMBL203</td>\n",
       "      <td>Homo sapiens</td>\n",
       "      <td>IC50</td>\n",
       "      <td>nM</td>\n",
       "      <td>11.5</td>\n",
       "    </tr>\n",
       "    <tr>\n",
       "      <th>7175</th>\n",
       "      <td>18798663</td>\n",
       "      <td>CHEMBL4274202</td>\n",
       "      <td>Inhibition of N-terminal GST-tagged recombinan...</td>\n",
       "      <td>B</td>\n",
       "      <td>CHEMBL4282506</td>\n",
       "      <td>=</td>\n",
       "      <td>nM</td>\n",
       "      <td>137.3</td>\n",
       "      <td>CHEMBL203</td>\n",
       "      <td>Homo sapiens</td>\n",
       "      <td>IC50</td>\n",
       "      <td>nM</td>\n",
       "      <td>137.3</td>\n",
       "    </tr>\n",
       "    <tr>\n",
       "      <th>7176</th>\n",
       "      <td>18798664</td>\n",
       "      <td>CHEMBL4274202</td>\n",
       "      <td>Inhibition of N-terminal GST-tagged recombinan...</td>\n",
       "      <td>B</td>\n",
       "      <td>CHEMBL554</td>\n",
       "      <td>=</td>\n",
       "      <td>nM</td>\n",
       "      <td>224.89</td>\n",
       "      <td>CHEMBL203</td>\n",
       "      <td>Homo sapiens</td>\n",
       "      <td>IC50</td>\n",
       "      <td>nM</td>\n",
       "      <td>224.89</td>\n",
       "    </tr>\n",
       "    <tr>\n",
       "      <th>7177</th>\n",
       "      <td>18798665</td>\n",
       "      <td>CHEMBL4274202</td>\n",
       "      <td>Inhibition of N-terminal GST-tagged recombinan...</td>\n",
       "      <td>B</td>\n",
       "      <td>CHEMBL939</td>\n",
       "      <td>=</td>\n",
       "      <td>nM</td>\n",
       "      <td>129.7</td>\n",
       "      <td>CHEMBL203</td>\n",
       "      <td>Homo sapiens</td>\n",
       "      <td>IC50</td>\n",
       "      <td>nM</td>\n",
       "      <td>129.7</td>\n",
       "    </tr>\n",
       "  </tbody>\n",
       "</table>\n",
       "<p>7178 rows × 13 columns</p>\n",
       "</div>"
      ],
      "text/plain": [
       "      activity_id assay_chembl_id  \\\n",
       "0           32260    CHEMBL674637   \n",
       "1           32260    CHEMBL674637   \n",
       "2           32267    CHEMBL674637   \n",
       "3           32680    CHEMBL677833   \n",
       "4           32770    CHEMBL674643   \n",
       "...           ...             ...   \n",
       "7173     18798661   CHEMBL4274201   \n",
       "7174     18798662   CHEMBL4274201   \n",
       "7175     18798663   CHEMBL4274202   \n",
       "7176     18798664   CHEMBL4274202   \n",
       "7177     18798665   CHEMBL4274202   \n",
       "\n",
       "                                      assay_description assay_type  \\\n",
       "0     Inhibitory activity towards tyrosine phosphory...          B   \n",
       "1     Inhibitory activity towards tyrosine phosphory...          B   \n",
       "2     Inhibitory activity towards tyrosine phosphory...          B   \n",
       "3     In vitro inhibition of Epidermal growth factor...          B   \n",
       "4     Inhibitory concentration of EGF dependent auto...          B   \n",
       "...                                                 ...        ...   \n",
       "7173  Inhibition of recombinant human EGFR L858R mut...          B   \n",
       "7174  Inhibition of recombinant human EGFR L858R mut...          B   \n",
       "7175  Inhibition of N-terminal GST-tagged recombinan...          B   \n",
       "7176  Inhibition of N-terminal GST-tagged recombinan...          B   \n",
       "7177  Inhibition of N-terminal GST-tagged recombinan...          B   \n",
       "\n",
       "     molecule_chembl_id relation standard_units standard_value  \\\n",
       "0           CHEMBL68920        =             nM           41.0   \n",
       "1           CHEMBL68920        =             nM           41.0   \n",
       "2           CHEMBL69960        =             nM          170.0   \n",
       "3          CHEMBL137635        =             nM         9300.0   \n",
       "4          CHEMBL306988        =             nM       500000.0   \n",
       "...                 ...      ...            ...            ...   \n",
       "7173          CHEMBL554        =             nM          37.55   \n",
       "7174          CHEMBL939        =             nM           11.5   \n",
       "7175      CHEMBL4282506        =             nM          137.3   \n",
       "7176          CHEMBL554        =             nM         224.89   \n",
       "7177          CHEMBL939        =             nM          129.7   \n",
       "\n",
       "     target_chembl_id target_organism  type units   value  \n",
       "0           CHEMBL203    Homo sapiens  IC50    uM   0.041  \n",
       "1           CHEMBL203    Homo sapiens  IC50    uM   0.041  \n",
       "2           CHEMBL203    Homo sapiens  IC50    uM    0.17  \n",
       "3           CHEMBL203    Homo sapiens  IC50    uM     9.3  \n",
       "4           CHEMBL203    Homo sapiens  IC50    uM   500.0  \n",
       "...               ...             ...   ...   ...     ...  \n",
       "7173        CHEMBL203    Homo sapiens  IC50    nM   37.55  \n",
       "7174        CHEMBL203    Homo sapiens  IC50    nM    11.5  \n",
       "7175        CHEMBL203    Homo sapiens  IC50    nM   137.3  \n",
       "7176        CHEMBL203    Homo sapiens  IC50    nM  224.89  \n",
       "7177        CHEMBL203    Homo sapiens  IC50    nM   129.7  \n",
       "\n",
       "[7178 rows x 13 columns]"
      ]
     },
     "execution_count": 16,
     "metadata": {},
     "output_type": "execute_result"
    }
   ],
   "source": [
    "bioactivities_df = pd.DataFrame.from_records(bioactivities)\n",
    "print(f\"DataFrame shape: {bioactivities_df.shape}\")\n",
    "bioactivities_df"
   ]
  },
  {
   "cell_type": "code",
   "execution_count": 17,
   "metadata": {},
   "outputs": [
    {
     "data": {
      "text/plain": [
       "array(['uM', 'nM', 'pM', 'M', \"10'3 uM\", \"10'1 ug/ml\", 'ug ml-1',\n",
       "       \"10'-1microM\", \"10'1 uM\", \"10'-1 ug/ml\", \"10'-2 ug/ml\", \"10'2 uM\",\n",
       "       \"10'-3 ug/ml\", \"10'-2microM\", '/uM', \"10'-6g/ml\", 'mM', 'umol/L',\n",
       "       'nmol/L', \"10'-10M\"], dtype=object)"
      ]
     },
     "execution_count": 17,
     "metadata": {},
     "output_type": "execute_result"
    }
   ],
   "source": [
    "bioactivities_df[\"units\"].unique()"
   ]
  },
  {
   "cell_type": "code",
   "execution_count": 18,
   "metadata": {},
   "outputs": [
    {
     "data": {
      "text/html": [
       "<div>\n",
       "<style scoped>\n",
       "    .dataframe tbody tr th:only-of-type {\n",
       "        vertical-align: middle;\n",
       "    }\n",
       "\n",
       "    .dataframe tbody tr th {\n",
       "        vertical-align: top;\n",
       "    }\n",
       "\n",
       "    .dataframe thead th {\n",
       "        text-align: right;\n",
       "    }\n",
       "</style>\n",
       "<table border=\"1\" class=\"dataframe\">\n",
       "  <thead>\n",
       "    <tr style=\"text-align: right;\">\n",
       "      <th></th>\n",
       "      <th>activity_id</th>\n",
       "      <th>assay_chembl_id</th>\n",
       "      <th>assay_description</th>\n",
       "      <th>assay_type</th>\n",
       "      <th>molecule_chembl_id</th>\n",
       "      <th>relation</th>\n",
       "      <th>standard_units</th>\n",
       "      <th>standard_value</th>\n",
       "      <th>target_chembl_id</th>\n",
       "      <th>target_organism</th>\n",
       "      <th>type</th>\n",
       "    </tr>\n",
       "  </thead>\n",
       "  <tbody>\n",
       "    <tr>\n",
       "      <th>0</th>\n",
       "      <td>32260</td>\n",
       "      <td>CHEMBL674637</td>\n",
       "      <td>Inhibitory activity towards tyrosine phosphory...</td>\n",
       "      <td>B</td>\n",
       "      <td>CHEMBL68920</td>\n",
       "      <td>=</td>\n",
       "      <td>nM</td>\n",
       "      <td>41.0</td>\n",
       "      <td>CHEMBL203</td>\n",
       "      <td>Homo sapiens</td>\n",
       "      <td>IC50</td>\n",
       "    </tr>\n",
       "    <tr>\n",
       "      <th>1</th>\n",
       "      <td>32260</td>\n",
       "      <td>CHEMBL674637</td>\n",
       "      <td>Inhibitory activity towards tyrosine phosphory...</td>\n",
       "      <td>B</td>\n",
       "      <td>CHEMBL68920</td>\n",
       "      <td>=</td>\n",
       "      <td>nM</td>\n",
       "      <td>41.0</td>\n",
       "      <td>CHEMBL203</td>\n",
       "      <td>Homo sapiens</td>\n",
       "      <td>IC50</td>\n",
       "    </tr>\n",
       "    <tr>\n",
       "      <th>2</th>\n",
       "      <td>32267</td>\n",
       "      <td>CHEMBL674637</td>\n",
       "      <td>Inhibitory activity towards tyrosine phosphory...</td>\n",
       "      <td>B</td>\n",
       "      <td>CHEMBL69960</td>\n",
       "      <td>=</td>\n",
       "      <td>nM</td>\n",
       "      <td>170.0</td>\n",
       "      <td>CHEMBL203</td>\n",
       "      <td>Homo sapiens</td>\n",
       "      <td>IC50</td>\n",
       "    </tr>\n",
       "    <tr>\n",
       "      <th>3</th>\n",
       "      <td>32680</td>\n",
       "      <td>CHEMBL677833</td>\n",
       "      <td>In vitro inhibition of Epidermal growth factor...</td>\n",
       "      <td>B</td>\n",
       "      <td>CHEMBL137635</td>\n",
       "      <td>=</td>\n",
       "      <td>nM</td>\n",
       "      <td>9300.0</td>\n",
       "      <td>CHEMBL203</td>\n",
       "      <td>Homo sapiens</td>\n",
       "      <td>IC50</td>\n",
       "    </tr>\n",
       "    <tr>\n",
       "      <th>4</th>\n",
       "      <td>32770</td>\n",
       "      <td>CHEMBL674643</td>\n",
       "      <td>Inhibitory concentration of EGF dependent auto...</td>\n",
       "      <td>B</td>\n",
       "      <td>CHEMBL306988</td>\n",
       "      <td>=</td>\n",
       "      <td>nM</td>\n",
       "      <td>500000.0</td>\n",
       "      <td>CHEMBL203</td>\n",
       "      <td>Homo sapiens</td>\n",
       "      <td>IC50</td>\n",
       "    </tr>\n",
       "  </tbody>\n",
       "</table>\n",
       "</div>"
      ],
      "text/plain": [
       "   activity_id assay_chembl_id  \\\n",
       "0        32260    CHEMBL674637   \n",
       "1        32260    CHEMBL674637   \n",
       "2        32267    CHEMBL674637   \n",
       "3        32680    CHEMBL677833   \n",
       "4        32770    CHEMBL674643   \n",
       "\n",
       "                                   assay_description assay_type  \\\n",
       "0  Inhibitory activity towards tyrosine phosphory...          B   \n",
       "1  Inhibitory activity towards tyrosine phosphory...          B   \n",
       "2  Inhibitory activity towards tyrosine phosphory...          B   \n",
       "3  In vitro inhibition of Epidermal growth factor...          B   \n",
       "4  Inhibitory concentration of EGF dependent auto...          B   \n",
       "\n",
       "  molecule_chembl_id relation standard_units standard_value target_chembl_id  \\\n",
       "0        CHEMBL68920        =             nM           41.0        CHEMBL203   \n",
       "1        CHEMBL68920        =             nM           41.0        CHEMBL203   \n",
       "2        CHEMBL69960        =             nM          170.0        CHEMBL203   \n",
       "3       CHEMBL137635        =             nM         9300.0        CHEMBL203   \n",
       "4       CHEMBL306988        =             nM       500000.0        CHEMBL203   \n",
       "\n",
       "  target_organism  type  \n",
       "0    Homo sapiens  IC50  \n",
       "1    Homo sapiens  IC50  \n",
       "2    Homo sapiens  IC50  \n",
       "3    Homo sapiens  IC50  \n",
       "4    Homo sapiens  IC50  "
      ]
     },
     "execution_count": 18,
     "metadata": {},
     "output_type": "execute_result"
    }
   ],
   "source": [
    "bioactivities_df.drop([\"units\", \"value\"], axis=1, inplace=True)\n",
    "bioactivities_df.head()"
   ]
  },
  {
   "cell_type": "code",
   "execution_count": 19,
   "metadata": {},
   "outputs": [
    {
     "ename": "FileNotFoundError",
     "evalue": "[Errno 2] No such file or directory: '/home/mandar/git_repos/TeachopenCADD_Excercises/T001_Compound_data_acquisition_chEMBL/data/chembl27_activities.npz.zip'",
     "output_type": "error",
     "traceback": [
      "\u001b[0;31m---------------------------------------------------------------------------\u001b[0m",
      "\u001b[0;31mFileNotFoundError\u001b[0m                         Traceback (most recent call last)",
      "\u001b[0;32m<ipython-input-19-93e51bf899b5>\u001b[0m in \u001b[0;36m<module>\u001b[0;34m\u001b[0m\n\u001b[0;32m----> 1\u001b[0;31m \u001b[0;32mwith\u001b[0m \u001b[0mZipFile\u001b[0m\u001b[0;34m(\u001b[0m\u001b[0mDATA\u001b[0m \u001b[0;34m/\u001b[0m \u001b[0;34m\"chembl27_activities.npz.zip\"\u001b[0m\u001b[0;34m)\u001b[0m \u001b[0;32mas\u001b[0m \u001b[0mz\u001b[0m\u001b[0;34m,\u001b[0m \u001b[0mTemporaryDirectory\u001b[0m\u001b[0;34m(\u001b[0m\u001b[0;34m)\u001b[0m \u001b[0;32mas\u001b[0m \u001b[0mtmpdir\u001b[0m\u001b[0;34m:\u001b[0m\u001b[0;34m\u001b[0m\u001b[0;34m\u001b[0m\u001b[0m\n\u001b[0m\u001b[1;32m      2\u001b[0m     \u001b[0mz\u001b[0m\u001b[0;34m.\u001b[0m\u001b[0mextract\u001b[0m\u001b[0;34m(\u001b[0m\u001b[0;34m\"chembl27_activities.npz\"\u001b[0m\u001b[0;34m,\u001b[0m \u001b[0mtmpdir\u001b[0m\u001b[0;34m)\u001b[0m\u001b[0;34m\u001b[0m\u001b[0;34m\u001b[0m\u001b[0m\n\u001b[1;32m      3\u001b[0m     \u001b[0;32mwith\u001b[0m \u001b[0mnp\u001b[0m\u001b[0;34m.\u001b[0m\u001b[0mload\u001b[0m\u001b[0;34m(\u001b[0m\u001b[0mPath\u001b[0m\u001b[0;34m(\u001b[0m\u001b[0mtmpdir\u001b[0m\u001b[0;34m)\u001b[0m \u001b[0;34m/\u001b[0m \u001b[0;34m\"chembl27_activities.npz\"\u001b[0m\u001b[0;34m)\u001b[0m \u001b[0;32mas\u001b[0m \u001b[0mf\u001b[0m\u001b[0;34m:\u001b[0m\u001b[0;34m\u001b[0m\u001b[0;34m\u001b[0m\u001b[0m\n\u001b[1;32m      4\u001b[0m         \u001b[0mbioactivity_ids_chembl_27\u001b[0m \u001b[0;34m=\u001b[0m \u001b[0mset\u001b[0m\u001b[0;34m(\u001b[0m\u001b[0mf\u001b[0m\u001b[0;34m[\u001b[0m\u001b[0;34m\"activities\"\u001b[0m\u001b[0;34m]\u001b[0m\u001b[0;34m)\u001b[0m\u001b[0;34m\u001b[0m\u001b[0;34m\u001b[0m\u001b[0m\n\u001b[1;32m      5\u001b[0m \u001b[0;34m\u001b[0m\u001b[0m\n",
      "\u001b[0;32m~/anaconda3/envs/teachopencadd/lib/python3.8/zipfile.py\u001b[0m in \u001b[0;36m__init__\u001b[0;34m(self, file, mode, compression, allowZip64, compresslevel, strict_timestamps)\u001b[0m\n\u001b[1;32m   1249\u001b[0m             \u001b[0;32mwhile\u001b[0m \u001b[0;32mTrue\u001b[0m\u001b[0;34m:\u001b[0m\u001b[0;34m\u001b[0m\u001b[0;34m\u001b[0m\u001b[0m\n\u001b[1;32m   1250\u001b[0m                 \u001b[0;32mtry\u001b[0m\u001b[0;34m:\u001b[0m\u001b[0;34m\u001b[0m\u001b[0;34m\u001b[0m\u001b[0m\n\u001b[0;32m-> 1251\u001b[0;31m                     \u001b[0mself\u001b[0m\u001b[0;34m.\u001b[0m\u001b[0mfp\u001b[0m \u001b[0;34m=\u001b[0m \u001b[0mio\u001b[0m\u001b[0;34m.\u001b[0m\u001b[0mopen\u001b[0m\u001b[0;34m(\u001b[0m\u001b[0mfile\u001b[0m\u001b[0;34m,\u001b[0m \u001b[0mfilemode\u001b[0m\u001b[0;34m)\u001b[0m\u001b[0;34m\u001b[0m\u001b[0;34m\u001b[0m\u001b[0m\n\u001b[0m\u001b[1;32m   1252\u001b[0m                 \u001b[0;32mexcept\u001b[0m \u001b[0mOSError\u001b[0m\u001b[0;34m:\u001b[0m\u001b[0;34m\u001b[0m\u001b[0;34m\u001b[0m\u001b[0m\n\u001b[1;32m   1253\u001b[0m                     \u001b[0;32mif\u001b[0m \u001b[0mfilemode\u001b[0m \u001b[0;32min\u001b[0m \u001b[0mmodeDict\u001b[0m\u001b[0;34m:\u001b[0m\u001b[0;34m\u001b[0m\u001b[0;34m\u001b[0m\u001b[0m\n",
      "\u001b[0;31mFileNotFoundError\u001b[0m: [Errno 2] No such file or directory: '/home/mandar/git_repos/TeachopenCADD_Excercises/T001_Compound_data_acquisition_chEMBL/data/chembl27_activities.npz.zip'"
     ]
    }
   ],
   "source": [
    "with ZipFile(DATA / \"chembl27_activities.npz.zip\") as z, TemporaryDirectory() as tmpdir:\n",
    "    z.extract(\"chembl27_activities.npz\", tmpdir)\n",
    "    with np.load(Path(tmpdir) / \"chembl27_activities.npz\") as f:\n",
    "        bioactivity_ids_chembl_27 = set(f[\"activities\"])\n",
    "\n",
    "print(f\"Number of bioactivity values in full ChEMBL 27 release: {len(bioactivity_ids_chembl_27)}\")\n",
    "# NBVAL_CHECK_OUTPUT\n"
   ]
  },
  {
   "cell_type": "code",
   "execution_count": null,
   "metadata": {},
   "outputs": [],
   "source": [
    "DATA"
   ]
  },
  {
   "cell_type": "code",
   "execution_count": null,
   "metadata": {},
   "outputs": [],
   "source": []
  }
 ],
 "metadata": {
  "kernelspec": {
   "display_name": "Python 3",
   "language": "python",
   "name": "python3"
  },
  "language_info": {
   "codemirror_mode": {
    "name": "ipython",
    "version": 3
   },
   "file_extension": ".py",
   "mimetype": "text/x-python",
   "name": "python",
   "nbconvert_exporter": "python",
   "pygments_lexer": "ipython3",
   "version": "3.8.6"
  }
 },
 "nbformat": 4,
 "nbformat_minor": 4
}
