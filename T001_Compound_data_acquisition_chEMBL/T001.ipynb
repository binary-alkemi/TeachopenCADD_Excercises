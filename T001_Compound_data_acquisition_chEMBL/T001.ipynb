{
 "cells": [
  {
   "cell_type": "code",
   "execution_count": 1,
   "metadata": {},
   "outputs": [],
   "source": [
    "import sys\n",
    "import math\n",
    "from pathlib import Path\n",
    "from zipfile import ZipFile\n",
    "from tempfile import TemporaryDirectory\n",
    "import numpy as np\n",
    "import pandas as pd\n",
    "from rdkit.Chem import PandasTools"
   ]
  },
  {
   "cell_type": "code",
   "execution_count": 2,
   "metadata": {},
   "outputs": [],
   "source": [
    "from chembl_webresource_client.new_client import new_client"
   ]
  },
  {
   "cell_type": "code",
   "execution_count": 3,
   "metadata": {},
   "outputs": [],
   "source": [
    "## display all results and not only last result\n",
    "from IPython.core.interactiveshell import InteractiveShell\n",
    "\n",
    "InteractiveShell.ast_node_interactivity = \"all\"\n"
   ]
  },
  {
   "cell_type": "code",
   "execution_count": 4,
   "metadata": {},
   "outputs": [],
   "source": [
    "HERE = Path(_dh[-1])\n",
    "DATA = HERE / \"data\""
   ]
  },
  {
   "cell_type": "code",
   "execution_count": 5,
   "metadata": {},
   "outputs": [
    {
     "data": {
      "text/plain": [
       "PosixPath('/home/mandar/git_repos/TeachopenCADD_Excercises/T001_Compound_data_acquisition_chEMBL')"
      ]
     },
     "execution_count": 5,
     "metadata": {},
     "output_type": "execute_result"
    },
    {
     "data": {
      "text/plain": [
       "PosixPath('/home/mandar/git_repos/TeachopenCADD_Excercises/T001_Compound_data_acquisition_chEMBL/data')"
      ]
     },
     "execution_count": 5,
     "metadata": {},
     "output_type": "execute_result"
    }
   ],
   "source": [
    "# checking variables\n",
    "HERE\n",
    "DATA"
   ]
  },
  {
   "cell_type": "code",
   "execution_count": 6,
   "metadata": {},
   "outputs": [],
   "source": [
    "targets_api = new_client.target\n",
    "compounds_api = new_client.molecule\n",
    "bioactivities_api = new_client.activity"
   ]
  },
  {
   "cell_type": "code",
   "execution_count": 7,
   "metadata": {},
   "outputs": [
    {
     "data": {
      "text/plain": [
       "chembl_webresource_client.query_set.QuerySet"
      ]
     },
     "execution_count": 7,
     "metadata": {},
     "output_type": "execute_result"
    }
   ],
   "source": [
    "type(targets_api)"
   ]
  },
  {
   "cell_type": "code",
   "execution_count": 8,
   "metadata": {},
   "outputs": [],
   "source": [
    "## import target protein based on UniProt ID , example :EGFR kinase P00533\n",
    "uniprot_id = \"P00533\""
   ]
  },
  {
   "cell_type": "code",
   "execution_count": 9,
   "metadata": {},
   "outputs": [
    {
     "data": {
      "text/plain": [
       "[{'cross_references': [{'xref_id': 'O43451', 'xref_name': None, 'xref_src': 'canSAR-Target'}, {'xref_id': 'Maltase-glucoamylase', 'xref_name': None, 'xref_src': 'Wikipedia'}], 'organism': 'Homo sapiens', 'pref_name': 'Maltase-glucoamylase', 'species_group_flag': False, 'target_chembl_id': 'CHEMBL2074', 'target_components': [{'accession': 'O43451', 'component_description': 'Maltase-glucoamylase, intestinal', 'component_id': 434, 'component_type': 'PROTEIN', 'relationship': 'SINGLE PROTEIN', 'target_component_synonyms': [{'component_synonym': '3.2.1.20', 'syn_type': 'EC_NUMBER'}, {'component_synonym': '3.2.1.3', 'syn_type': 'EC_NUMBER'}, {'component_synonym': 'Alpha-glucosidase', 'syn_type': 'UNIPROT'}, {'component_synonym': 'Glucan 1,4-alpha-glucosidase', 'syn_type': 'UNIPROT'}, {'component_synonym': 'Glucoamylase', 'syn_type': 'UNIPROT'}, {'component_synonym': 'Maltase', 'syn_type': 'UNIPROT'}, {'component_synonym': 'Maltase-glucoamylase, intestinal', 'syn_type': 'UNIPROT'}, {'component_synonym': 'MGA', 'syn_type': 'GENE_SYMBOL_OTHER'}, {'component_synonym': 'MGAM', 'syn_type': 'GENE_SYMBOL'}, {'component_synonym': 'MGAML', 'syn_type': 'GENE_SYMBOL_OTHER'}], 'target_component_xrefs': [{'xref_id': 'ENSG00000257335', 'xref_name': None, 'xref_src_db': 'EnsemblGene'}, {'xref_id': 'O43451', 'xref_name': None, 'xref_src_db': 'ExpressionAtlas'}, {'xref_id': 'GO:0005886', 'xref_name': 'plasma membrane', 'xref_src_db': 'GoComponent'}, {'xref_id': 'GO:0016020', 'xref_name': 'membrane', 'xref_src_db': 'GoComponent'}, {'xref_id': 'GO:0016021', 'xref_name': 'integral component of membrane', 'xref_src_db': 'GoComponent'}, {'xref_id': 'GO:0016324', 'xref_name': 'apical plasma membrane', 'xref_src_db': 'GoComponent'}, {'xref_id': 'GO:0070062', 'xref_name': 'extracellular exosome', 'xref_src_db': 'GoComponent'}, {'xref_id': 'GO:0070821', 'xref_name': 'tertiary granule membrane', 'xref_src_db': 'GoComponent'}, {'xref_id': 'GO:0101003', 'xref_name': 'ficolin-1-rich granule membrane', 'xref_src_db': 'GoComponent'}, {'xref_id': 'GO:0003824', 'xref_name': 'catalytic activity', 'xref_src_db': 'GoFunction'}, {'xref_id': 'GO:0004339', 'xref_name': 'glucan 1,4-alpha-glucosidase activity', 'xref_src_db': 'GoFunction'}, {'xref_id': 'GO:0004553', 'xref_name': 'hydrolase activity, hydrolyzing O-glycosyl compounds', 'xref_src_db': 'GoFunction'}, {'xref_id': 'GO:0004558', 'xref_name': 'alpha-1,4-glucosidase activity', 'xref_src_db': 'GoFunction'}, {'xref_id': 'GO:0016160', 'xref_name': 'amylase activity', 'xref_src_db': 'GoFunction'}, {'xref_id': 'GO:0016787', 'xref_name': 'hydrolase activity', 'xref_src_db': 'GoFunction'}, {'xref_id': 'GO:0016798', 'xref_name': 'hydrolase activity, acting on glycosyl bonds', 'xref_src_db': 'GoFunction'}, {'xref_id': 'GO:0030246', 'xref_name': 'carbohydrate binding', 'xref_src_db': 'GoFunction'}, {'xref_id': 'GO:0032450', 'xref_name': 'maltose alpha-glucosidase activity', 'xref_src_db': 'GoFunction'}, {'xref_id': 'GO:0090599', 'xref_name': 'alpha-glucosidase activity', 'xref_src_db': 'GoFunction'}, {'xref_id': 'GO:0000023', 'xref_name': 'maltose metabolic process', 'xref_src_db': 'GoProcess'}, {'xref_id': 'GO:0005975', 'xref_name': 'carbohydrate metabolic process', 'xref_src_db': 'GoProcess'}, {'xref_id': 'GO:0005983', 'xref_name': 'starch catabolic process', 'xref_src_db': 'GoProcess'}, {'xref_id': 'GO:0008152', 'xref_name': 'metabolic process', 'xref_src_db': 'GoProcess'}, {'xref_id': 'GO:0043312', 'xref_name': 'neutrophil degranulation', 'xref_src_db': 'GoProcess'}, {'xref_id': 'GO:0044245', 'xref_name': 'polysaccharide digestion', 'xref_src_db': 'GoProcess'}, {'xref_id': '2627', 'xref_name': None, 'xref_src_db': 'GuideToPHARMACOLOGY'}, {'xref_id': 'O43451', 'xref_name': None, 'xref_src_db': 'IntAct'}, {'xref_id': 'IPR000322', 'xref_name': 'Glyco_hydro_31.', 'xref_src_db': 'InterPro'}, {'xref_id': 'IPR000519', 'xref_name': 'P_trefoil_dom.', 'xref_src_db': 'InterPro'}, {'xref_id': 'IPR011013', 'xref_name': 'Gal_mutarotase_sf_dom.', 'xref_src_db': 'InterPro'}, {'xref_id': 'IPR013780', 'xref_name': 'Glyco_hydro_b.', 'xref_src_db': 'InterPro'}, {'xref_id': 'IPR017853', 'xref_name': 'Glycoside_hydrolase_SF.', 'xref_src_db': 'InterPro'}, {'xref_id': 'IPR017957', 'xref_name': 'P_trefoil_CS.', 'xref_src_db': 'InterPro'}, {'xref_id': 'IPR030458', 'xref_name': 'Glyco_hydro_31_AS.', 'xref_src_db': 'InterPro'}, {'xref_id': 'IPR030459', 'xref_name': 'Glyco_hydro_31_CS.', 'xref_src_db': 'InterPro'}, {'xref_id': 'IPR031727', 'xref_name': 'Gal_mutarotase_N.', 'xref_src_db': 'InterPro'}, {'xref_id': '2QLY', 'xref_name': 'A', 'xref_src_db': 'PDBe'}, {'xref_id': '2QMJ', 'xref_name': 'A', 'xref_src_db': 'PDBe'}, {'xref_id': '3CTT', 'xref_name': 'A', 'xref_src_db': 'PDBe'}, {'xref_id': '3L4T', 'xref_name': 'A', 'xref_src_db': 'PDBe'}, {'xref_id': '3L4U', 'xref_name': 'A', 'xref_src_db': 'PDBe'}, {'xref_id': '3L4V', 'xref_name': 'A', 'xref_src_db': 'PDBe'}, {'xref_id': '3L4W', 'xref_name': 'A', 'xref_src_db': 'PDBe'}, {'xref_id': '3L4X', 'xref_name': 'A', 'xref_src_db': 'PDBe'}, {'xref_id': '3L4Y', 'xref_name': 'A', 'xref_src_db': 'PDBe'}, {'xref_id': '3L4Z', 'xref_name': 'A', 'xref_src_db': 'PDBe'}, {'xref_id': '3TON', 'xref_name': 'A', 'xref_src_db': 'PDBe'}, {'xref_id': '3TOP', 'xref_name': 'A', 'xref_src_db': 'PDBe'}, {'xref_id': 'PF00088', 'xref_name': 'Trefoil', 'xref_src_db': 'Pfam'}, {'xref_id': 'PF01055', 'xref_name': 'Glyco_hydro_31', 'xref_src_db': 'Pfam'}, {'xref_id': 'PF16863', 'xref_name': 'NtCtMGAM_N', 'xref_src_db': 'Pfam'}, {'xref_id': 'PA30778', 'xref_name': 'maltase-glucoamylase (alpha-glucosidase)', 'xref_src_db': 'PharmGKB'}, {'xref_id': 'R-HSA-189085', 'xref_name': 'Digestion of dietary carbohydrate.', 'xref_src_db': 'Reactome'}, {'xref_id': 'R-HSA-6798695', 'xref_name': 'Neutrophil degranulation.', 'xref_src_db': 'Reactome'}, {'xref_id': 'O43451', 'xref_name': None, 'xref_src_db': 'UniProt'}, {'xref_id': 'Q0VAX6', 'xref_name': None, 'xref_src_db': 'UniProt'}, {'xref_id': 'Q75ME7', 'xref_name': None, 'xref_src_db': 'UniProt'}, {'xref_id': 'Q86UM5', 'xref_name': None, 'xref_src_db': 'UniProt'}]}], 'target_type': 'SINGLE PROTEIN', 'tax_id': 9606}, {'cross_references': [{'xref_id': 'O60706', 'xref_name': None, 'xref_src': 'canSAR-Target'}, {'xref_id': 'ABCC9', 'xref_name': None, 'xref_src': 'Wikipedia'}], 'organism': 'Homo sapiens', 'pref_name': 'Sulfonylurea receptor 2', 'species_group_flag': False, 'target_chembl_id': 'CHEMBL1971', 'target_components': [{'accession': 'O60706', 'component_description': 'ATP-binding cassette sub-family C member 9', 'component_id': 294, 'component_type': 'PROTEIN', 'relationship': 'SINGLE PROTEIN', 'target_component_synonyms': [{'component_synonym': 'ABCC9', 'syn_type': 'GENE_SYMBOL'}, {'component_synonym': 'ATP-binding cassette sub-family C member 9', 'syn_type': 'UNIPROT'}, {'component_synonym': 'Sulfonylurea receptor 2', 'syn_type': 'UNIPROT'}, {'component_synonym': 'SUR2', 'syn_type': 'GENE_SYMBOL_OTHER'}], 'target_component_xrefs': [{'xref_id': 'ABCC9', 'xref_name': 'Cardiomyopathy, dilated, 10; Atrial fibrillation, familial 12; Cantu syndrome', 'xref_src_db': 'CGD'}, {'xref_id': 'ENSG00000069431', 'xref_name': None, 'xref_src_db': 'EnsemblGene'}, {'xref_id': 'O60706', 'xref_name': None, 'xref_src_db': 'ExpressionAtlas'}, {'xref_id': 'GO:0005886', 'xref_name': 'plasma membrane', 'xref_src_db': 'GoComponent'}, {'xref_id': 'GO:0008282', 'xref_name': 'inward rectifying potassium channel', 'xref_src_db': 'GoComponent'}, {'xref_id': 'GO:0016020', 'xref_name': 'membrane', 'xref_src_db': 'GoComponent'}, {'xref_id': 'GO:0016021', 'xref_name': 'integral component of membrane', 'xref_src_db': 'GoComponent'}, {'xref_id': 'GO:0030017', 'xref_name': 'sarcomere', 'xref_src_db': 'GoComponent'}, {'xref_id': 'GO:0031004', 'xref_name': 'potassium ion-transporting ATPase complex', 'xref_src_db': 'GoComponent'}, {'xref_id': 'GO:0000166', 'xref_name': 'nucleotide binding', 'xref_src_db': 'GoFunction'}, {'xref_id': 'GO:0005261', 'xref_name': 'cation channel activity', 'xref_src_db': 'GoFunction'}, {'xref_id': 'GO:0005267', 'xref_name': 'potassium channel activity', 'xref_src_db': 'GoFunction'}, {'xref_id': 'GO:0005524', 'xref_name': 'ATP binding', 'xref_src_db': 'GoFunction'}, {'xref_id': 'GO:0008281', 'xref_name': 'sulfonylurea receptor activity', 'xref_src_db': 'GoFunction'}, {'xref_id': 'GO:0015272', 'xref_name': 'ATP-activated inward rectifier potassium channel activity', 'xref_src_db': 'GoFunction'}, {'xref_id': 'GO:0015459', 'xref_name': 'potassium channel regulator activity', 'xref_src_db': 'GoFunction'}, {'xref_id': 'GO:0016887', 'xref_name': 'ATPase activity', 'xref_src_db': 'GoFunction'}, {'xref_id': 'GO:0019829', 'xref_name': 'ATPase-coupled cation transmembrane transporter activity', 'xref_src_db': 'GoFunction'}, {'xref_id': 'GO:0022857', 'xref_name': 'transmembrane transporter activity', 'xref_src_db': 'GoFunction'}, {'xref_id': 'GO:0042626', 'xref_name': 'ATPase-coupled transmembrane transporter activity', 'xref_src_db': 'GoFunction'}, {'xref_id': 'GO:0044325', 'xref_name': 'ion channel binding', 'xref_src_db': 'GoFunction'}, {'xref_id': 'GO:0006813', 'xref_name': 'potassium ion transport', 'xref_src_db': 'GoProcess'}, {'xref_id': 'GO:0033198', 'xref_name': 'response to ATP', 'xref_src_db': 'GoProcess'}, {'xref_id': 'GO:0051607', 'xref_name': 'defense response to virus', 'xref_src_db': 'GoProcess'}, {'xref_id': 'GO:0055085', 'xref_name': 'transmembrane transport', 'xref_src_db': 'GoProcess'}, {'xref_id': 'GO:0061337', 'xref_name': 'cardiac conduction', 'xref_src_db': 'GoProcess'}, {'xref_id': 'GO:0071805', 'xref_name': 'potassium ion transmembrane transport', 'xref_src_db': 'GoProcess'}, {'xref_id': 'GO:0098655', 'xref_name': 'cation transmembrane transport', 'xref_src_db': 'GoProcess'}, {'xref_id': 'GO:0098662', 'xref_name': 'inorganic cation transmembrane transport', 'xref_src_db': 'GoProcess'}, {'xref_id': 'GO:0150104', 'xref_name': 'transport across blood-brain barrier', 'xref_src_db': 'GoProcess'}, {'xref_id': 'GO:1903779', 'xref_name': 'regulation of cardiac conduction', 'xref_src_db': 'GoProcess'}, {'xref_id': 'GO:1990573', 'xref_name': 'potassium ion import across plasma membrane', 'xref_src_db': 'GoProcess'}, {'xref_id': '2746', 'xref_name': None, 'xref_src_db': 'GuideToPHARMACOLOGY'}, {'xref_id': 'O60706', 'xref_name': None, 'xref_src_db': 'IntAct'}, {'xref_id': 'IPR000388', 'xref_name': 'Sulphorea_rcpt.', 'xref_src_db': 'InterPro'}, {'xref_id': 'IPR001475', 'xref_name': 'ABCC9.', 'xref_src_db': 'InterPro'}, {'xref_id': 'IPR003439', 'xref_name': 'ABC_transporter-like.', 'xref_src_db': 'InterPro'}, {'xref_id': 'IPR003593', 'xref_name': 'AAA+_ATPase.', 'xref_src_db': 'InterPro'}, {'xref_id': 'IPR011527', 'xref_name': 'ABC1_TM_dom.', 'xref_src_db': 'InterPro'}, {'xref_id': 'IPR017871', 'xref_name': 'ABC_transporter_CS.', 'xref_src_db': 'InterPro'}, {'xref_id': 'IPR027417', 'xref_name': 'P-loop_NTPase.', 'xref_src_db': 'InterPro'}, {'xref_id': 'IPR036640', 'xref_name': 'ABC1_TM_sf.', 'xref_src_db': 'InterPro'}, {'xref_id': 'PF00005', 'xref_name': 'ABC_tran', 'xref_src_db': 'Pfam'}, {'xref_id': 'PF00664', 'xref_name': 'ABC_membrane', 'xref_src_db': 'Pfam'}, {'xref_id': 'PA396', 'xref_name': 'ATP-binding cassette, sub-family C (CFTR/MRP), member 9', 'xref_src_db': 'PharmGKB'}, {'xref_id': 'R-HSA-1296025', 'xref_name': 'ATP sensitive Potassium channels.', 'xref_src_db': 'Reactome'}, {'xref_id': 'R-HSA-382556', 'xref_name': 'ABC-family proteins mediated transport.', 'xref_src_db': 'Reactome'}, {'xref_id': 'R-HSA-5578775', 'xref_name': 'Ion homeostasis.', 'xref_src_db': 'Reactome'}, {'xref_id': 'R-HSA-5678420', 'xref_name': 'Defective ABCC9 causes dilated cardiomyopathy 10, familial atrial fibrillation 12 and hypertrichotic osteochondrodysplasia.', 'xref_src_db': 'Reactome'}, {'xref_id': 'O60706', 'xref_name': None, 'xref_src_db': 'UniProt'}, {'xref_id': 'O60707', 'xref_name': None, 'xref_src_db': 'UniProt'}]}], 'target_type': 'SINGLE PROTEIN', 'tax_id': 9606}, {'cross_references': [{'xref_id': 'CGMP-specific_phosphodiesterase_type_5', 'xref_name': None, 'xref_src': 'Wikipedia'}], 'organism': 'Homo sapiens', 'pref_name': 'Phosphodiesterase 5A', 'species_group_flag': False, 'target_chembl_id': 'CHEMBL1827', 'target_components': [{'accession': 'O76074', 'component_description': \"cGMP-specific 3',5'-cyclic phosphodiesterase\", 'component_id': 124, 'component_type': 'PROTEIN', 'relationship': 'SINGLE PROTEIN', 'target_component_synonyms': [{'component_synonym': '3.1.4.35', 'syn_type': 'EC_NUMBER'}, {'component_synonym': 'CGB-PDE', 'syn_type': 'UNIPROT'}, {'component_synonym': 'cGMP-binding cGMP-specific phosphodiesterase', 'syn_type': 'UNIPROT'}, {'component_synonym': \"cGMP-specific 3',5'-cyclic phosphodiesterase\", 'syn_type': 'UNIPROT'}, {'component_synonym': 'PDE5', 'syn_type': 'GENE_SYMBOL_OTHER'}, {'component_synonym': 'PDE5A', 'syn_type': 'GENE_SYMBOL'}], 'target_component_xrefs': [{'xref_id': 'ENSG00000138735', 'xref_name': None, 'xref_src_db': 'EnsemblGene'}, {'xref_id': 'O76074', 'xref_name': None, 'xref_src_db': 'ExpressionAtlas'}, {'xref_id': 'GO:0005575', 'xref_name': 'cellular_component', 'xref_src_db': 'GoComponent'}, {'xref_id': 'GO:0005829', 'xref_name': 'cytosol', 'xref_src_db': 'GoComponent'}, {'xref_id': 'GO:0000166', 'xref_name': 'nucleotide binding', 'xref_src_db': 'GoFunction'}, {'xref_id': 'GO:0003824', 'xref_name': 'catalytic activity', 'xref_src_db': 'GoFunction'}, {'xref_id': 'GO:0004112', 'xref_name': 'cyclic-nucleotide phosphodiesterase activity', 'xref_src_db': 'GoFunction'}, {'xref_id': 'GO:0004114', 'xref_name': \"3',5'-cyclic-nucleotide phosphodiesterase activity\", 'xref_src_db': 'GoFunction'}, {'xref_id': 'GO:0005515', 'xref_name': 'protein binding', 'xref_src_db': 'GoFunction'}, {'xref_id': 'GO:0008081', 'xref_name': 'phosphoric diester hydrolase activity', 'xref_src_db': 'GoFunction'}, {'xref_id': 'GO:0016787', 'xref_name': 'hydrolase activity', 'xref_src_db': 'GoFunction'}, {'xref_id': 'GO:0030553', 'xref_name': 'cGMP binding', 'xref_src_db': 'GoFunction'}, {'xref_id': 'GO:0046872', 'xref_name': 'metal ion binding', 'xref_src_db': 'GoFunction'}, {'xref_id': 'GO:0047555', 'xref_name': \"3',5'-cyclic-GMP phosphodiesterase activity\", 'xref_src_db': 'GoFunction'}, {'xref_id': 'GO:0007165', 'xref_name': 'signal transduction', 'xref_src_db': 'GoProcess'}, {'xref_id': 'GO:0008152', 'xref_name': 'metabolic process', 'xref_src_db': 'GoProcess'}, {'xref_id': 'GO:0010613', 'xref_name': 'positive regulation of cardiac muscle hypertrophy', 'xref_src_db': 'GoProcess'}, {'xref_id': 'GO:0010749', 'xref_name': 'regulation of nitric oxide mediated signal transduction', 'xref_src_db': 'GoProcess'}, {'xref_id': 'GO:0042130', 'xref_name': 'negative regulation of T cell proliferation', 'xref_src_db': 'GoProcess'}, {'xref_id': 'GO:0043406', 'xref_name': 'positive regulation of MAP kinase activity', 'xref_src_db': 'GoProcess'}, {'xref_id': 'GO:0046068', 'xref_name': 'cGMP metabolic process', 'xref_src_db': 'GoProcess'}, {'xref_id': 'GO:0046069', 'xref_name': 'cGMP catabolic process', 'xref_src_db': 'GoProcess'}, {'xref_id': 'GO:0055118', 'xref_name': 'negative regulation of cardiac muscle contraction', 'xref_src_db': 'GoProcess'}, {'xref_id': 'GO:0055119', 'xref_name': 'relaxation of cardiac muscle', 'xref_src_db': 'GoProcess'}, {'xref_id': 'GO:0060282', 'xref_name': 'positive regulation of oocyte development', 'xref_src_db': 'GoProcess'}, {'xref_id': '1304', 'xref_name': None, 'xref_src_db': 'GuideToPHARMACOLOGY'}, {'xref_id': 'O76074', 'xref_name': None, 'xref_src_db': 'IntAct'}, {'xref_id': 'IPR002073', 'xref_name': 'PDEase_catalytic_dom.', 'xref_src_db': 'InterPro'}, {'xref_id': 'IPR003018', 'xref_name': 'GAF.', 'xref_src_db': 'InterPro'}, {'xref_id': 'IPR003607', 'xref_name': 'HD/PDEase_dom.', 'xref_src_db': 'InterPro'}, {'xref_id': 'IPR023088', 'xref_name': 'PDEase.', 'xref_src_db': 'InterPro'}, {'xref_id': 'IPR023174', 'xref_name': 'PDEase_CS.', 'xref_src_db': 'InterPro'}, {'xref_id': 'IPR029016', 'xref_name': 'GAF-like_dom_sf.', 'xref_src_db': 'InterPro'}, {'xref_id': 'IPR036971', 'xref_name': 'PDEase_catalytic_dom_sf.', 'xref_src_db': 'InterPro'}, {'xref_id': '1RKP', 'xref_name': 'A', 'xref_src_db': 'PDBe'}, {'xref_id': '1T9R', 'xref_name': 'A', 'xref_src_db': 'PDBe'}, {'xref_id': '1T9S', 'xref_name': 'A', 'xref_src_db': 'PDBe'}, {'xref_id': '1TBF', 'xref_name': 'A', 'xref_src_db': 'PDBe'}, {'xref_id': '1UDT', 'xref_name': 'A', 'xref_src_db': 'PDBe'}, {'xref_id': '1UDU', 'xref_name': 'A', 'xref_src_db': 'PDBe'}, {'xref_id': '1UHO', 'xref_name': 'A', 'xref_src_db': 'PDBe'}, {'xref_id': '1XOZ', 'xref_name': 'A', 'xref_src_db': 'PDBe'}, {'xref_id': '1XP0', 'xref_name': 'A', 'xref_src_db': 'PDBe'}, {'xref_id': '2CHM', 'xref_name': 'A', 'xref_src_db': 'PDBe'}, {'xref_id': '2H40', 'xref_name': 'A', 'xref_src_db': 'PDBe'}, {'xref_id': '2H42', 'xref_name': 'A', 'xref_src_db': 'PDBe'}, {'xref_id': '2H44', 'xref_name': 'A', 'xref_src_db': 'PDBe'}, {'xref_id': '2XSS', 'xref_name': 'A', 'xref_src_db': 'PDBe'}, {'xref_id': '3B2R', 'xref_name': 'A', 'xref_src_db': 'PDBe'}, {'xref_id': '3BJC', 'xref_name': 'A', 'xref_src_db': 'PDBe'}, {'xref_id': '3HC8', 'xref_name': 'A', 'xref_src_db': 'PDBe'}, {'xref_id': '3HDZ', 'xref_name': 'A', 'xref_src_db': 'PDBe'}, {'xref_id': '3JWQ', 'xref_name': 'A', 'xref_src_db': 'PDBe'}, {'xref_id': '3JWR', 'xref_name': 'A', 'xref_src_db': 'PDBe'}, {'xref_id': '3LFV', 'xref_name': 'A', 'xref_src_db': 'PDBe'}, {'xref_id': '3MF0', 'xref_name': 'A', 'xref_src_db': 'PDBe'}, {'xref_id': '3SHY', 'xref_name': 'A', 'xref_src_db': 'PDBe'}, {'xref_id': '3SHZ', 'xref_name': 'A', 'xref_src_db': 'PDBe'}, {'xref_id': '3SIE', 'xref_name': 'A', 'xref_src_db': 'PDBe'}, {'xref_id': '3TGE', 'xref_name': 'A', 'xref_src_db': 'PDBe'}, {'xref_id': '3TGG', 'xref_name': 'A', 'xref_src_db': 'PDBe'}, {'xref_id': '4G2W', 'xref_name': 'A', 'xref_src_db': 'PDBe'}, {'xref_id': '4G2Y', 'xref_name': 'A', 'xref_src_db': 'PDBe'}, {'xref_id': '4I9Z', 'xref_name': 'A', 'xref_src_db': 'PDBe'}, {'xref_id': '4IA0', 'xref_name': 'A', 'xref_src_db': 'PDBe'}, {'xref_id': '4MD6', 'xref_name': 'A', 'xref_src_db': 'PDBe'}, {'xref_id': '4OEW', 'xref_name': 'A', 'xref_src_db': 'PDBe'}, {'xref_id': '4OEX', 'xref_name': 'A', 'xref_src_db': 'PDBe'}, {'xref_id': '5JO3', 'xref_name': 'A', 'xref_src_db': 'PDBe'}, {'xref_id': '5ZZ2', 'xref_name': 'A', 'xref_src_db': 'PDBe'}, {'xref_id': '6ACB', 'xref_name': 'A', 'xref_src_db': 'PDBe'}, {'xref_id': 'PF00233', 'xref_name': 'PDEase_I', 'xref_src_db': 'Pfam'}, {'xref_id': 'PF01590', 'xref_name': 'GAF', 'xref_src_db': 'Pfam'}, {'xref_id': 'PA33132', 'xref_name': 'phosphodiesterase 5A, cGMP-specific', 'xref_src_db': 'PharmGKB'}, {'xref_id': 'R-HSA-418457', 'xref_name': 'cGMP effects.', 'xref_src_db': 'Reactome'}, {'xref_id': 'A0AV69', 'xref_name': None, 'xref_src_db': 'UniProt'}, {'xref_id': 'A8K2C4', 'xref_name': None, 'xref_src_db': 'UniProt'}, {'xref_id': 'O75026', 'xref_name': None, 'xref_src_db': 'UniProt'}, {'xref_id': 'O75887', 'xref_name': None, 'xref_src_db': 'UniProt'}, {'xref_id': 'O76074', 'xref_name': None, 'xref_src_db': 'UniProt'}, {'xref_id': 'Q86UI0', 'xref_name': None, 'xref_src_db': 'UniProt'}, {'xref_id': 'Q86V66', 'xref_name': None, 'xref_src_db': 'UniProt'}, {'xref_id': 'Q9Y6Z6', 'xref_name': None, 'xref_src_db': 'UniProt'}]}], 'target_type': 'SINGLE PROTEIN', 'tax_id': 9606}, {'cross_references': [{'xref_id': 'O95180', 'xref_name': None, 'xref_src': 'canSAR-Target'}, {'xref_id': 'CACNA1H', 'xref_name': None, 'xref_src': 'Wikipedia'}], 'organism': 'Homo sapiens', 'pref_name': 'Voltage-gated T-type calcium channel alpha-1H subunit', 'species_group_flag': False, 'target_chembl_id': 'CHEMBL1859', 'target_components': [{'accession': 'O95180', 'component_description': 'Voltage-dependent T-type calcium channel subunit alpha-1H', 'component_id': 167, 'component_type': 'PROTEIN', 'relationship': 'SINGLE PROTEIN', 'target_component_synonyms': [{'component_synonym': 'CACNA1H', 'syn_type': 'GENE_SYMBOL'}, {'component_synonym': 'Low-voltage-activated calcium channel alpha1 3.2 subunit', 'syn_type': 'UNIPROT'}, {'component_synonym': 'Voltage-dependent T-type calcium channel subunit alpha-1H', 'syn_type': 'UNIPROT'}, {'component_synonym': 'Voltage-gated calcium channel subunit alpha Cav3.2', 'syn_type': 'UNIPROT'}], 'target_component_xrefs': [{'xref_id': 'ENSG00000196557', 'xref_name': None, 'xref_src_db': 'EnsemblGene'}, {'xref_id': 'O95180', 'xref_name': None, 'xref_src_db': 'ExpressionAtlas'}, {'xref_id': 'GO:0001518', 'xref_name': 'voltage-gated sodium channel complex', 'xref_src_db': 'GoComponent'}, {'xref_id': 'GO:0005886', 'xref_name': 'plasma membrane', 'xref_src_db': 'GoComponent'}, {'xref_id': 'GO:0005887', 'xref_name': 'integral component of plasma membrane', 'xref_src_db': 'GoComponent'}, {'xref_id': 'GO:0005891', 'xref_name': 'voltage-gated calcium channel complex', 'xref_src_db': 'GoComponent'}, {'xref_id': 'GO:0016020', 'xref_name': 'membrane', 'xref_src_db': 'GoComponent'}, {'xref_id': 'GO:0016021', 'xref_name': 'integral component of membrane', 'xref_src_db': 'GoComponent'}, {'xref_id': 'GO:0043005', 'xref_name': 'neuron projection', 'xref_src_db': 'GoComponent'}, {'xref_id': 'GO:0005216', 'xref_name': 'ion channel activity', 'xref_src_db': 'GoFunction'}, {'xref_id': 'GO:0005244', 'xref_name': 'voltage-gated ion channel activity', 'xref_src_db': 'GoFunction'}, {'xref_id': 'GO:0005245', 'xref_name': 'voltage-gated calcium channel activity', 'xref_src_db': 'GoFunction'}, {'xref_id': 'GO:0005248', 'xref_name': 'voltage-gated sodium channel activity', 'xref_src_db': 'GoFunction'}, {'xref_id': 'GO:0005261', 'xref_name': 'cation channel activity', 'xref_src_db': 'GoFunction'}, {'xref_id': 'GO:0005262', 'xref_name': 'calcium channel activity', 'xref_src_db': 'GoFunction'}, {'xref_id': 'GO:0005515', 'xref_name': 'protein binding', 'xref_src_db': 'GoFunction'}, {'xref_id': 'GO:0008332', 'xref_name': 'low voltage-gated calcium channel activity', 'xref_src_db': 'GoFunction'}, {'xref_id': 'GO:0046872', 'xref_name': 'metal ion binding', 'xref_src_db': 'GoFunction'}, {'xref_id': 'GO:0097110', 'xref_name': 'scaffold protein binding', 'xref_src_db': 'GoFunction'}, {'xref_id': 'GO:0006811', 'xref_name': 'ion transport', 'xref_src_db': 'GoProcess'}, {'xref_id': 'GO:0006816', 'xref_name': 'calcium ion transport', 'xref_src_db': 'GoProcess'}, {'xref_id': 'GO:0006936', 'xref_name': 'muscle contraction', 'xref_src_db': 'GoProcess'}, {'xref_id': 'GO:0007517', 'xref_name': 'muscle organ development', 'xref_src_db': 'GoProcess'}, {'xref_id': 'GO:0007520', 'xref_name': 'myoblast fusion', 'xref_src_db': 'GoProcess'}, {'xref_id': 'GO:0008016', 'xref_name': 'regulation of heart contraction', 'xref_src_db': 'GoProcess'}, {'xref_id': 'GO:0019228', 'xref_name': 'neuronal action potential', 'xref_src_db': 'GoProcess'}, {'xref_id': 'GO:0032342', 'xref_name': 'aldosterone biosynthetic process', 'xref_src_db': 'GoProcess'}, {'xref_id': 'GO:0032870', 'xref_name': 'cellular response to hormone stimulus', 'xref_src_db': 'GoProcess'}, {'xref_id': 'GO:0034651', 'xref_name': 'cortisol biosynthetic process', 'xref_src_db': 'GoProcess'}, {'xref_id': 'GO:0034765', 'xref_name': 'regulation of ion transmembrane transport', 'xref_src_db': 'GoProcess'}, {'xref_id': 'GO:0035725', 'xref_name': 'sodium ion transmembrane transport', 'xref_src_db': 'GoProcess'}, {'xref_id': 'GO:0035865', 'xref_name': 'cellular response to potassium ion', 'xref_src_db': 'GoProcess'}, {'xref_id': 'GO:0042391', 'xref_name': 'regulation of membrane potential', 'xref_src_db': 'GoProcess'}, {'xref_id': 'GO:0045956', 'xref_name': 'positive regulation of calcium ion-dependent exocytosis', 'xref_src_db': 'GoProcess'}, {'xref_id': 'GO:0055085', 'xref_name': 'transmembrane transport', 'xref_src_db': 'GoProcess'}, {'xref_id': 'GO:0070509', 'xref_name': 'calcium ion import', 'xref_src_db': 'GoProcess'}, {'xref_id': 'GO:0070588', 'xref_name': 'calcium ion transmembrane transport', 'xref_src_db': 'GoProcess'}, {'xref_id': 'GO:0086010', 'xref_name': 'membrane depolarization during action potential', 'xref_src_db': 'GoProcess'}, {'xref_id': 'GO:0098662', 'xref_name': 'inorganic cation transmembrane transport', 'xref_src_db': 'GoProcess'}, {'xref_id': 'GO:2000344', 'xref_name': 'positive regulation of acrosome reaction', 'xref_src_db': 'GoProcess'}, {'xref_id': '536', 'xref_name': None, 'xref_src_db': 'GuideToPHARMACOLOGY'}, {'xref_id': 'O95180', 'xref_name': None, 'xref_src_db': 'IntAct'}, {'xref_id': 'IPR005445', 'xref_name': 'VDCC_T_a1.', 'xref_src_db': 'InterPro'}, {'xref_id': 'IPR005821', 'xref_name': 'Ion_trans_dom.', 'xref_src_db': 'InterPro'}, {'xref_id': 'IPR027359', 'xref_name': 'Volt_channel_dom_sf.', 'xref_src_db': 'InterPro'}, {'xref_id': 'PF00520', 'xref_name': 'Ion_trans', 'xref_src_db': 'Pfam'}, {'xref_id': 'PA380', 'xref_name': 'calcium channel, voltage-dependent, T type, alpha 1H subunit', 'xref_src_db': 'PharmGKB'}, {'xref_id': 'O95180', 'xref_name': 'Tclin', 'xref_src_db': 'Pharos'}, {'xref_id': 'R-HSA-419037', 'xref_name': 'NCAM1 interactions.', 'xref_src_db': 'Reactome'}, {'xref_id': 'B5ME00', 'xref_name': None, 'xref_src_db': 'UniProt'}, {'xref_id': 'F8WFD1', 'xref_name': None, 'xref_src_db': 'UniProt'}, {'xref_id': 'O95180', 'xref_name': None, 'xref_src_db': 'UniProt'}, {'xref_id': 'O95802', 'xref_name': None, 'xref_src_db': 'UniProt'}, {'xref_id': 'Q8WWI6', 'xref_name': None, 'xref_src_db': 'UniProt'}, {'xref_id': 'Q96QI6', 'xref_name': None, 'xref_src_db': 'UniProt'}, {'xref_id': 'Q96RZ9', 'xref_name': None, 'xref_src_db': 'UniProt'}, {'xref_id': 'Q9NYY4', 'xref_name': None, 'xref_src_db': 'UniProt'}, {'xref_id': 'Q9NYY5', 'xref_name': None, 'xref_src_db': 'UniProt'}]}], 'target_type': 'SINGLE PROTEIN', 'tax_id': 9606}, '...(remaining elements truncated)...']"
      ]
     },
     "execution_count": 9,
     "metadata": {},
     "output_type": "execute_result"
    }
   ],
   "source": [
    "targets = targets_api.get(targets_component__accession=uniprot_id)\n",
    "#targets has too much information. so we choose headers of interest.\n",
    "targets"
   ]
  },
  {
   "cell_type": "code",
   "execution_count": 10,
   "metadata": {},
   "outputs": [
    {
     "name": "stdout",
     "output_type": "stream",
     "text": [
      "The type of the targets is \"<class 'chembl_webresource_client.query_set.QuerySet'>\"\n"
     ]
    },
    {
     "data": {
      "text/plain": [
       "[{'organism': 'Homo sapiens', 'pref_name': 'Epidermal growth factor receptor erbB1', 'target_chembl_id': 'CHEMBL203', 'target_type': 'SINGLE PROTEIN'}, {'organism': 'Homo sapiens', 'pref_name': 'Epidermal growth factor receptor and ErbB2 (HER1 and HER2)', 'target_chembl_id': 'CHEMBL2111431', 'target_type': 'PROTEIN FAMILY'}, {'organism': 'Homo sapiens', 'pref_name': 'Epidermal growth factor receptor', 'target_chembl_id': 'CHEMBL2363049', 'target_type': 'PROTEIN FAMILY'}, {'organism': 'Homo sapiens', 'pref_name': 'MER intracellular domain/EGFR extracellular domain chimera', 'target_chembl_id': 'CHEMBL3137284', 'target_type': 'CHIMERIC PROTEIN'}]"
      ]
     },
     "execution_count": 10,
     "metadata": {},
     "output_type": "execute_result"
    }
   ],
   "source": [
    "targets = targets_api.get(target_components__accession=uniprot_id).only(\n",
    "    \"target_chembl_id\", \"organism\", \"pref_name\", \"target_type\"\n",
    ")\n",
    "print(f'The type of the targets is \"{type(targets)}\"')\n",
    "targets"
   ]
  },
  {
   "cell_type": "code",
   "execution_count": 11,
   "metadata": {},
   "outputs": [
    {
     "data": {
      "text/html": [
       "<div>\n",
       "<style scoped>\n",
       "    .dataframe tbody tr th:only-of-type {\n",
       "        vertical-align: middle;\n",
       "    }\n",
       "\n",
       "    .dataframe tbody tr th {\n",
       "        vertical-align: top;\n",
       "    }\n",
       "\n",
       "    .dataframe thead th {\n",
       "        text-align: right;\n",
       "    }\n",
       "</style>\n",
       "<table border=\"1\" class=\"dataframe\">\n",
       "  <thead>\n",
       "    <tr style=\"text-align: right;\">\n",
       "      <th></th>\n",
       "      <th>organism</th>\n",
       "      <th>pref_name</th>\n",
       "      <th>target_chembl_id</th>\n",
       "      <th>target_type</th>\n",
       "    </tr>\n",
       "  </thead>\n",
       "  <tbody>\n",
       "    <tr>\n",
       "      <th>0</th>\n",
       "      <td>Homo sapiens</td>\n",
       "      <td>Epidermal growth factor receptor erbB1</td>\n",
       "      <td>CHEMBL203</td>\n",
       "      <td>SINGLE PROTEIN</td>\n",
       "    </tr>\n",
       "    <tr>\n",
       "      <th>1</th>\n",
       "      <td>Homo sapiens</td>\n",
       "      <td>Epidermal growth factor receptor erbB1</td>\n",
       "      <td>CHEMBL203</td>\n",
       "      <td>SINGLE PROTEIN</td>\n",
       "    </tr>\n",
       "    <tr>\n",
       "      <th>2</th>\n",
       "      <td>Homo sapiens</td>\n",
       "      <td>Epidermal growth factor receptor and ErbB2 (HE...</td>\n",
       "      <td>CHEMBL2111431</td>\n",
       "      <td>PROTEIN FAMILY</td>\n",
       "    </tr>\n",
       "    <tr>\n",
       "      <th>3</th>\n",
       "      <td>Homo sapiens</td>\n",
       "      <td>Epidermal growth factor receptor</td>\n",
       "      <td>CHEMBL2363049</td>\n",
       "      <td>PROTEIN FAMILY</td>\n",
       "    </tr>\n",
       "    <tr>\n",
       "      <th>4</th>\n",
       "      <td>Homo sapiens</td>\n",
       "      <td>MER intracellular domain/EGFR extracellular do...</td>\n",
       "      <td>CHEMBL3137284</td>\n",
       "      <td>CHIMERIC PROTEIN</td>\n",
       "    </tr>\n",
       "  </tbody>\n",
       "</table>\n",
       "</div>"
      ],
      "text/plain": [
       "       organism                                          pref_name  \\\n",
       "0  Homo sapiens             Epidermal growth factor receptor erbB1   \n",
       "1  Homo sapiens             Epidermal growth factor receptor erbB1   \n",
       "2  Homo sapiens  Epidermal growth factor receptor and ErbB2 (HE...   \n",
       "3  Homo sapiens                   Epidermal growth factor receptor   \n",
       "4  Homo sapiens  MER intracellular domain/EGFR extracellular do...   \n",
       "\n",
       "  target_chembl_id       target_type  \n",
       "0        CHEMBL203    SINGLE PROTEIN  \n",
       "1        CHEMBL203    SINGLE PROTEIN  \n",
       "2    CHEMBL2111431    PROTEIN FAMILY  \n",
       "3    CHEMBL2363049    PROTEIN FAMILY  \n",
       "4    CHEMBL3137284  CHIMERIC PROTEIN  "
      ]
     },
     "execution_count": 11,
     "metadata": {},
     "output_type": "execute_result"
    }
   ],
   "source": [
    "# converting to Pandas dataframe for better understanding.\n",
    "targets = pd.DataFrame.from_records(targets)\n",
    "targets"
   ]
  },
  {
   "cell_type": "code",
   "execution_count": 12,
   "metadata": {},
   "outputs": [
    {
     "data": {
      "text/plain": [
       "organism                                      Homo sapiens\n",
       "pref_name           Epidermal growth factor receptor erbB1\n",
       "target_chembl_id                                 CHEMBL203\n",
       "target_type                                 SINGLE PROTEIN\n",
       "Name: 0, dtype: object"
      ]
     },
     "execution_count": 12,
     "metadata": {},
     "output_type": "execute_result"
    }
   ],
   "source": [
    "## chosing target id\n",
    "target=targets.iloc[0]\n",
    "target"
   ]
  },
  {
   "cell_type": "code",
   "execution_count": 13,
   "metadata": {},
   "outputs": [
    {
     "data": {
      "text/plain": [
       "'CHEMBL203'"
      ]
     },
     "execution_count": 13,
     "metadata": {},
     "output_type": "execute_result"
    },
    {
     "name": "stdout",
     "output_type": "stream",
     "text": [
      "The target ChEMBL ID is CHEMBL203\n"
     ]
    }
   ],
   "source": [
    "chembl_id = target.target_chembl_id\n",
    "chembl_id\n",
    "print(f\"The target ChEMBL ID is {chembl_id}\")"
   ]
  },
  {
   "cell_type": "code",
   "execution_count": 14,
   "metadata": {},
   "outputs": [
    {
     "name": "stdout",
     "output_type": "stream",
     "text": [
      "Length and type of bioactivities object: 7177, <class 'chembl_webresource_client.query_set.QuerySet'>\n"
     ]
    }
   ],
   "source": [
    "bioactivities = bioactivities_api.filter(\n",
    "    target_chembl_id=chembl_id, type=\"IC50\", relation=\"=\", assay_type=\"B\"\n",
    ").only(\n",
    "    \"activity_id\",\n",
    "    \"assay_chembl_id\",\n",
    "    \"assay_description\",\n",
    "    \"assay_type\",\n",
    "    \"molecule_chembl_id\",\n",
    "    \"type\",\n",
    "    \"standard_units\",\n",
    "    \"relation\",\n",
    "    \"standard_value\",\n",
    "    \"target_chembl_id\",\n",
    "    \"target_organism\",\n",
    ")\n",
    "\n",
    "print(f\"Length and type of bioactivities object: {len(bioactivities)}, {type(bioactivities)}\")"
   ]
  },
  {
   "cell_type": "code",
   "execution_count": 15,
   "metadata": {},
   "outputs": [
    {
     "name": "stdout",
     "output_type": "stream",
     "text": [
      "Length and type of first element: 13, <class 'dict'>\n"
     ]
    },
    {
     "data": {
      "text/plain": [
       "{'activity_id': 32260,\n",
       " 'assay_chembl_id': 'CHEMBL674637',\n",
       " 'assay_description': 'Inhibitory activity towards tyrosine phosphorylation for the epidermal growth factor-receptor kinase',\n",
       " 'assay_type': 'B',\n",
       " 'molecule_chembl_id': 'CHEMBL68920',\n",
       " 'relation': '=',\n",
       " 'standard_units': 'nM',\n",
       " 'standard_value': '41.0',\n",
       " 'target_chembl_id': 'CHEMBL203',\n",
       " 'target_organism': 'Homo sapiens',\n",
       " 'type': 'IC50',\n",
       " 'units': 'uM',\n",
       " 'value': '0.041'}"
      ]
     },
     "execution_count": 15,
     "metadata": {},
     "output_type": "execute_result"
    }
   ],
   "source": [
    "print(f\"Length and type of first element: {len(bioactivities[0])}, {type(bioactivities[0])}\")\n",
    "bioactivities[0]"
   ]
  },
  {
   "cell_type": "markdown",
   "metadata": {},
   "source": [
    "## The step below takes longer time to fetch data and is expected. \n",
    "If you face error or there is no data in dataframe, run above two cells and then run cell below"
   ]
  },
  {
   "cell_type": "code",
   "execution_count": 16,
   "metadata": {},
   "outputs": [
    {
     "name": "stdout",
     "output_type": "stream",
     "text": [
      "DataFrame shape: (7178, 13)\n"
     ]
    },
    {
     "data": {
      "text/html": [
       "<div>\n",
       "<style scoped>\n",
       "    .dataframe tbody tr th:only-of-type {\n",
       "        vertical-align: middle;\n",
       "    }\n",
       "\n",
       "    .dataframe tbody tr th {\n",
       "        vertical-align: top;\n",
       "    }\n",
       "\n",
       "    .dataframe thead th {\n",
       "        text-align: right;\n",
       "    }\n",
       "</style>\n",
       "<table border=\"1\" class=\"dataframe\">\n",
       "  <thead>\n",
       "    <tr style=\"text-align: right;\">\n",
       "      <th></th>\n",
       "      <th>activity_id</th>\n",
       "      <th>assay_chembl_id</th>\n",
       "      <th>assay_description</th>\n",
       "      <th>assay_type</th>\n",
       "      <th>molecule_chembl_id</th>\n",
       "      <th>relation</th>\n",
       "      <th>standard_units</th>\n",
       "      <th>standard_value</th>\n",
       "      <th>target_chembl_id</th>\n",
       "      <th>target_organism</th>\n",
       "      <th>type</th>\n",
       "      <th>units</th>\n",
       "      <th>value</th>\n",
       "    </tr>\n",
       "  </thead>\n",
       "  <tbody>\n",
       "    <tr>\n",
       "      <th>0</th>\n",
       "      <td>32260</td>\n",
       "      <td>CHEMBL674637</td>\n",
       "      <td>Inhibitory activity towards tyrosine phosphory...</td>\n",
       "      <td>B</td>\n",
       "      <td>CHEMBL68920</td>\n",
       "      <td>=</td>\n",
       "      <td>nM</td>\n",
       "      <td>41.0</td>\n",
       "      <td>CHEMBL203</td>\n",
       "      <td>Homo sapiens</td>\n",
       "      <td>IC50</td>\n",
       "      <td>uM</td>\n",
       "      <td>0.041</td>\n",
       "    </tr>\n",
       "    <tr>\n",
       "      <th>1</th>\n",
       "      <td>32260</td>\n",
       "      <td>CHEMBL674637</td>\n",
       "      <td>Inhibitory activity towards tyrosine phosphory...</td>\n",
       "      <td>B</td>\n",
       "      <td>CHEMBL68920</td>\n",
       "      <td>=</td>\n",
       "      <td>nM</td>\n",
       "      <td>41.0</td>\n",
       "      <td>CHEMBL203</td>\n",
       "      <td>Homo sapiens</td>\n",
       "      <td>IC50</td>\n",
       "      <td>uM</td>\n",
       "      <td>0.041</td>\n",
       "    </tr>\n",
       "    <tr>\n",
       "      <th>2</th>\n",
       "      <td>32267</td>\n",
       "      <td>CHEMBL674637</td>\n",
       "      <td>Inhibitory activity towards tyrosine phosphory...</td>\n",
       "      <td>B</td>\n",
       "      <td>CHEMBL69960</td>\n",
       "      <td>=</td>\n",
       "      <td>nM</td>\n",
       "      <td>170.0</td>\n",
       "      <td>CHEMBL203</td>\n",
       "      <td>Homo sapiens</td>\n",
       "      <td>IC50</td>\n",
       "      <td>uM</td>\n",
       "      <td>0.17</td>\n",
       "    </tr>\n",
       "    <tr>\n",
       "      <th>3</th>\n",
       "      <td>32680</td>\n",
       "      <td>CHEMBL677833</td>\n",
       "      <td>In vitro inhibition of Epidermal growth factor...</td>\n",
       "      <td>B</td>\n",
       "      <td>CHEMBL137635</td>\n",
       "      <td>=</td>\n",
       "      <td>nM</td>\n",
       "      <td>9300.0</td>\n",
       "      <td>CHEMBL203</td>\n",
       "      <td>Homo sapiens</td>\n",
       "      <td>IC50</td>\n",
       "      <td>uM</td>\n",
       "      <td>9.3</td>\n",
       "    </tr>\n",
       "    <tr>\n",
       "      <th>4</th>\n",
       "      <td>32770</td>\n",
       "      <td>CHEMBL674643</td>\n",
       "      <td>Inhibitory concentration of EGF dependent auto...</td>\n",
       "      <td>B</td>\n",
       "      <td>CHEMBL306988</td>\n",
       "      <td>=</td>\n",
       "      <td>nM</td>\n",
       "      <td>500000.0</td>\n",
       "      <td>CHEMBL203</td>\n",
       "      <td>Homo sapiens</td>\n",
       "      <td>IC50</td>\n",
       "      <td>uM</td>\n",
       "      <td>500.0</td>\n",
       "    </tr>\n",
       "    <tr>\n",
       "      <th>...</th>\n",
       "      <td>...</td>\n",
       "      <td>...</td>\n",
       "      <td>...</td>\n",
       "      <td>...</td>\n",
       "      <td>...</td>\n",
       "      <td>...</td>\n",
       "      <td>...</td>\n",
       "      <td>...</td>\n",
       "      <td>...</td>\n",
       "      <td>...</td>\n",
       "      <td>...</td>\n",
       "      <td>...</td>\n",
       "      <td>...</td>\n",
       "    </tr>\n",
       "    <tr>\n",
       "      <th>7173</th>\n",
       "      <td>18798661</td>\n",
       "      <td>CHEMBL4274201</td>\n",
       "      <td>Inhibition of recombinant human EGFR L858R mut...</td>\n",
       "      <td>B</td>\n",
       "      <td>CHEMBL554</td>\n",
       "      <td>=</td>\n",
       "      <td>nM</td>\n",
       "      <td>37.55</td>\n",
       "      <td>CHEMBL203</td>\n",
       "      <td>Homo sapiens</td>\n",
       "      <td>IC50</td>\n",
       "      <td>nM</td>\n",
       "      <td>37.55</td>\n",
       "    </tr>\n",
       "    <tr>\n",
       "      <th>7174</th>\n",
       "      <td>18798662</td>\n",
       "      <td>CHEMBL4274201</td>\n",
       "      <td>Inhibition of recombinant human EGFR L858R mut...</td>\n",
       "      <td>B</td>\n",
       "      <td>CHEMBL939</td>\n",
       "      <td>=</td>\n",
       "      <td>nM</td>\n",
       "      <td>11.5</td>\n",
       "      <td>CHEMBL203</td>\n",
       "      <td>Homo sapiens</td>\n",
       "      <td>IC50</td>\n",
       "      <td>nM</td>\n",
       "      <td>11.5</td>\n",
       "    </tr>\n",
       "    <tr>\n",
       "      <th>7175</th>\n",
       "      <td>18798663</td>\n",
       "      <td>CHEMBL4274202</td>\n",
       "      <td>Inhibition of N-terminal GST-tagged recombinan...</td>\n",
       "      <td>B</td>\n",
       "      <td>CHEMBL4282506</td>\n",
       "      <td>=</td>\n",
       "      <td>nM</td>\n",
       "      <td>137.3</td>\n",
       "      <td>CHEMBL203</td>\n",
       "      <td>Homo sapiens</td>\n",
       "      <td>IC50</td>\n",
       "      <td>nM</td>\n",
       "      <td>137.3</td>\n",
       "    </tr>\n",
       "    <tr>\n",
       "      <th>7176</th>\n",
       "      <td>18798664</td>\n",
       "      <td>CHEMBL4274202</td>\n",
       "      <td>Inhibition of N-terminal GST-tagged recombinan...</td>\n",
       "      <td>B</td>\n",
       "      <td>CHEMBL554</td>\n",
       "      <td>=</td>\n",
       "      <td>nM</td>\n",
       "      <td>224.89</td>\n",
       "      <td>CHEMBL203</td>\n",
       "      <td>Homo sapiens</td>\n",
       "      <td>IC50</td>\n",
       "      <td>nM</td>\n",
       "      <td>224.89</td>\n",
       "    </tr>\n",
       "    <tr>\n",
       "      <th>7177</th>\n",
       "      <td>18798665</td>\n",
       "      <td>CHEMBL4274202</td>\n",
       "      <td>Inhibition of N-terminal GST-tagged recombinan...</td>\n",
       "      <td>B</td>\n",
       "      <td>CHEMBL939</td>\n",
       "      <td>=</td>\n",
       "      <td>nM</td>\n",
       "      <td>129.7</td>\n",
       "      <td>CHEMBL203</td>\n",
       "      <td>Homo sapiens</td>\n",
       "      <td>IC50</td>\n",
       "      <td>nM</td>\n",
       "      <td>129.7</td>\n",
       "    </tr>\n",
       "  </tbody>\n",
       "</table>\n",
       "<p>7178 rows × 13 columns</p>\n",
       "</div>"
      ],
      "text/plain": [
       "      activity_id assay_chembl_id  \\\n",
       "0           32260    CHEMBL674637   \n",
       "1           32260    CHEMBL674637   \n",
       "2           32267    CHEMBL674637   \n",
       "3           32680    CHEMBL677833   \n",
       "4           32770    CHEMBL674643   \n",
       "...           ...             ...   \n",
       "7173     18798661   CHEMBL4274201   \n",
       "7174     18798662   CHEMBL4274201   \n",
       "7175     18798663   CHEMBL4274202   \n",
       "7176     18798664   CHEMBL4274202   \n",
       "7177     18798665   CHEMBL4274202   \n",
       "\n",
       "                                      assay_description assay_type  \\\n",
       "0     Inhibitory activity towards tyrosine phosphory...          B   \n",
       "1     Inhibitory activity towards tyrosine phosphory...          B   \n",
       "2     Inhibitory activity towards tyrosine phosphory...          B   \n",
       "3     In vitro inhibition of Epidermal growth factor...          B   \n",
       "4     Inhibitory concentration of EGF dependent auto...          B   \n",
       "...                                                 ...        ...   \n",
       "7173  Inhibition of recombinant human EGFR L858R mut...          B   \n",
       "7174  Inhibition of recombinant human EGFR L858R mut...          B   \n",
       "7175  Inhibition of N-terminal GST-tagged recombinan...          B   \n",
       "7176  Inhibition of N-terminal GST-tagged recombinan...          B   \n",
       "7177  Inhibition of N-terminal GST-tagged recombinan...          B   \n",
       "\n",
       "     molecule_chembl_id relation standard_units standard_value  \\\n",
       "0           CHEMBL68920        =             nM           41.0   \n",
       "1           CHEMBL68920        =             nM           41.0   \n",
       "2           CHEMBL69960        =             nM          170.0   \n",
       "3          CHEMBL137635        =             nM         9300.0   \n",
       "4          CHEMBL306988        =             nM       500000.0   \n",
       "...                 ...      ...            ...            ...   \n",
       "7173          CHEMBL554        =             nM          37.55   \n",
       "7174          CHEMBL939        =             nM           11.5   \n",
       "7175      CHEMBL4282506        =             nM          137.3   \n",
       "7176          CHEMBL554        =             nM         224.89   \n",
       "7177          CHEMBL939        =             nM          129.7   \n",
       "\n",
       "     target_chembl_id target_organism  type units   value  \n",
       "0           CHEMBL203    Homo sapiens  IC50    uM   0.041  \n",
       "1           CHEMBL203    Homo sapiens  IC50    uM   0.041  \n",
       "2           CHEMBL203    Homo sapiens  IC50    uM    0.17  \n",
       "3           CHEMBL203    Homo sapiens  IC50    uM     9.3  \n",
       "4           CHEMBL203    Homo sapiens  IC50    uM   500.0  \n",
       "...               ...             ...   ...   ...     ...  \n",
       "7173        CHEMBL203    Homo sapiens  IC50    nM   37.55  \n",
       "7174        CHEMBL203    Homo sapiens  IC50    nM    11.5  \n",
       "7175        CHEMBL203    Homo sapiens  IC50    nM   137.3  \n",
       "7176        CHEMBL203    Homo sapiens  IC50    nM  224.89  \n",
       "7177        CHEMBL203    Homo sapiens  IC50    nM   129.7  \n",
       "\n",
       "[7178 rows x 13 columns]"
      ]
     },
     "execution_count": 16,
     "metadata": {},
     "output_type": "execute_result"
    }
   ],
   "source": [
    "bioactivities_df = pd.DataFrame.from_records(bioactivities)\n",
    "print(f\"DataFrame shape: {bioactivities_df.shape}\")\n",
    "bioactivities_df"
   ]
  },
  {
   "cell_type": "code",
   "execution_count": 17,
   "metadata": {},
   "outputs": [
    {
     "data": {
      "text/plain": [
       "array(['uM', 'nM', 'pM', 'M', \"10'3 uM\", \"10'1 ug/ml\", 'ug ml-1',\n",
       "       \"10'-1microM\", \"10'1 uM\", \"10'-1 ug/ml\", \"10'-2 ug/ml\", \"10'2 uM\",\n",
       "       \"10'-3 ug/ml\", \"10'-2microM\", '/uM', \"10'-6g/ml\", 'mM', 'umol/L',\n",
       "       'nmol/L', \"10'-10M\"], dtype=object)"
      ]
     },
     "execution_count": 17,
     "metadata": {},
     "output_type": "execute_result"
    }
   ],
   "source": [
    "bioactivities_df[\"units\"].unique()"
   ]
  },
  {
   "cell_type": "code",
   "execution_count": 18,
   "metadata": {},
   "outputs": [
    {
     "data": {
      "text/html": [
       "<div>\n",
       "<style scoped>\n",
       "    .dataframe tbody tr th:only-of-type {\n",
       "        vertical-align: middle;\n",
       "    }\n",
       "\n",
       "    .dataframe tbody tr th {\n",
       "        vertical-align: top;\n",
       "    }\n",
       "\n",
       "    .dataframe thead th {\n",
       "        text-align: right;\n",
       "    }\n",
       "</style>\n",
       "<table border=\"1\" class=\"dataframe\">\n",
       "  <thead>\n",
       "    <tr style=\"text-align: right;\">\n",
       "      <th></th>\n",
       "      <th>activity_id</th>\n",
       "      <th>assay_chembl_id</th>\n",
       "      <th>assay_description</th>\n",
       "      <th>assay_type</th>\n",
       "      <th>molecule_chembl_id</th>\n",
       "      <th>relation</th>\n",
       "      <th>standard_units</th>\n",
       "      <th>standard_value</th>\n",
       "      <th>target_chembl_id</th>\n",
       "      <th>target_organism</th>\n",
       "      <th>type</th>\n",
       "    </tr>\n",
       "  </thead>\n",
       "  <tbody>\n",
       "    <tr>\n",
       "      <th>0</th>\n",
       "      <td>32260</td>\n",
       "      <td>CHEMBL674637</td>\n",
       "      <td>Inhibitory activity towards tyrosine phosphory...</td>\n",
       "      <td>B</td>\n",
       "      <td>CHEMBL68920</td>\n",
       "      <td>=</td>\n",
       "      <td>nM</td>\n",
       "      <td>41.0</td>\n",
       "      <td>CHEMBL203</td>\n",
       "      <td>Homo sapiens</td>\n",
       "      <td>IC50</td>\n",
       "    </tr>\n",
       "    <tr>\n",
       "      <th>1</th>\n",
       "      <td>32260</td>\n",
       "      <td>CHEMBL674637</td>\n",
       "      <td>Inhibitory activity towards tyrosine phosphory...</td>\n",
       "      <td>B</td>\n",
       "      <td>CHEMBL68920</td>\n",
       "      <td>=</td>\n",
       "      <td>nM</td>\n",
       "      <td>41.0</td>\n",
       "      <td>CHEMBL203</td>\n",
       "      <td>Homo sapiens</td>\n",
       "      <td>IC50</td>\n",
       "    </tr>\n",
       "    <tr>\n",
       "      <th>2</th>\n",
       "      <td>32267</td>\n",
       "      <td>CHEMBL674637</td>\n",
       "      <td>Inhibitory activity towards tyrosine phosphory...</td>\n",
       "      <td>B</td>\n",
       "      <td>CHEMBL69960</td>\n",
       "      <td>=</td>\n",
       "      <td>nM</td>\n",
       "      <td>170.0</td>\n",
       "      <td>CHEMBL203</td>\n",
       "      <td>Homo sapiens</td>\n",
       "      <td>IC50</td>\n",
       "    </tr>\n",
       "    <tr>\n",
       "      <th>3</th>\n",
       "      <td>32680</td>\n",
       "      <td>CHEMBL677833</td>\n",
       "      <td>In vitro inhibition of Epidermal growth factor...</td>\n",
       "      <td>B</td>\n",
       "      <td>CHEMBL137635</td>\n",
       "      <td>=</td>\n",
       "      <td>nM</td>\n",
       "      <td>9300.0</td>\n",
       "      <td>CHEMBL203</td>\n",
       "      <td>Homo sapiens</td>\n",
       "      <td>IC50</td>\n",
       "    </tr>\n",
       "    <tr>\n",
       "      <th>4</th>\n",
       "      <td>32770</td>\n",
       "      <td>CHEMBL674643</td>\n",
       "      <td>Inhibitory concentration of EGF dependent auto...</td>\n",
       "      <td>B</td>\n",
       "      <td>CHEMBL306988</td>\n",
       "      <td>=</td>\n",
       "      <td>nM</td>\n",
       "      <td>500000.0</td>\n",
       "      <td>CHEMBL203</td>\n",
       "      <td>Homo sapiens</td>\n",
       "      <td>IC50</td>\n",
       "    </tr>\n",
       "  </tbody>\n",
       "</table>\n",
       "</div>"
      ],
      "text/plain": [
       "   activity_id assay_chembl_id  \\\n",
       "0        32260    CHEMBL674637   \n",
       "1        32260    CHEMBL674637   \n",
       "2        32267    CHEMBL674637   \n",
       "3        32680    CHEMBL677833   \n",
       "4        32770    CHEMBL674643   \n",
       "\n",
       "                                   assay_description assay_type  \\\n",
       "0  Inhibitory activity towards tyrosine phosphory...          B   \n",
       "1  Inhibitory activity towards tyrosine phosphory...          B   \n",
       "2  Inhibitory activity towards tyrosine phosphory...          B   \n",
       "3  In vitro inhibition of Epidermal growth factor...          B   \n",
       "4  Inhibitory concentration of EGF dependent auto...          B   \n",
       "\n",
       "  molecule_chembl_id relation standard_units standard_value target_chembl_id  \\\n",
       "0        CHEMBL68920        =             nM           41.0        CHEMBL203   \n",
       "1        CHEMBL68920        =             nM           41.0        CHEMBL203   \n",
       "2        CHEMBL69960        =             nM          170.0        CHEMBL203   \n",
       "3       CHEMBL137635        =             nM         9300.0        CHEMBL203   \n",
       "4       CHEMBL306988        =             nM       500000.0        CHEMBL203   \n",
       "\n",
       "  target_organism  type  \n",
       "0    Homo sapiens  IC50  \n",
       "1    Homo sapiens  IC50  \n",
       "2    Homo sapiens  IC50  \n",
       "3    Homo sapiens  IC50  \n",
       "4    Homo sapiens  IC50  "
      ]
     },
     "execution_count": 18,
     "metadata": {},
     "output_type": "execute_result"
    }
   ],
   "source": [
    "bioactivities_df.drop([\"units\", \"value\"], axis=1, inplace=True)\n",
    "bioactivities_df.head()"
   ]
  },
  {
   "cell_type": "code",
   "execution_count": 19,
   "metadata": {},
   "outputs": [
    {
     "data": {
      "text/plain": [
       "'/tmp/tmpbwcvj5ym/chembl27_activities.npz'"
      ]
     },
     "execution_count": 19,
     "metadata": {},
     "output_type": "execute_result"
    },
    {
     "name": "stdout",
     "output_type": "stream",
     "text": [
      "Number of bioactivity values in full ChEMBL 27 release: 16066124\n"
     ]
    }
   ],
   "source": [
    "with ZipFile(DATA / \"chembl27_activities.npz.zip\") as z, TemporaryDirectory() as tmpdir:\n",
    "    z.extract(\"chembl27_activities.npz\", tmpdir)\n",
    "    with np.load(Path(tmpdir) / \"chembl27_activities.npz\") as f:\n",
    "        bioactivity_ids_chembl_27 = set(f[\"activities\"])\n",
    "\n",
    "print(f\"Number of bioactivity values in full ChEMBL 27 release: {len(bioactivity_ids_chembl_27)}\")\n",
    "# NBVAL_CHECK_OUTPUT\n"
   ]
  },
  {
   "cell_type": "code",
   "execution_count": 20,
   "metadata": {},
   "outputs": [
    {
     "name": "stdout",
     "output_type": "stream",
     "text": [
      "Number of bioactivities queried for EGFR in this notebook: 7178\n",
      "Number of bioactivities after ChEMBL 27 intersection: 7178\n"
     ]
    }
   ],
   "source": [
    "print(f\"Number of bioactivities queried for EGFR in this notebook: {bioactivities_df.shape[0]}\")\n",
    "# Get the intersection between the current and the frozen ChEMBL version\n",
    "bioactivities_df = bioactivities_df[\n",
    "    bioactivities_df[\"activity_id\"].isin(bioactivity_ids_chembl_27)\n",
    "].copy()\n",
    "# NBVAL_CHECK_OUTPUT\n",
    "print(f\"Number of bioactivities after ChEMBL 27 intersection: {bioactivities_df.shape[0]}\")"
   ]
  },
  {
   "cell_type": "code",
   "execution_count": 21,
   "metadata": {},
   "outputs": [
    {
     "data": {
      "text/plain": [
       "activity_id            int64\n",
       "assay_chembl_id       object\n",
       "assay_description     object\n",
       "assay_type            object\n",
       "molecule_chembl_id    object\n",
       "relation              object\n",
       "standard_units        object\n",
       "standard_value        object\n",
       "target_chembl_id      object\n",
       "target_organism       object\n",
       "type                  object\n",
       "dtype: object"
      ]
     },
     "execution_count": 21,
     "metadata": {},
     "output_type": "execute_result"
    }
   ],
   "source": [
    "bioactivities_df.dtypes"
   ]
  },
  {
   "cell_type": "code",
   "execution_count": 22,
   "metadata": {},
   "outputs": [
    {
     "data": {
      "text/plain": [
       "activity_id             int64\n",
       "assay_chembl_id        object\n",
       "assay_description      object\n",
       "assay_type             object\n",
       "molecule_chembl_id     object\n",
       "relation               object\n",
       "standard_units         object\n",
       "standard_value        float64\n",
       "target_chembl_id       object\n",
       "target_organism        object\n",
       "type                   object\n",
       "dtype: object"
      ]
     },
     "execution_count": 22,
     "metadata": {},
     "output_type": "execute_result"
    }
   ],
   "source": [
    "bioactivities_df = bioactivities_df.astype({\"standard_value\": \"float64\"})\n",
    "bioactivities_df.dtypes"
   ]
  },
  {
   "cell_type": "code",
   "execution_count": 23,
   "metadata": {},
   "outputs": [
    {
     "name": "stdout",
     "output_type": "stream",
     "text": [
      "DataFrame shape: (7177, 11)\n"
     ]
    }
   ],
   "source": [
    "bioactivities_df.dropna(axis=0, how=\"any\", inplace=True)\n",
    "print(f\"DataFrame shape: {bioactivities_df.shape}\")"
   ]
  },
  {
   "cell_type": "code",
   "execution_count": 24,
   "metadata": {},
   "outputs": [
    {
     "data": {
      "text/html": [
       "<div>\n",
       "<style scoped>\n",
       "    .dataframe tbody tr th:only-of-type {\n",
       "        vertical-align: middle;\n",
       "    }\n",
       "\n",
       "    .dataframe tbody tr th {\n",
       "        vertical-align: top;\n",
       "    }\n",
       "\n",
       "    .dataframe thead th {\n",
       "        text-align: right;\n",
       "    }\n",
       "</style>\n",
       "<table border=\"1\" class=\"dataframe\">\n",
       "  <thead>\n",
       "    <tr style=\"text-align: right;\">\n",
       "      <th></th>\n",
       "      <th>activity_id</th>\n",
       "      <th>assay_chembl_id</th>\n",
       "      <th>assay_description</th>\n",
       "      <th>assay_type</th>\n",
       "      <th>molecule_chembl_id</th>\n",
       "      <th>relation</th>\n",
       "      <th>standard_units</th>\n",
       "      <th>standard_value</th>\n",
       "      <th>target_chembl_id</th>\n",
       "      <th>target_organism</th>\n",
       "      <th>type</th>\n",
       "    </tr>\n",
       "  </thead>\n",
       "  <tbody>\n",
       "    <tr>\n",
       "      <th>0</th>\n",
       "      <td>32260</td>\n",
       "      <td>CHEMBL674637</td>\n",
       "      <td>Inhibitory activity towards tyrosine phosphory...</td>\n",
       "      <td>B</td>\n",
       "      <td>CHEMBL68920</td>\n",
       "      <td>=</td>\n",
       "      <td>nM</td>\n",
       "      <td>41.00</td>\n",
       "      <td>CHEMBL203</td>\n",
       "      <td>Homo sapiens</td>\n",
       "      <td>IC50</td>\n",
       "    </tr>\n",
       "    <tr>\n",
       "      <th>1</th>\n",
       "      <td>32260</td>\n",
       "      <td>CHEMBL674637</td>\n",
       "      <td>Inhibitory activity towards tyrosine phosphory...</td>\n",
       "      <td>B</td>\n",
       "      <td>CHEMBL68920</td>\n",
       "      <td>=</td>\n",
       "      <td>nM</td>\n",
       "      <td>41.00</td>\n",
       "      <td>CHEMBL203</td>\n",
       "      <td>Homo sapiens</td>\n",
       "      <td>IC50</td>\n",
       "    </tr>\n",
       "    <tr>\n",
       "      <th>2</th>\n",
       "      <td>32267</td>\n",
       "      <td>CHEMBL674637</td>\n",
       "      <td>Inhibitory activity towards tyrosine phosphory...</td>\n",
       "      <td>B</td>\n",
       "      <td>CHEMBL69960</td>\n",
       "      <td>=</td>\n",
       "      <td>nM</td>\n",
       "      <td>170.00</td>\n",
       "      <td>CHEMBL203</td>\n",
       "      <td>Homo sapiens</td>\n",
       "      <td>IC50</td>\n",
       "    </tr>\n",
       "    <tr>\n",
       "      <th>3</th>\n",
       "      <td>32680</td>\n",
       "      <td>CHEMBL677833</td>\n",
       "      <td>In vitro inhibition of Epidermal growth factor...</td>\n",
       "      <td>B</td>\n",
       "      <td>CHEMBL137635</td>\n",
       "      <td>=</td>\n",
       "      <td>nM</td>\n",
       "      <td>9300.00</td>\n",
       "      <td>CHEMBL203</td>\n",
       "      <td>Homo sapiens</td>\n",
       "      <td>IC50</td>\n",
       "    </tr>\n",
       "    <tr>\n",
       "      <th>4</th>\n",
       "      <td>32770</td>\n",
       "      <td>CHEMBL674643</td>\n",
       "      <td>Inhibitory concentration of EGF dependent auto...</td>\n",
       "      <td>B</td>\n",
       "      <td>CHEMBL306988</td>\n",
       "      <td>=</td>\n",
       "      <td>nM</td>\n",
       "      <td>500000.00</td>\n",
       "      <td>CHEMBL203</td>\n",
       "      <td>Homo sapiens</td>\n",
       "      <td>IC50</td>\n",
       "    </tr>\n",
       "    <tr>\n",
       "      <th>...</th>\n",
       "      <td>...</td>\n",
       "      <td>...</td>\n",
       "      <td>...</td>\n",
       "      <td>...</td>\n",
       "      <td>...</td>\n",
       "      <td>...</td>\n",
       "      <td>...</td>\n",
       "      <td>...</td>\n",
       "      <td>...</td>\n",
       "      <td>...</td>\n",
       "      <td>...</td>\n",
       "    </tr>\n",
       "    <tr>\n",
       "      <th>7173</th>\n",
       "      <td>18798661</td>\n",
       "      <td>CHEMBL4274201</td>\n",
       "      <td>Inhibition of recombinant human EGFR L858R mut...</td>\n",
       "      <td>B</td>\n",
       "      <td>CHEMBL554</td>\n",
       "      <td>=</td>\n",
       "      <td>nM</td>\n",
       "      <td>37.55</td>\n",
       "      <td>CHEMBL203</td>\n",
       "      <td>Homo sapiens</td>\n",
       "      <td>IC50</td>\n",
       "    </tr>\n",
       "    <tr>\n",
       "      <th>7174</th>\n",
       "      <td>18798662</td>\n",
       "      <td>CHEMBL4274201</td>\n",
       "      <td>Inhibition of recombinant human EGFR L858R mut...</td>\n",
       "      <td>B</td>\n",
       "      <td>CHEMBL939</td>\n",
       "      <td>=</td>\n",
       "      <td>nM</td>\n",
       "      <td>11.50</td>\n",
       "      <td>CHEMBL203</td>\n",
       "      <td>Homo sapiens</td>\n",
       "      <td>IC50</td>\n",
       "    </tr>\n",
       "    <tr>\n",
       "      <th>7175</th>\n",
       "      <td>18798663</td>\n",
       "      <td>CHEMBL4274202</td>\n",
       "      <td>Inhibition of N-terminal GST-tagged recombinan...</td>\n",
       "      <td>B</td>\n",
       "      <td>CHEMBL4282506</td>\n",
       "      <td>=</td>\n",
       "      <td>nM</td>\n",
       "      <td>137.30</td>\n",
       "      <td>CHEMBL203</td>\n",
       "      <td>Homo sapiens</td>\n",
       "      <td>IC50</td>\n",
       "    </tr>\n",
       "    <tr>\n",
       "      <th>7176</th>\n",
       "      <td>18798664</td>\n",
       "      <td>CHEMBL4274202</td>\n",
       "      <td>Inhibition of N-terminal GST-tagged recombinan...</td>\n",
       "      <td>B</td>\n",
       "      <td>CHEMBL554</td>\n",
       "      <td>=</td>\n",
       "      <td>nM</td>\n",
       "      <td>224.89</td>\n",
       "      <td>CHEMBL203</td>\n",
       "      <td>Homo sapiens</td>\n",
       "      <td>IC50</td>\n",
       "    </tr>\n",
       "    <tr>\n",
       "      <th>7177</th>\n",
       "      <td>18798665</td>\n",
       "      <td>CHEMBL4274202</td>\n",
       "      <td>Inhibition of N-terminal GST-tagged recombinan...</td>\n",
       "      <td>B</td>\n",
       "      <td>CHEMBL939</td>\n",
       "      <td>=</td>\n",
       "      <td>nM</td>\n",
       "      <td>129.70</td>\n",
       "      <td>CHEMBL203</td>\n",
       "      <td>Homo sapiens</td>\n",
       "      <td>IC50</td>\n",
       "    </tr>\n",
       "  </tbody>\n",
       "</table>\n",
       "<p>7177 rows × 11 columns</p>\n",
       "</div>"
      ],
      "text/plain": [
       "      activity_id assay_chembl_id  \\\n",
       "0           32260    CHEMBL674637   \n",
       "1           32260    CHEMBL674637   \n",
       "2           32267    CHEMBL674637   \n",
       "3           32680    CHEMBL677833   \n",
       "4           32770    CHEMBL674643   \n",
       "...           ...             ...   \n",
       "7173     18798661   CHEMBL4274201   \n",
       "7174     18798662   CHEMBL4274201   \n",
       "7175     18798663   CHEMBL4274202   \n",
       "7176     18798664   CHEMBL4274202   \n",
       "7177     18798665   CHEMBL4274202   \n",
       "\n",
       "                                      assay_description assay_type  \\\n",
       "0     Inhibitory activity towards tyrosine phosphory...          B   \n",
       "1     Inhibitory activity towards tyrosine phosphory...          B   \n",
       "2     Inhibitory activity towards tyrosine phosphory...          B   \n",
       "3     In vitro inhibition of Epidermal growth factor...          B   \n",
       "4     Inhibitory concentration of EGF dependent auto...          B   \n",
       "...                                                 ...        ...   \n",
       "7173  Inhibition of recombinant human EGFR L858R mut...          B   \n",
       "7174  Inhibition of recombinant human EGFR L858R mut...          B   \n",
       "7175  Inhibition of N-terminal GST-tagged recombinan...          B   \n",
       "7176  Inhibition of N-terminal GST-tagged recombinan...          B   \n",
       "7177  Inhibition of N-terminal GST-tagged recombinan...          B   \n",
       "\n",
       "     molecule_chembl_id relation standard_units  standard_value  \\\n",
       "0           CHEMBL68920        =             nM           41.00   \n",
       "1           CHEMBL68920        =             nM           41.00   \n",
       "2           CHEMBL69960        =             nM          170.00   \n",
       "3          CHEMBL137635        =             nM         9300.00   \n",
       "4          CHEMBL306988        =             nM       500000.00   \n",
       "...                 ...      ...            ...             ...   \n",
       "7173          CHEMBL554        =             nM           37.55   \n",
       "7174          CHEMBL939        =             nM           11.50   \n",
       "7175      CHEMBL4282506        =             nM          137.30   \n",
       "7176          CHEMBL554        =             nM          224.89   \n",
       "7177          CHEMBL939        =             nM          129.70   \n",
       "\n",
       "     target_chembl_id target_organism  type  \n",
       "0           CHEMBL203    Homo sapiens  IC50  \n",
       "1           CHEMBL203    Homo sapiens  IC50  \n",
       "2           CHEMBL203    Homo sapiens  IC50  \n",
       "3           CHEMBL203    Homo sapiens  IC50  \n",
       "4           CHEMBL203    Homo sapiens  IC50  \n",
       "...               ...             ...   ...  \n",
       "7173        CHEMBL203    Homo sapiens  IC50  \n",
       "7174        CHEMBL203    Homo sapiens  IC50  \n",
       "7175        CHEMBL203    Homo sapiens  IC50  \n",
       "7176        CHEMBL203    Homo sapiens  IC50  \n",
       "7177        CHEMBL203    Homo sapiens  IC50  \n",
       "\n",
       "[7177 rows x 11 columns]"
      ]
     },
     "execution_count": 24,
     "metadata": {},
     "output_type": "execute_result"
    }
   ],
   "source": [
    "bioactivities_df"
   ]
  },
  {
   "cell_type": "code",
   "execution_count": 25,
   "metadata": {},
   "outputs": [
    {
     "name": "stdout",
     "output_type": "stream",
     "text": [
      "Units in downloaded data: ['nM' 'ug.mL-1' '/uM']\n",
      "Number of non-nM entries:    64\n"
     ]
    }
   ],
   "source": [
    "## keeping only bioactivities in nm\n",
    "print(f\"Units in downloaded data: {bioactivities_df['standard_units'].unique()}\")\n",
    "print(\n",
    "    f\"Number of non-nM entries:\\\n",
    "    {bioactivities_df[bioactivities_df['standard_units'] != 'nM'].shape[0]}\"\n",
    ")"
   ]
  },
  {
   "cell_type": "code",
   "execution_count": 26,
   "metadata": {},
   "outputs": [
    {
     "data": {
      "text/html": [
       "<div>\n",
       "<style scoped>\n",
       "    .dataframe tbody tr th:only-of-type {\n",
       "        vertical-align: middle;\n",
       "    }\n",
       "\n",
       "    .dataframe tbody tr th {\n",
       "        vertical-align: top;\n",
       "    }\n",
       "\n",
       "    .dataframe thead th {\n",
       "        text-align: right;\n",
       "    }\n",
       "</style>\n",
       "<table border=\"1\" class=\"dataframe\">\n",
       "  <thead>\n",
       "    <tr style=\"text-align: right;\">\n",
       "      <th></th>\n",
       "      <th>activity_id</th>\n",
       "      <th>assay_chembl_id</th>\n",
       "      <th>assay_description</th>\n",
       "      <th>assay_type</th>\n",
       "      <th>molecule_chembl_id</th>\n",
       "      <th>relation</th>\n",
       "      <th>standard_units</th>\n",
       "      <th>standard_value</th>\n",
       "      <th>target_chembl_id</th>\n",
       "      <th>target_organism</th>\n",
       "      <th>type</th>\n",
       "    </tr>\n",
       "  </thead>\n",
       "  <tbody>\n",
       "    <tr>\n",
       "      <th>0</th>\n",
       "      <td>32260</td>\n",
       "      <td>CHEMBL674637</td>\n",
       "      <td>Inhibitory activity towards tyrosine phosphory...</td>\n",
       "      <td>B</td>\n",
       "      <td>CHEMBL68920</td>\n",
       "      <td>=</td>\n",
       "      <td>nM</td>\n",
       "      <td>41.00</td>\n",
       "      <td>CHEMBL203</td>\n",
       "      <td>Homo sapiens</td>\n",
       "      <td>IC50</td>\n",
       "    </tr>\n",
       "    <tr>\n",
       "      <th>1</th>\n",
       "      <td>32260</td>\n",
       "      <td>CHEMBL674637</td>\n",
       "      <td>Inhibitory activity towards tyrosine phosphory...</td>\n",
       "      <td>B</td>\n",
       "      <td>CHEMBL68920</td>\n",
       "      <td>=</td>\n",
       "      <td>nM</td>\n",
       "      <td>41.00</td>\n",
       "      <td>CHEMBL203</td>\n",
       "      <td>Homo sapiens</td>\n",
       "      <td>IC50</td>\n",
       "    </tr>\n",
       "    <tr>\n",
       "      <th>2</th>\n",
       "      <td>32267</td>\n",
       "      <td>CHEMBL674637</td>\n",
       "      <td>Inhibitory activity towards tyrosine phosphory...</td>\n",
       "      <td>B</td>\n",
       "      <td>CHEMBL69960</td>\n",
       "      <td>=</td>\n",
       "      <td>nM</td>\n",
       "      <td>170.00</td>\n",
       "      <td>CHEMBL203</td>\n",
       "      <td>Homo sapiens</td>\n",
       "      <td>IC50</td>\n",
       "    </tr>\n",
       "    <tr>\n",
       "      <th>3</th>\n",
       "      <td>32680</td>\n",
       "      <td>CHEMBL677833</td>\n",
       "      <td>In vitro inhibition of Epidermal growth factor...</td>\n",
       "      <td>B</td>\n",
       "      <td>CHEMBL137635</td>\n",
       "      <td>=</td>\n",
       "      <td>nM</td>\n",
       "      <td>9300.00</td>\n",
       "      <td>CHEMBL203</td>\n",
       "      <td>Homo sapiens</td>\n",
       "      <td>IC50</td>\n",
       "    </tr>\n",
       "    <tr>\n",
       "      <th>4</th>\n",
       "      <td>32770</td>\n",
       "      <td>CHEMBL674643</td>\n",
       "      <td>Inhibitory concentration of EGF dependent auto...</td>\n",
       "      <td>B</td>\n",
       "      <td>CHEMBL306988</td>\n",
       "      <td>=</td>\n",
       "      <td>nM</td>\n",
       "      <td>500000.00</td>\n",
       "      <td>CHEMBL203</td>\n",
       "      <td>Homo sapiens</td>\n",
       "      <td>IC50</td>\n",
       "    </tr>\n",
       "    <tr>\n",
       "      <th>...</th>\n",
       "      <td>...</td>\n",
       "      <td>...</td>\n",
       "      <td>...</td>\n",
       "      <td>...</td>\n",
       "      <td>...</td>\n",
       "      <td>...</td>\n",
       "      <td>...</td>\n",
       "      <td>...</td>\n",
       "      <td>...</td>\n",
       "      <td>...</td>\n",
       "      <td>...</td>\n",
       "    </tr>\n",
       "    <tr>\n",
       "      <th>7173</th>\n",
       "      <td>18798661</td>\n",
       "      <td>CHEMBL4274201</td>\n",
       "      <td>Inhibition of recombinant human EGFR L858R mut...</td>\n",
       "      <td>B</td>\n",
       "      <td>CHEMBL554</td>\n",
       "      <td>=</td>\n",
       "      <td>nM</td>\n",
       "      <td>37.55</td>\n",
       "      <td>CHEMBL203</td>\n",
       "      <td>Homo sapiens</td>\n",
       "      <td>IC50</td>\n",
       "    </tr>\n",
       "    <tr>\n",
       "      <th>7174</th>\n",
       "      <td>18798662</td>\n",
       "      <td>CHEMBL4274201</td>\n",
       "      <td>Inhibition of recombinant human EGFR L858R mut...</td>\n",
       "      <td>B</td>\n",
       "      <td>CHEMBL939</td>\n",
       "      <td>=</td>\n",
       "      <td>nM</td>\n",
       "      <td>11.50</td>\n",
       "      <td>CHEMBL203</td>\n",
       "      <td>Homo sapiens</td>\n",
       "      <td>IC50</td>\n",
       "    </tr>\n",
       "    <tr>\n",
       "      <th>7175</th>\n",
       "      <td>18798663</td>\n",
       "      <td>CHEMBL4274202</td>\n",
       "      <td>Inhibition of N-terminal GST-tagged recombinan...</td>\n",
       "      <td>B</td>\n",
       "      <td>CHEMBL4282506</td>\n",
       "      <td>=</td>\n",
       "      <td>nM</td>\n",
       "      <td>137.30</td>\n",
       "      <td>CHEMBL203</td>\n",
       "      <td>Homo sapiens</td>\n",
       "      <td>IC50</td>\n",
       "    </tr>\n",
       "    <tr>\n",
       "      <th>7176</th>\n",
       "      <td>18798664</td>\n",
       "      <td>CHEMBL4274202</td>\n",
       "      <td>Inhibition of N-terminal GST-tagged recombinan...</td>\n",
       "      <td>B</td>\n",
       "      <td>CHEMBL554</td>\n",
       "      <td>=</td>\n",
       "      <td>nM</td>\n",
       "      <td>224.89</td>\n",
       "      <td>CHEMBL203</td>\n",
       "      <td>Homo sapiens</td>\n",
       "      <td>IC50</td>\n",
       "    </tr>\n",
       "    <tr>\n",
       "      <th>7177</th>\n",
       "      <td>18798665</td>\n",
       "      <td>CHEMBL4274202</td>\n",
       "      <td>Inhibition of N-terminal GST-tagged recombinan...</td>\n",
       "      <td>B</td>\n",
       "      <td>CHEMBL939</td>\n",
       "      <td>=</td>\n",
       "      <td>nM</td>\n",
       "      <td>129.70</td>\n",
       "      <td>CHEMBL203</td>\n",
       "      <td>Homo sapiens</td>\n",
       "      <td>IC50</td>\n",
       "    </tr>\n",
       "  </tbody>\n",
       "</table>\n",
       "<p>7177 rows × 11 columns</p>\n",
       "</div>"
      ],
      "text/plain": [
       "      activity_id assay_chembl_id  \\\n",
       "0           32260    CHEMBL674637   \n",
       "1           32260    CHEMBL674637   \n",
       "2           32267    CHEMBL674637   \n",
       "3           32680    CHEMBL677833   \n",
       "4           32770    CHEMBL674643   \n",
       "...           ...             ...   \n",
       "7173     18798661   CHEMBL4274201   \n",
       "7174     18798662   CHEMBL4274201   \n",
       "7175     18798663   CHEMBL4274202   \n",
       "7176     18798664   CHEMBL4274202   \n",
       "7177     18798665   CHEMBL4274202   \n",
       "\n",
       "                                      assay_description assay_type  \\\n",
       "0     Inhibitory activity towards tyrosine phosphory...          B   \n",
       "1     Inhibitory activity towards tyrosine phosphory...          B   \n",
       "2     Inhibitory activity towards tyrosine phosphory...          B   \n",
       "3     In vitro inhibition of Epidermal growth factor...          B   \n",
       "4     Inhibitory concentration of EGF dependent auto...          B   \n",
       "...                                                 ...        ...   \n",
       "7173  Inhibition of recombinant human EGFR L858R mut...          B   \n",
       "7174  Inhibition of recombinant human EGFR L858R mut...          B   \n",
       "7175  Inhibition of N-terminal GST-tagged recombinan...          B   \n",
       "7176  Inhibition of N-terminal GST-tagged recombinan...          B   \n",
       "7177  Inhibition of N-terminal GST-tagged recombinan...          B   \n",
       "\n",
       "     molecule_chembl_id relation standard_units  standard_value  \\\n",
       "0           CHEMBL68920        =             nM           41.00   \n",
       "1           CHEMBL68920        =             nM           41.00   \n",
       "2           CHEMBL69960        =             nM          170.00   \n",
       "3          CHEMBL137635        =             nM         9300.00   \n",
       "4          CHEMBL306988        =             nM       500000.00   \n",
       "...                 ...      ...            ...             ...   \n",
       "7173          CHEMBL554        =             nM           37.55   \n",
       "7174          CHEMBL939        =             nM           11.50   \n",
       "7175      CHEMBL4282506        =             nM          137.30   \n",
       "7176          CHEMBL554        =             nM          224.89   \n",
       "7177          CHEMBL939        =             nM          129.70   \n",
       "\n",
       "     target_chembl_id target_organism  type  \n",
       "0           CHEMBL203    Homo sapiens  IC50  \n",
       "1           CHEMBL203    Homo sapiens  IC50  \n",
       "2           CHEMBL203    Homo sapiens  IC50  \n",
       "3           CHEMBL203    Homo sapiens  IC50  \n",
       "4           CHEMBL203    Homo sapiens  IC50  \n",
       "...               ...             ...   ...  \n",
       "7173        CHEMBL203    Homo sapiens  IC50  \n",
       "7174        CHEMBL203    Homo sapiens  IC50  \n",
       "7175        CHEMBL203    Homo sapiens  IC50  \n",
       "7176        CHEMBL203    Homo sapiens  IC50  \n",
       "7177        CHEMBL203    Homo sapiens  IC50  \n",
       "\n",
       "[7177 rows x 11 columns]"
      ]
     },
     "execution_count": 26,
     "metadata": {},
     "output_type": "execute_result"
    }
   ],
   "source": [
    "bioactivities_df"
   ]
  },
  {
   "cell_type": "code",
   "execution_count": 27,
   "metadata": {},
   "outputs": [
    {
     "name": "stdout",
     "output_type": "stream",
     "text": [
      "Units after filtering: ['nM']\n"
     ]
    }
   ],
   "source": [
    "bioactivities_df = bioactivities_df[bioactivities_df[\"standard_units\"] == \"nM\"]\n",
    "print(f\"Units after filtering: {bioactivities_df['standard_units'].unique()}\")"
   ]
  },
  {
   "cell_type": "code",
   "execution_count": 28,
   "metadata": {},
   "outputs": [
    {
     "name": "stdout",
     "output_type": "stream",
     "text": [
      "DataFrame shape: (7113, 11)\n"
     ]
    }
   ],
   "source": [
    "print(f\"DataFrame shape: {bioactivities_df.shape}\")"
   ]
  },
  {
   "cell_type": "code",
   "execution_count": 29,
   "metadata": {},
   "outputs": [
    {
     "name": "stdout",
     "output_type": "stream",
     "text": [
      "DataFrame shape: (5451, 11)\n"
     ]
    },
    {
     "name": "stderr",
     "output_type": "stream",
     "text": [
      "<ipython-input-29-d75850a7340e>:1: SettingWithCopyWarning: \n",
      "A value is trying to be set on a copy of a slice from a DataFrame\n",
      "\n",
      "See the caveats in the documentation: https://pandas.pydata.org/pandas-docs/stable/user_guide/indexing.html#returning-a-view-versus-a-copy\n",
      "  bioactivities_df.drop_duplicates(\"molecule_chembl_id\", keep=\"first\", inplace=True)\n"
     ]
    }
   ],
   "source": [
    "bioactivities_df.drop_duplicates(\"molecule_chembl_id\", keep=\"first\", inplace=True)\n",
    "print(f\"DataFrame shape: {bioactivities_df.shape}\")"
   ]
  },
  {
   "cell_type": "code",
   "execution_count": 30,
   "metadata": {},
   "outputs": [
    {
     "data": {
      "text/html": [
       "<div>\n",
       "<style scoped>\n",
       "    .dataframe tbody tr th:only-of-type {\n",
       "        vertical-align: middle;\n",
       "    }\n",
       "\n",
       "    .dataframe tbody tr th {\n",
       "        vertical-align: top;\n",
       "    }\n",
       "\n",
       "    .dataframe thead th {\n",
       "        text-align: right;\n",
       "    }\n",
       "</style>\n",
       "<table border=\"1\" class=\"dataframe\">\n",
       "  <thead>\n",
       "    <tr style=\"text-align: right;\">\n",
       "      <th></th>\n",
       "      <th>activity_id</th>\n",
       "      <th>assay_chembl_id</th>\n",
       "      <th>assay_description</th>\n",
       "      <th>assay_type</th>\n",
       "      <th>molecule_chembl_id</th>\n",
       "      <th>relation</th>\n",
       "      <th>standard_units</th>\n",
       "      <th>standard_value</th>\n",
       "      <th>target_chembl_id</th>\n",
       "      <th>target_organism</th>\n",
       "      <th>type</th>\n",
       "    </tr>\n",
       "  </thead>\n",
       "  <tbody>\n",
       "    <tr>\n",
       "      <th>0</th>\n",
       "      <td>32260</td>\n",
       "      <td>CHEMBL674637</td>\n",
       "      <td>Inhibitory activity towards tyrosine phosphory...</td>\n",
       "      <td>B</td>\n",
       "      <td>CHEMBL68920</td>\n",
       "      <td>=</td>\n",
       "      <td>nM</td>\n",
       "      <td>41.0</td>\n",
       "      <td>CHEMBL203</td>\n",
       "      <td>Homo sapiens</td>\n",
       "      <td>IC50</td>\n",
       "    </tr>\n",
       "    <tr>\n",
       "      <th>1</th>\n",
       "      <td>32267</td>\n",
       "      <td>CHEMBL674637</td>\n",
       "      <td>Inhibitory activity towards tyrosine phosphory...</td>\n",
       "      <td>B</td>\n",
       "      <td>CHEMBL69960</td>\n",
       "      <td>=</td>\n",
       "      <td>nM</td>\n",
       "      <td>170.0</td>\n",
       "      <td>CHEMBL203</td>\n",
       "      <td>Homo sapiens</td>\n",
       "      <td>IC50</td>\n",
       "    </tr>\n",
       "    <tr>\n",
       "      <th>2</th>\n",
       "      <td>32680</td>\n",
       "      <td>CHEMBL677833</td>\n",
       "      <td>In vitro inhibition of Epidermal growth factor...</td>\n",
       "      <td>B</td>\n",
       "      <td>CHEMBL137635</td>\n",
       "      <td>=</td>\n",
       "      <td>nM</td>\n",
       "      <td>9300.0</td>\n",
       "      <td>CHEMBL203</td>\n",
       "      <td>Homo sapiens</td>\n",
       "      <td>IC50</td>\n",
       "    </tr>\n",
       "    <tr>\n",
       "      <th>3</th>\n",
       "      <td>32770</td>\n",
       "      <td>CHEMBL674643</td>\n",
       "      <td>Inhibitory concentration of EGF dependent auto...</td>\n",
       "      <td>B</td>\n",
       "      <td>CHEMBL306988</td>\n",
       "      <td>=</td>\n",
       "      <td>nM</td>\n",
       "      <td>500000.0</td>\n",
       "      <td>CHEMBL203</td>\n",
       "      <td>Homo sapiens</td>\n",
       "      <td>IC50</td>\n",
       "    </tr>\n",
       "    <tr>\n",
       "      <th>4</th>\n",
       "      <td>32772</td>\n",
       "      <td>CHEMBL674643</td>\n",
       "      <td>Inhibitory concentration of EGF dependent auto...</td>\n",
       "      <td>B</td>\n",
       "      <td>CHEMBL66879</td>\n",
       "      <td>=</td>\n",
       "      <td>nM</td>\n",
       "      <td>3000000.0</td>\n",
       "      <td>CHEMBL203</td>\n",
       "      <td>Homo sapiens</td>\n",
       "      <td>IC50</td>\n",
       "    </tr>\n",
       "  </tbody>\n",
       "</table>\n",
       "</div>"
      ],
      "text/plain": [
       "   activity_id assay_chembl_id  \\\n",
       "0        32260    CHEMBL674637   \n",
       "1        32267    CHEMBL674637   \n",
       "2        32680    CHEMBL677833   \n",
       "3        32770    CHEMBL674643   \n",
       "4        32772    CHEMBL674643   \n",
       "\n",
       "                                   assay_description assay_type  \\\n",
       "0  Inhibitory activity towards tyrosine phosphory...          B   \n",
       "1  Inhibitory activity towards tyrosine phosphory...          B   \n",
       "2  In vitro inhibition of Epidermal growth factor...          B   \n",
       "3  Inhibitory concentration of EGF dependent auto...          B   \n",
       "4  Inhibitory concentration of EGF dependent auto...          B   \n",
       "\n",
       "  molecule_chembl_id relation standard_units  standard_value target_chembl_id  \\\n",
       "0        CHEMBL68920        =             nM            41.0        CHEMBL203   \n",
       "1        CHEMBL69960        =             nM           170.0        CHEMBL203   \n",
       "2       CHEMBL137635        =             nM          9300.0        CHEMBL203   \n",
       "3       CHEMBL306988        =             nM        500000.0        CHEMBL203   \n",
       "4        CHEMBL66879        =             nM       3000000.0        CHEMBL203   \n",
       "\n",
       "  target_organism  type  \n",
       "0    Homo sapiens  IC50  \n",
       "1    Homo sapiens  IC50  \n",
       "2    Homo sapiens  IC50  \n",
       "3    Homo sapiens  IC50  \n",
       "4    Homo sapiens  IC50  "
      ]
     },
     "execution_count": 30,
     "metadata": {},
     "output_type": "execute_result"
    }
   ],
   "source": [
    "bioactivities_df.reset_index(drop=True, inplace=True)\n",
    "bioactivities_df.head()"
   ]
  },
  {
   "cell_type": "code",
   "execution_count": 31,
   "metadata": {},
   "outputs": [
    {
     "name": "stderr",
     "output_type": "stream",
     "text": [
      "/home/mandar/anaconda3/envs/teachopencadd/lib/python3.8/site-packages/pandas/core/frame.py:4300: SettingWithCopyWarning: \n",
      "A value is trying to be set on a copy of a slice from a DataFrame\n",
      "\n",
      "See the caveats in the documentation: https://pandas.pydata.org/pandas-docs/stable/user_guide/indexing.html#returning-a-view-versus-a-copy\n",
      "  return super().rename(\n"
     ]
    },
    {
     "data": {
      "text/html": [
       "<div>\n",
       "<style scoped>\n",
       "    .dataframe tbody tr th:only-of-type {\n",
       "        vertical-align: middle;\n",
       "    }\n",
       "\n",
       "    .dataframe tbody tr th {\n",
       "        vertical-align: top;\n",
       "    }\n",
       "\n",
       "    .dataframe thead th {\n",
       "        text-align: right;\n",
       "    }\n",
       "</style>\n",
       "<table border=\"1\" class=\"dataframe\">\n",
       "  <thead>\n",
       "    <tr style=\"text-align: right;\">\n",
       "      <th></th>\n",
       "      <th>activity_id</th>\n",
       "      <th>assay_chembl_id</th>\n",
       "      <th>assay_description</th>\n",
       "      <th>assay_type</th>\n",
       "      <th>molecule_chembl_id</th>\n",
       "      <th>relation</th>\n",
       "      <th>units</th>\n",
       "      <th>IC50</th>\n",
       "      <th>target_chembl_id</th>\n",
       "      <th>target_organism</th>\n",
       "      <th>type</th>\n",
       "    </tr>\n",
       "  </thead>\n",
       "  <tbody>\n",
       "    <tr>\n",
       "      <th>0</th>\n",
       "      <td>32260</td>\n",
       "      <td>CHEMBL674637</td>\n",
       "      <td>Inhibitory activity towards tyrosine phosphory...</td>\n",
       "      <td>B</td>\n",
       "      <td>CHEMBL68920</td>\n",
       "      <td>=</td>\n",
       "      <td>nM</td>\n",
       "      <td>41.0</td>\n",
       "      <td>CHEMBL203</td>\n",
       "      <td>Homo sapiens</td>\n",
       "      <td>IC50</td>\n",
       "    </tr>\n",
       "    <tr>\n",
       "      <th>1</th>\n",
       "      <td>32267</td>\n",
       "      <td>CHEMBL674637</td>\n",
       "      <td>Inhibitory activity towards tyrosine phosphory...</td>\n",
       "      <td>B</td>\n",
       "      <td>CHEMBL69960</td>\n",
       "      <td>=</td>\n",
       "      <td>nM</td>\n",
       "      <td>170.0</td>\n",
       "      <td>CHEMBL203</td>\n",
       "      <td>Homo sapiens</td>\n",
       "      <td>IC50</td>\n",
       "    </tr>\n",
       "    <tr>\n",
       "      <th>2</th>\n",
       "      <td>32680</td>\n",
       "      <td>CHEMBL677833</td>\n",
       "      <td>In vitro inhibition of Epidermal growth factor...</td>\n",
       "      <td>B</td>\n",
       "      <td>CHEMBL137635</td>\n",
       "      <td>=</td>\n",
       "      <td>nM</td>\n",
       "      <td>9300.0</td>\n",
       "      <td>CHEMBL203</td>\n",
       "      <td>Homo sapiens</td>\n",
       "      <td>IC50</td>\n",
       "    </tr>\n",
       "    <tr>\n",
       "      <th>3</th>\n",
       "      <td>32770</td>\n",
       "      <td>CHEMBL674643</td>\n",
       "      <td>Inhibitory concentration of EGF dependent auto...</td>\n",
       "      <td>B</td>\n",
       "      <td>CHEMBL306988</td>\n",
       "      <td>=</td>\n",
       "      <td>nM</td>\n",
       "      <td>500000.0</td>\n",
       "      <td>CHEMBL203</td>\n",
       "      <td>Homo sapiens</td>\n",
       "      <td>IC50</td>\n",
       "    </tr>\n",
       "    <tr>\n",
       "      <th>4</th>\n",
       "      <td>32772</td>\n",
       "      <td>CHEMBL674643</td>\n",
       "      <td>Inhibitory concentration of EGF dependent auto...</td>\n",
       "      <td>B</td>\n",
       "      <td>CHEMBL66879</td>\n",
       "      <td>=</td>\n",
       "      <td>nM</td>\n",
       "      <td>3000000.0</td>\n",
       "      <td>CHEMBL203</td>\n",
       "      <td>Homo sapiens</td>\n",
       "      <td>IC50</td>\n",
       "    </tr>\n",
       "  </tbody>\n",
       "</table>\n",
       "</div>"
      ],
      "text/plain": [
       "   activity_id assay_chembl_id  \\\n",
       "0        32260    CHEMBL674637   \n",
       "1        32267    CHEMBL674637   \n",
       "2        32680    CHEMBL677833   \n",
       "3        32770    CHEMBL674643   \n",
       "4        32772    CHEMBL674643   \n",
       "\n",
       "                                   assay_description assay_type  \\\n",
       "0  Inhibitory activity towards tyrosine phosphory...          B   \n",
       "1  Inhibitory activity towards tyrosine phosphory...          B   \n",
       "2  In vitro inhibition of Epidermal growth factor...          B   \n",
       "3  Inhibitory concentration of EGF dependent auto...          B   \n",
       "4  Inhibitory concentration of EGF dependent auto...          B   \n",
       "\n",
       "  molecule_chembl_id relation units       IC50 target_chembl_id  \\\n",
       "0        CHEMBL68920        =    nM       41.0        CHEMBL203   \n",
       "1        CHEMBL69960        =    nM      170.0        CHEMBL203   \n",
       "2       CHEMBL137635        =    nM     9300.0        CHEMBL203   \n",
       "3       CHEMBL306988        =    nM   500000.0        CHEMBL203   \n",
       "4        CHEMBL66879        =    nM  3000000.0        CHEMBL203   \n",
       "\n",
       "  target_organism  type  \n",
       "0    Homo sapiens  IC50  \n",
       "1    Homo sapiens  IC50  \n",
       "2    Homo sapiens  IC50  \n",
       "3    Homo sapiens  IC50  \n",
       "4    Homo sapiens  IC50  "
      ]
     },
     "execution_count": 31,
     "metadata": {},
     "output_type": "execute_result"
    }
   ],
   "source": [
    "bioactivities_df.rename(\n",
    "    columns={\"standard_value\": \"IC50\", \"standard_units\": \"units\"}, inplace=True\n",
    ")\n",
    "bioactivities_df.head()"
   ]
  },
  {
   "cell_type": "code",
   "execution_count": 32,
   "metadata": {},
   "outputs": [
    {
     "name": "stdout",
     "output_type": "stream",
     "text": [
      "DataFrame shape: (5451, 11)\n"
     ]
    }
   ],
   "source": [
    "print(f\"DataFrame shape: {bioactivities_df.shape}\")\n",
    "# NBVAL_CHECK_OUTPUT"
   ]
  },
  {
   "cell_type": "code",
   "execution_count": 83,
   "metadata": {},
   "outputs": [],
   "source": [
    "compounds = compounds_api.filter(\n",
    "    molecule_chembl_id__in=list(bioactivities_df[\"molecule_chembl_id\"])\n",
    ").only(\"molecule_chembl_id\", \"molecule_structures\")"
   ]
  },
  {
   "cell_type": "code",
   "execution_count": 84,
   "metadata": {},
   "outputs": [
    {
     "name": "stdout",
     "output_type": "stream",
     "text": [
      "DataFrame shape: (5452, 2)\n"
     ]
    }
   ],
   "source": [
    "compounds_df = pd.DataFrame.from_records(compounds)\n",
    "print(f\"DataFrame shape: {compounds_df.shape}\")"
   ]
  },
  {
   "cell_type": "code",
   "execution_count": 85,
   "metadata": {},
   "outputs": [
    {
     "data": {
      "text/html": [
       "<div>\n",
       "<style scoped>\n",
       "    .dataframe tbody tr th:only-of-type {\n",
       "        vertical-align: middle;\n",
       "    }\n",
       "\n",
       "    .dataframe tbody tr th {\n",
       "        vertical-align: top;\n",
       "    }\n",
       "\n",
       "    .dataframe thead th {\n",
       "        text-align: right;\n",
       "    }\n",
       "</style>\n",
       "<table border=\"1\" class=\"dataframe\">\n",
       "  <thead>\n",
       "    <tr style=\"text-align: right;\">\n",
       "      <th></th>\n",
       "      <th>molecule_chembl_id</th>\n",
       "      <th>molecule_structures</th>\n",
       "    </tr>\n",
       "  </thead>\n",
       "  <tbody>\n",
       "    <tr>\n",
       "      <th>0</th>\n",
       "      <td>CHEMBL6246</td>\n",
       "      <td>{'canonical_smiles': 'O=c1oc2c(O)c(O)cc3c(=O)o...</td>\n",
       "    </tr>\n",
       "    <tr>\n",
       "      <th>1</th>\n",
       "      <td>CHEMBL6246</td>\n",
       "      <td>{'canonical_smiles': 'O=c1oc2c(O)c(O)cc3c(=O)o...</td>\n",
       "    </tr>\n",
       "    <tr>\n",
       "      <th>2</th>\n",
       "      <td>CHEMBL10</td>\n",
       "      <td>{'canonical_smiles': 'C[S+]([O-])c1ccc(-c2nc(-...</td>\n",
       "    </tr>\n",
       "    <tr>\n",
       "      <th>3</th>\n",
       "      <td>CHEMBL6976</td>\n",
       "      <td>{'canonical_smiles': 'COc1cc2c(cc1OC)Nc1ncn(C)...</td>\n",
       "    </tr>\n",
       "    <tr>\n",
       "      <th>4</th>\n",
       "      <td>CHEMBL7002</td>\n",
       "      <td>{'canonical_smiles': 'CC1(COc2ccc(CC3SC(=O)NC3...</td>\n",
       "    </tr>\n",
       "  </tbody>\n",
       "</table>\n",
       "</div>"
      ],
      "text/plain": [
       "  molecule_chembl_id                                molecule_structures\n",
       "0         CHEMBL6246  {'canonical_smiles': 'O=c1oc2c(O)c(O)cc3c(=O)o...\n",
       "1         CHEMBL6246  {'canonical_smiles': 'O=c1oc2c(O)c(O)cc3c(=O)o...\n",
       "2           CHEMBL10  {'canonical_smiles': 'C[S+]([O-])c1ccc(-c2nc(-...\n",
       "3         CHEMBL6976  {'canonical_smiles': 'COc1cc2c(cc1OC)Nc1ncn(C)...\n",
       "4         CHEMBL7002  {'canonical_smiles': 'CC1(COc2ccc(CC3SC(=O)NC3..."
      ]
     },
     "execution_count": 85,
     "metadata": {},
     "output_type": "execute_result"
    }
   ],
   "source": [
    "compounds_df.head()"
   ]
  },
  {
   "cell_type": "code",
   "execution_count": 86,
   "metadata": {},
   "outputs": [
    {
     "name": "stdout",
     "output_type": "stream",
     "text": [
      "DataFrame shape: (5445, 2)\n"
     ]
    }
   ],
   "source": [
    "compounds_df.dropna(axis=0, how=\"any\", inplace=True)\n",
    "print(f\"DataFrame shape: {compounds_df.shape}\")"
   ]
  },
  {
   "cell_type": "code",
   "execution_count": 87,
   "metadata": {},
   "outputs": [
    {
     "name": "stdout",
     "output_type": "stream",
     "text": [
      "DataFrame shape: (5444, 2)\n"
     ]
    }
   ],
   "source": [
    "compounds_df.drop_duplicates(\"molecule_chembl_id\", keep=\"first\", inplace=True)\n",
    "print(f\"DataFrame shape: {compounds_df.shape}\")"
   ]
  },
  {
   "cell_type": "code",
   "execution_count": 88,
   "metadata": {},
   "outputs": [
    {
     "data": {
      "text/plain": [
       "dict_keys(['canonical_smiles', 'molfile', 'standard_inchi', 'standard_inchi_key'])"
      ]
     },
     "execution_count": 88,
     "metadata": {},
     "output_type": "execute_result"
    }
   ],
   "source": [
    "compounds_df.iloc[0].molecule_structures.keys()"
   ]
  },
  {
   "cell_type": "code",
   "execution_count": 89,
   "metadata": {},
   "outputs": [
    {
     "name": "stdout",
     "output_type": "stream",
     "text": [
      "DataFrame shape: (5444, 2)\n"
     ]
    }
   ],
   "source": [
    "## if a problem is faced while running this cell, run \"compounds = compounds_api.filter\" to get compounds in the list.\n",
    "\n",
    "canonical_smiles = []\n",
    "\n",
    "for i, compounds in compounds_df.iterrows():\n",
    "    try:\n",
    "        canonical_smiles.append(compounds[\"molecule_structures\"][\"canonical_smiles\"])\n",
    "    except KeyError:\n",
    "        canonical_smiles.append(None)\n",
    "        \n",
    "compounds_df[\"smiles\"] = canonical_smiles\n",
    "compounds_df.drop(\"molecule_structures\", axis=1, inplace=True)\n",
    "print(f\"DataFrame shape: {compounds_df.shape}\")"
   ]
  },
  {
   "cell_type": "code",
   "execution_count": 90,
   "metadata": {},
   "outputs": [
    {
     "name": "stdout",
     "output_type": "stream",
     "text": [
      "DataFrame shape: (5444, 2)\n"
     ]
    }
   ],
   "source": [
    "compounds_df.dropna(axis=0, how=\"any\", inplace=True)\n",
    "print(f\"DataFrame shape: {compounds_df.shape}\")\n",
    "# NBVAL_CHECK_OUTPUT"
   ]
  },
  {
   "cell_type": "code",
   "execution_count": 91,
   "metadata": {},
   "outputs": [
    {
     "name": "stdout",
     "output_type": "stream",
     "text": [
      "Bioactivities filtered: 5451\n"
     ]
    },
    {
     "data": {
      "text/plain": [
       "Index(['activity_id', 'assay_chembl_id', 'assay_description', 'assay_type',\n",
       "       'molecule_chembl_id', 'relation', 'units', 'IC50', 'target_chembl_id',\n",
       "       'target_organism', 'type'],\n",
       "      dtype='object')"
      ]
     },
     "execution_count": 91,
     "metadata": {},
     "output_type": "execute_result"
    }
   ],
   "source": [
    "print(f\"Bioactivities filtered: {bioactivities_df.shape[0]}\")\n",
    "bioactivities_df.columns"
   ]
  },
  {
   "cell_type": "code",
   "execution_count": 92,
   "metadata": {},
   "outputs": [
    {
     "name": "stdout",
     "output_type": "stream",
     "text": [
      "Compounds filtered: 5444\n"
     ]
    },
    {
     "data": {
      "text/plain": [
       "Index(['molecule_chembl_id', 'smiles'], dtype='object')"
      ]
     },
     "execution_count": 92,
     "metadata": {},
     "output_type": "execute_result"
    }
   ],
   "source": [
    "print(f\"Compounds filtered: {compounds_df.shape[0]}\")\n",
    "compounds_df.columns"
   ]
  },
  {
   "cell_type": "code",
   "execution_count": 93,
   "metadata": {},
   "outputs": [
    {
     "name": "stdout",
     "output_type": "stream",
     "text": [
      "Dataset with 5444 entries.\n"
     ]
    }
   ],
   "source": [
    "# Merge DataFrames\n",
    "output_df = pd.merge(\n",
    "    bioactivities_df[[\"molecule_chembl_id\", \"IC50\", \"units\"]],\n",
    "    compounds_df,\n",
    "    on=\"molecule_chembl_id\",\n",
    ")\n",
    "\n",
    "# Reset row indices\n",
    "output_df.reset_index(drop=True, inplace=True)\n",
    "\n",
    "print(f\"Dataset with {output_df.shape[0]} entries.\")\n",
    "# NBVAL_CHECK_OUTPUT"
   ]
  },
  {
   "cell_type": "code",
   "execution_count": 94,
   "metadata": {},
   "outputs": [
    {
     "data": {
      "text/plain": [
       "molecule_chembl_id     object\n",
       "IC50                  float64\n",
       "units                  object\n",
       "smiles                 object\n",
       "dtype: object"
      ]
     },
     "execution_count": 94,
     "metadata": {},
     "output_type": "execute_result"
    }
   ],
   "source": [
    "output_df.dtypes"
   ]
  },
  {
   "cell_type": "code",
   "execution_count": 95,
   "metadata": {},
   "outputs": [
    {
     "data": {
      "text/html": [
       "<div>\n",
       "<style scoped>\n",
       "    .dataframe tbody tr th:only-of-type {\n",
       "        vertical-align: middle;\n",
       "    }\n",
       "\n",
       "    .dataframe tbody tr th {\n",
       "        vertical-align: top;\n",
       "    }\n",
       "\n",
       "    .dataframe thead th {\n",
       "        text-align: right;\n",
       "    }\n",
       "</style>\n",
       "<table border=\"1\" class=\"dataframe\">\n",
       "  <thead>\n",
       "    <tr style=\"text-align: right;\">\n",
       "      <th></th>\n",
       "      <th>molecule_chembl_id</th>\n",
       "      <th>IC50</th>\n",
       "      <th>units</th>\n",
       "      <th>smiles</th>\n",
       "    </tr>\n",
       "  </thead>\n",
       "  <tbody>\n",
       "    <tr>\n",
       "      <th>0</th>\n",
       "      <td>CHEMBL68920</td>\n",
       "      <td>41.0</td>\n",
       "      <td>nM</td>\n",
       "      <td>Cc1cc(C)c(/C=C2\\C(=O)Nc3ncnc(Nc4ccc(F)c(Cl)c4)...</td>\n",
       "    </tr>\n",
       "    <tr>\n",
       "      <th>1</th>\n",
       "      <td>CHEMBL69960</td>\n",
       "      <td>170.0</td>\n",
       "      <td>nM</td>\n",
       "      <td>Cc1cc(C(=O)N2CCOCC2)[nH]c1/C=C1\\C(=O)Nc2ncnc(N...</td>\n",
       "    </tr>\n",
       "    <tr>\n",
       "      <th>2</th>\n",
       "      <td>CHEMBL137635</td>\n",
       "      <td>9300.0</td>\n",
       "      <td>nM</td>\n",
       "      <td>CN(c1ccccc1)c1ncnc2ccc(N/N=N/Cc3ccccn3)cc12</td>\n",
       "    </tr>\n",
       "    <tr>\n",
       "      <th>3</th>\n",
       "      <td>CHEMBL306988</td>\n",
       "      <td>500000.0</td>\n",
       "      <td>nM</td>\n",
       "      <td>CC(=C(C#N)C#N)c1ccc(NC(=O)CCC(=O)O)cc1</td>\n",
       "    </tr>\n",
       "    <tr>\n",
       "      <th>4</th>\n",
       "      <td>CHEMBL66879</td>\n",
       "      <td>3000000.0</td>\n",
       "      <td>nM</td>\n",
       "      <td>O=C(O)/C=C/c1ccc(O)cc1</td>\n",
       "    </tr>\n",
       "    <tr>\n",
       "      <th>5</th>\n",
       "      <td>CHEMBL77085</td>\n",
       "      <td>96000.0</td>\n",
       "      <td>nM</td>\n",
       "      <td>N#CC(C#N)=Cc1cc(O)ccc1[N+](=O)[O-]</td>\n",
       "    </tr>\n",
       "    <tr>\n",
       "      <th>6</th>\n",
       "      <td>CHEMBL443268</td>\n",
       "      <td>5310.0</td>\n",
       "      <td>nM</td>\n",
       "      <td>Cc1cc(C(=O)NCCN2CCOCC2)[nH]c1/C=C1\\C(=O)N(C)c2...</td>\n",
       "    </tr>\n",
       "    <tr>\n",
       "      <th>7</th>\n",
       "      <td>CHEMBL76979</td>\n",
       "      <td>264000.0</td>\n",
       "      <td>nM</td>\n",
       "      <td>COc1cc(/C=C(\\C#N)C(=O)O)cc(OC)c1O</td>\n",
       "    </tr>\n",
       "    <tr>\n",
       "      <th>8</th>\n",
       "      <td>CHEMBL76589</td>\n",
       "      <td>125.0</td>\n",
       "      <td>nM</td>\n",
       "      <td>N#CC(C#N)=C(N)/C(C#N)=C/c1ccc(O)cc1</td>\n",
       "    </tr>\n",
       "    <tr>\n",
       "      <th>9</th>\n",
       "      <td>CHEMBL76904</td>\n",
       "      <td>35000.0</td>\n",
       "      <td>nM</td>\n",
       "      <td>N#CC(C#N)=Cc1ccc(O)c(O)c1</td>\n",
       "    </tr>\n",
       "  </tbody>\n",
       "</table>\n",
       "</div>"
      ],
      "text/plain": [
       "  molecule_chembl_id       IC50 units  \\\n",
       "0        CHEMBL68920       41.0    nM   \n",
       "1        CHEMBL69960      170.0    nM   \n",
       "2       CHEMBL137635     9300.0    nM   \n",
       "3       CHEMBL306988   500000.0    nM   \n",
       "4        CHEMBL66879  3000000.0    nM   \n",
       "5        CHEMBL77085    96000.0    nM   \n",
       "6       CHEMBL443268     5310.0    nM   \n",
       "7        CHEMBL76979   264000.0    nM   \n",
       "8        CHEMBL76589      125.0    nM   \n",
       "9        CHEMBL76904    35000.0    nM   \n",
       "\n",
       "                                              smiles  \n",
       "0  Cc1cc(C)c(/C=C2\\C(=O)Nc3ncnc(Nc4ccc(F)c(Cl)c4)...  \n",
       "1  Cc1cc(C(=O)N2CCOCC2)[nH]c1/C=C1\\C(=O)Nc2ncnc(N...  \n",
       "2        CN(c1ccccc1)c1ncnc2ccc(N/N=N/Cc3ccccn3)cc12  \n",
       "3             CC(=C(C#N)C#N)c1ccc(NC(=O)CCC(=O)O)cc1  \n",
       "4                             O=C(O)/C=C/c1ccc(O)cc1  \n",
       "5                 N#CC(C#N)=Cc1cc(O)ccc1[N+](=O)[O-]  \n",
       "6  Cc1cc(C(=O)NCCN2CCOCC2)[nH]c1/C=C1\\C(=O)N(C)c2...  \n",
       "7                  COc1cc(/C=C(\\C#N)C(=O)O)cc(OC)c1O  \n",
       "8                N#CC(C#N)=C(N)/C(C#N)=C/c1ccc(O)cc1  \n",
       "9                          N#CC(C#N)=Cc1ccc(O)c(O)c1  "
      ]
     },
     "execution_count": 95,
     "metadata": {},
     "output_type": "execute_result"
    }
   ],
   "source": [
    "output_df.head(10)"
   ]
  },
  {
   "cell_type": "code",
   "execution_count": 96,
   "metadata": {},
   "outputs": [],
   "source": [
    "def convert_ic50_to_pic50(IC50_value):\n",
    "    pIC50_value = 9 - math.log10(IC50_value)\n",
    "    return pIC50_value"
   ]
  },
  {
   "cell_type": "code",
   "execution_count": 97,
   "metadata": {},
   "outputs": [],
   "source": [
    "# Apply conversion to each row of the compounds DataFrame\n",
    "output_df[\"pIC50\"] = output_df.apply(lambda x: convert_ic50_to_pic50(x.IC50), axis=1)"
   ]
  },
  {
   "cell_type": "code",
   "execution_count": 98,
   "metadata": {},
   "outputs": [
    {
     "data": {
      "text/html": [
       "<div>\n",
       "<style scoped>\n",
       "    .dataframe tbody tr th:only-of-type {\n",
       "        vertical-align: middle;\n",
       "    }\n",
       "\n",
       "    .dataframe tbody tr th {\n",
       "        vertical-align: top;\n",
       "    }\n",
       "\n",
       "    .dataframe thead th {\n",
       "        text-align: right;\n",
       "    }\n",
       "</style>\n",
       "<table border=\"1\" class=\"dataframe\">\n",
       "  <thead>\n",
       "    <tr style=\"text-align: right;\">\n",
       "      <th></th>\n",
       "      <th>molecule_chembl_id</th>\n",
       "      <th>IC50</th>\n",
       "      <th>units</th>\n",
       "      <th>smiles</th>\n",
       "      <th>pIC50</th>\n",
       "    </tr>\n",
       "  </thead>\n",
       "  <tbody>\n",
       "    <tr>\n",
       "      <th>0</th>\n",
       "      <td>CHEMBL68920</td>\n",
       "      <td>41.0</td>\n",
       "      <td>nM</td>\n",
       "      <td>Cc1cc(C)c(/C=C2\\C(=O)Nc3ncnc(Nc4ccc(F)c(Cl)c4)...</td>\n",
       "      <td>7.387216</td>\n",
       "    </tr>\n",
       "    <tr>\n",
       "      <th>1</th>\n",
       "      <td>CHEMBL69960</td>\n",
       "      <td>170.0</td>\n",
       "      <td>nM</td>\n",
       "      <td>Cc1cc(C(=O)N2CCOCC2)[nH]c1/C=C1\\C(=O)Nc2ncnc(N...</td>\n",
       "      <td>6.769551</td>\n",
       "    </tr>\n",
       "    <tr>\n",
       "      <th>2</th>\n",
       "      <td>CHEMBL137635</td>\n",
       "      <td>9300.0</td>\n",
       "      <td>nM</td>\n",
       "      <td>CN(c1ccccc1)c1ncnc2ccc(N/N=N/Cc3ccccn3)cc12</td>\n",
       "      <td>5.031517</td>\n",
       "    </tr>\n",
       "    <tr>\n",
       "      <th>3</th>\n",
       "      <td>CHEMBL306988</td>\n",
       "      <td>500000.0</td>\n",
       "      <td>nM</td>\n",
       "      <td>CC(=C(C#N)C#N)c1ccc(NC(=O)CCC(=O)O)cc1</td>\n",
       "      <td>3.301030</td>\n",
       "    </tr>\n",
       "    <tr>\n",
       "      <th>4</th>\n",
       "      <td>CHEMBL66879</td>\n",
       "      <td>3000000.0</td>\n",
       "      <td>nM</td>\n",
       "      <td>O=C(O)/C=C/c1ccc(O)cc1</td>\n",
       "      <td>2.522879</td>\n",
       "    </tr>\n",
       "  </tbody>\n",
       "</table>\n",
       "</div>"
      ],
      "text/plain": [
       "  molecule_chembl_id       IC50 units  \\\n",
       "0        CHEMBL68920       41.0    nM   \n",
       "1        CHEMBL69960      170.0    nM   \n",
       "2       CHEMBL137635     9300.0    nM   \n",
       "3       CHEMBL306988   500000.0    nM   \n",
       "4        CHEMBL66879  3000000.0    nM   \n",
       "\n",
       "                                              smiles     pIC50  \n",
       "0  Cc1cc(C)c(/C=C2\\C(=O)Nc3ncnc(Nc4ccc(F)c(Cl)c4)...  7.387216  \n",
       "1  Cc1cc(C(=O)N2CCOCC2)[nH]c1/C=C1\\C(=O)Nc2ncnc(N...  6.769551  \n",
       "2        CN(c1ccccc1)c1ncnc2ccc(N/N=N/Cc3ccccn3)cc12  5.031517  \n",
       "3             CC(=C(C#N)C#N)c1ccc(NC(=O)CCC(=O)O)cc1  3.301030  \n",
       "4                             O=C(O)/C=C/c1ccc(O)cc1  2.522879  "
      ]
     },
     "execution_count": 98,
     "metadata": {},
     "output_type": "execute_result"
    }
   ],
   "source": [
    "output_df.head()"
   ]
  },
  {
   "cell_type": "code",
   "execution_count": 99,
   "metadata": {},
   "outputs": [
    {
     "name": "stderr",
     "output_type": "stream",
     "text": [
      "Matplotlib is building the font cache; this may take a moment.\n"
     ]
    },
    {
     "data": {
      "text/plain": [
       "array([[<AxesSubplot:title={'center':'pIC50'}>]], dtype=object)"
      ]
     },
     "execution_count": 99,
     "metadata": {},
     "output_type": "execute_result"
    },
    {
     "data": {
      "image/png": "[encoded data removed]",
      "text/plain": [
       "<Figure size 432x288 with 1 Axes>"
      ]
     },
     "metadata": {
      "needs_background": "light"
     },
     "output_type": "display_data"
    }
   ],
   "source": [
    "output_df.hist(column=\"pIC50\")"
   ]
  },
  {
   "cell_type": "code",
   "execution_count": 100,
   "metadata": {},
   "outputs": [],
   "source": [
    "# Add molecule column\n",
    "PandasTools.AddMoleculeColumnToFrame(output_df, smilesCol=\"smiles\")"
   ]
  },
  {
   "cell_type": "code",
   "execution_count": 101,
   "metadata": {},
   "outputs": [],
   "source": [
    "# Sort molecules by pIC50\n",
    "output_df.sort_values(by=\"pIC50\", ascending=False, inplace=True)\n",
    "\n",
    "# Reset index\n",
    "output_df.reset_index(drop=True, inplace=True)"
   ]
  },
  {
   "cell_type": "code",
   "execution_count": 102,
   "metadata": {},
   "outputs": [
    {
     "data": {
      "text/html": [
       "<div>\n",
       "<style scoped>\n",
       "    .dataframe tbody tr th:only-of-type {\n",
       "        vertical-align: middle;\n",
       "    }\n",
       "\n",
       "    .dataframe tbody tr th {\n",
       "        vertical-align: top;\n",
       "    }\n",
       "\n",
       "    .dataframe thead th {\n",
       "        text-align: right;\n",
       "    }\n",
       "</style>\n",
       "<table border=\"1\" class=\"dataframe\">\n",
       "  <thead>\n",
       "    <tr style=\"text-align: right;\">\n",
       "      <th></th>\n",
       "      <th>molecule_chembl_id</th>\n",
       "      <th>IC50</th>\n",
       "      <th>units</th>\n",
       "      <th>pIC50</th>\n",
       "      <th>ROMol</th>\n",
       "    </tr>\n",
       "  </thead>\n",
       "  <tbody>\n",
       "    <tr>\n",
       "      <th>0</th>\n",
       "      <td>CHEMBL63786</td>\n",
       "      <td>0.003</td>\n",
       "      <td>nM</td>\n",
       "      <td>11.522879</td>\n",
       "      <td><img data-content=\"rdkit/molecule\" src=\"data:image/png;base64,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\" alt=\"Mol\"/></td>\n",
       "    </tr>\n",
       "    <tr>\n",
       "      <th>1</th>\n",
       "      <td>CHEMBL35820</td>\n",
       "      <td>0.006</td>\n",
       "      <td>nM</td>\n",
       "      <td>11.221849</td>\n",
       "      <td><img data-content=\"rdkit/molecule\" src=\"data:image/png;base64,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\" alt=\"Mol\"/></td>\n",
       "    </tr>\n",
       "    <tr>\n",
       "      <th>2</th>\n",
       "      <td>CHEMBL53711</td>\n",
       "      <td>0.006</td>\n",
       "      <td>nM</td>\n",
       "      <td>11.221849</td>\n",
       "      <td><img data-content=\"rdkit/molecule\" src=\"data:image/png;base64,iVBORw0KGgoAAAANSUhEUgAAAMgAAADICAIAAAAiOjnJAAAABmJLR0QA/wD/AP+gvaeTAAAa7UlEQVR4nO2deVyU1ffHPzMDOCDK4sywCAnmEqaQki/9Ji4VliYqpWVu4ZKWipjLN63cSs0lMwXFUrPA1LTCtDJ/5lcwVJL4qiiIJuICKsxMDqusM+f3x0MjKQIyz32G/N73qz+e587MOWfswzN3OfdcGRGBwxEbubUD4DyccGFxmMCFxWECFxaHCVxYHCZwYXGYwIXFYQIXFocJXFgcJnBhcZjAhcVhAhcWhwlcWBwmcGFxmMCFxWECFxaHCVxYHCZwYXGYwIXFYQIXFocJXFgcJnBhcZjAhcVhAhcWhwlcWBwmcGFxmMCFxWECFxaHCVxYHCZwYXGYwIXFYQIXFocJXFgcJnBhcZjAhcVhAhcWhwlcWBwmcGFxmMCFxWECFxaHCVxYHCZwYXGYwIXFYQIXFocJXFgcJnBhWQeDARcuVF+XlCAry6rRMMDG2gH8IyGiCxcuzJ49W6FQqFQqNzc3tVqtVqtVKpVGo9FoNCqVyt7evg4Lhw9j1CicPg0/P6Sn4+OPsWuXZOFLARdWY9i8eXN4eLjRaDSZTPd7z6OPVhLZaDRQqaBWQ6NBzeuqKjz7LMLDceiQlIFLBxfWA5OVlTVnzpzKysoPPvggICBAr9fn5ubqdDq9Xq/X6/Py8oTr7Gybior7/sZt3IiAANy6hZgYdOok7ReQBC6sB8NkMo0bN66oqGjMmDELFiyo451FRcjLg04HvR463d3XLVsCwIcfondvrF0rUfBSwoX1YCxbtiwxMbF169aRkZF1v7NFC7RogXbtan/1u+8AoFUrzJ6NJUvg6Sl2oNaGjwofgFOnTi1dulQul8fGxrq4uABISkqy8FDtCRNgNIoUX5OCOA2jtLS0c+fOAGbOnCm0HD16VKFQvPDCC0aj8UGtZWXRiRPV1xcv0urVVFUlYrDWhwuroURERADw8/O7ffs2ERUXF7dr1w7AggULLLQ8YgQBtHOnGFE2GbiwGsQvv5j69JlsZ2d38uRJoWXixIkAunbtWl5ebqHxzz4jgAICyGSyONAmAxdW/dy6RV5eBNC6dZeElr179wJQKpVnz5613H5ZGXl6EkD791turKnAhVU/I0cSQE89Vd0Nysu7pdFoAKxdu1YsFx99RAD17i2WPevDhVUP335LADVvTn/8Ud0ybBg9+eTnISEvmiz76UpMpMGD6coVIqLiYmrVigA6etTiiJsGXFh1cf06uboSQJs3V7ds3kwAOTvT1auWGh89mgCKiKi+nT+fAAoJsdRsE4EL676YTDRwIAE0eHB1S1YWtWhBAO3YIYL99HSSy8nBgbRaIiK9nhwdSSajv4YH/2y4sO7LunUEkEpFN28SERmN1LcvAfTSS6K5CAkhgObPr76NiCCARo8Wzb4V4cKqnStXyN6eANqzp7pl+XICyNOT/vxTNC+//UYAOTlRfj4R0dWr5O+f/K9/Dbt06ZJoPqwEX9KpnTZtsHYtpk9HaOidRjs7fPEFXF1F89KjB/r0QUEBNm8GgEceQdeuG5KSvlu9erVoPqyFtZXdhBgyhIYPr76eNo1++unuN1y7Jr7T/ftNPXt+GxQ0qKysjIgyMjLkcnmzZs1u3LghvjMJ4U+sv5GdjZ9+uu+r3t7iexw4UFZR8eHRoz/FxMQAeOyxx4YOHVpeXl5v9kQThwvrbyxbhnfewe3bkjp9++23AaxcubKqqgrAO++8AyA6Ojo/P1/SOESFC+tvtG6NsWOxdKmkTocPH96+ffusrKzvvvsOQPfu3Z955pnCwsKNGzdKGoeocGHdzVtv4eBBXL4snUeFQjFnzhwAy5cvJyL89dBau3ZtaWmpdHGIChfW3dja4uOP8fPPkjoNCwvz9PRMTU09cOAAgODg4J49e2q12q1bt0oah3goFi9ebO0YmgoVFQgIQPPm8PGBSoXWreHjI5FrGxsbOzu7Nm3ahIaGOjs7A3Bxcdm9e/exY8f27du3d+/eQ4cOnThx4syZM5mZmTdv3iwqKjIajXZ2djY2TTS5XEaWZdY+lNy8iYEDcesWLl2Cra11Yli/fn1ERIRCoRB69PdDqVS6uLi4uLh4enp6eHjce+3l5eXk5CRZ2Ga4sGqBCP7+SEvDF19g3DgrBJCZmdm1a9fi4uLIyMjAwECdTqfT6fLy8vR6vbC3LDc3V9htVl5eXq+1nTt3BgcHq1QqCSI3w4VVO7GxCAvDY48hPR1yaTuiVVVVQUFBJ06cGD9+fL19rMLCQrPIdDrdvdd5eXkAZs+evWLFCknC/wvrzs82WSoqyMeHAIqLk9r1okWLAPj4+BQUFFhuLTk5GUDLli0NBoPl1hoOF9Z9iYoigLp3l9RpSkqKra2tXC6Pj48Xy+azzz4LYNmyZWIZbAhcWPeltJTc3Qmg//xHIo8lJSUdO3YE8Pbbb4to9pdffgGg0WiE/UXSwIVVF0uXEkDBwRK5mzp1KoBOnTqVlpZaaConJ2f27NkHDx4Ubnv27Alg/fr1FsfYULiw6iI/n5ycCKCkJOa+Dh48KJPJmjVrdvr0acutrVq1CkCfPn2EW2GxyNvbu6KiwnLjDYELqx7efpu6dCkID49h6sVgMHh5eQFYtWqVKAaLi4tbtWoF4OjRo0RkMpk6deoEYNu2baLYrxcurHq4eVOnVCrlcnlGRgY7LyNGjADQq1evKvF22s+fPx9AyF/bM4SZCz8/v0YUBGgEbIVlNBrj4uKioqK+/vrr+Pj4s2fP5ubmivhvJw1vvPEGgPHjxzOyv23bNgCOjo4XL14U0axer3d0dJTJZKdOnSKiioqKgID+/fod++GHShG93A+GE6QFBQVBQUFElJ6eftdLSqWy5rLDvSsS3t7ettZaTLmHrKysjh07ymSyzMzMRx55xNxeUVGhUCgUCoUlxq9fv96lSxeDwfDFF1+ME3uaf8aMGZGRkaNHj/7qq68ArF2LmTPRowd++01cP7XAUFivvfbatm3bfH19Bw4cqNPptFqteUWijgqLZlQqlUqlEgp7Tpw4cdCgQYzibAijRo3auXPnW2+99cknn5gbo6Ojp02bdtcfyb3XarX6fn8kJpOpf//+hw8fHjp06Pfffy962NeuXXv++Vlq9Udffunbti1u34aPD3Q6JCSgb1/Rvf0dRk/CuLg4AA4ODhcuXLj31du3b1+6dCkxMXHfvn0xMTErVqyIiIgYO3ZsSEhIYGCgh4fHXf8nevTo8dZbbzEKtSGkpqbKZDIHBwetsAmQiIhWrVolb9hyj1qt9vPzmzBhwl1m16xZI7yam5vLKPKwMAJo6tTq2/ffJ4Cef56RtzsweWLduHHD39//zz//3Lhx45tvvtkIC0RkfrydOnVq1qxZdnZ2ly9fdnd3Fz3aBjJo0KD9+/cvXLjw/fffr9leWlp68+bNGzduGAwGg8Fw77VOpxMyFPr373/w4EHzBzMyMgIDA0tLS3/44YeQkBBGYZ8/j8cfh50dsrLg4YFbt+Djg6IipKQgMJCRTwAMnlgmk+mFF14A8Nxzz1lY3cDMkCFDALz33nuiWGscSUlJAFxdXQsLCx/ogyaTKS8vLz09/dy5c+bGioqK7t27A5g8ebLYkd5NaCgB9M471bezZhFAr7zC1qn4wtqwYQMAlUolbGAyGo07d+60UGEnTpwA4OTklC/s7LQSwvx1QEDA5MmT58+fv27duu3bt//yyy+pqak3btx4oLlHIfm4bdu2DyrTRpCcTAC1bEnCMvTNm6RUkkJBtXVSRENkYWVmZjo6OgLYvXu30PLRRx8BGDVqlIWW+/btC2DlypUWx9h4evfuLZQevR9KpdLDwyMwMDAkJGTs2LERERErVqyIiYnZt29fYmLipUuXhCptx44dUygUcrn8yJEj0kT+9NME0PLl1bevv04ATZrE0KOYwqqsrOzRoweAsLAwoSUtLU2pVMpksh9//LER1mJjY0f/VclASAZ3c3OTciW1Jp9//jmAli1bbtq0KTo6+oMPPpg+ffrIkSOffvrpLl26uLu7NzBL2MXFRUg+fsf848SegwepXz8yJ0z88QcpFNSyJRUVsfIoprCE9HkvL69bt24RUVlZWUBAAICp5jHJg1BaWurh4QHAvJIaGBgI4NNPPxUx5gaSlZXVsmVLANu3b6/jbbdv375+/XpKSoow2l27du3cuXOF0W6vXr3atm0rjHadnZ1tbGysW6AhMpL++nclvZ5qdP/EQTRh/fe//xUSiQ4fPiy0CPswH3300aLG/l0sX74cwDPPPCPc7tq1S+iXVFZKMXdsxmg0Cj/EL4lRaEav1w8dOhTAjBkzLLfWaLZsIaWyupv1f/9Hog8hxBGWOZFozpw5QotQqtrGxibJgsSAgoIC4Vfj+PHjRFRVVdWhQwcAO0SpT9VghKReT09PvV4visFaZ8UkZssWGj6cgoPJZGrCwpo2bRpqJBIVFRUJpaoXLVpkoeV58+YBCA0NFW43bdoEwN/fX6yJjHoxdxP3i1p6VpiRWbhwoYg2H4gtW2j5cpowgbZta6rCujeRaPz48QC6detmefZPXl6evb29TCZLS0sjorKystatWwP46d5aMAwoKyvz9/cHEB4eLq7lRs+KiYUgLK2W/Pzom2+anrAMBoO3t3fNiQBhzUupVApSsBwhr9I80hRqR/WWpMLwkiVab+++HTt2LCkpEd14UFAQgNWrV4tuuSEIwiKiTz+lwMCmJ6y7Eom0Wq2bmxuAqKgoMcIjIsrKyrKxsbG1tb1y5QrVSGFLTEwUy0WtJCSQXE7OzqaUlEwW9n/88UcA7u7uliciNwKzsIxG6tmziQlLSMaomUg0ePBgAMHBweL2gUaPHg0g4q8Kw8J5boMGDRLRxV3k51ObNgTQ4sXsnFDXrl0BbDbXZJaKmBg6dozMmYuXLlFKisguGi+snJwcV1dXAFu3bhVaPvvsM2GS5prYpe/OnTsnl8vNwyghhQ3ASWYVhl97jQAKDCSmOeLbt28XZmSkTH48fpwUCmrViphuNGyksEwm04ABAwAMHTpUaMnKymrRogWAnWxOGxLW/+f/VWF4xowZoqwU1cqePQSQgwOdP8/C/B2qqqqE4bN5BYw1xcXUvj0B9O67bB01UlhCvlvNRKLnnnsOwMiRI8WL7W/89ttvNdehs7Oz7ezsFAqFuOm8RJSXRxoNARQdLa7h2hGqqwUEBEgzgTJ5MgH0xBNk8dFS9dBIYe3evdvZ2bnm6srFixeHDRsmLOYwok+fPqixj0VI5J0yZYqILkwmGjSIAOrfX6KzuMrKyoSVqwMHDrD2deAAyWTUrBmdOcPaVWOFJRyqNonp+vg97N+/v+Yw6vz586IXGBZONGnViq5fF8tk/Qgz+/369WPqRaer3ti9Zg1TP9U0UliZmZkKhaJZs2Y5OTniBlQHJpPpiSeeqLkS/OKLLwKYO3euWC5u3qRBg0iqDk815pWrY8eOsfPy8svVB4xJsvvLglHhyy+/XHNxUBoOHTq0b98+c3dEKKVib28/d+7cqKioXbt2JSQkpKWl5ebmNnD3XFkZubjcKekeEEBHjtDrr995Q/v2In+FWnn33XdrjoRE58svTcIRGJafLdVAGp/zfvr06W7dujk4OFy9elWYsZSe/Px8Hx8fR0fH69ev3/WSTCYTdvj07Lm0sPBFNzeoVFCpoNHAfK1Wo6ICHTpApcLRo3BwgK8vtm7F1q3Ytq3ajpcXcnKYfxGtVuvj41NWVnbmzBnh5GmBkpKSkpISlUrVwF0btZKTk/PccxOVyq9nznQZO1aMcBtA4ytYPvHEE8LugOjoaGHGUnqmTJlSUFDg4eGxcOFCvV6v1WprbjITbp2cqpKSav+4TIbISDg7IywMS5Zg+fLq9oICnDsn2ZcAAI1GM2HChA0bNqxatSo2NtbcvmvXLqE7W+8mM41GU2umoclkGjNmTEbGkZdffnPs2F3SfSVLHnfx8fEAWrVq1eiMK0sQZhebN2/+h/mMyhoYjcbc3Ny0tLRff83ftYuiomjRIpo6lYYPpz59qFMnUqtJJqMvv6QuXaiykgIDKT2dfHzo8GHq0IGmTq3+r3Vrib7OtWvXbG1tbWxsLl++bG7ctGmTWq2WyWT1/n+UyWQajSbknvMOheogGo0mLy9Pom9CRJavFT711FMA1q1bJ0o0Dcc8779ly5ZGGzEaqbCQunQhIkpMpAEDqoU1Zsyd90gmLCIaM2YM7pNJUe9OTOFxZS4vI2BJariFWCosIZfBy8vL8sPcG47JZBo4cCCAIUOGWGiqtLRaWEQ0bhw5OlpTWMLKlVKpvCkckfggVFVV5ebmZmdnm1ssTA23EEurhA8ZMqRz585paWk7duwQvfTA/YiMjPz555/VarWwOmkJCgWGD6++XrkSLVrAw+Nv289ffdVCDw+An59fSEjIvn37evXqFRAQ4O7uLow/VCqVu7u7ueBArX0phUIh5JWYWbhwYWpq6qOPPrpy5UqpvsEdRNgJHRsbGxYW1rFjR+EPTpSw6uD8+fPdunUrLS399ttvhw0bxtqdxKSmpn7//fd1n+og1Havoy/v7e2dnJzct29fmUyWmJgobIeUGBGEVVlZ2aFDhytXrsTFxQkzluyoqqrq1atXcnLyxIkTt2zZwtSXtTAYDGfPnhUKuwvD25rXer3eaDTWa8TR0bG4uPjeggCSIU7thvXr10+fPr179+7CjCU7FixYsHTpUl9f39OnTwv7sf4HqbdahF6vVyqVxcXFp06dErpZVkCUnlppaalQruPQoUOiGKyV33//XdhhlpCQwM7LQ4DJZJo0aRKAsWPHWisG0fYVLl26FEAwswrDxcXFwt6vefPmMXLxMFHrrJiUiCas/Px84TAgSzYS1oFQr/Hxxx+3Sob4P5E6ZsUkQMz6WHPnzl21atVLL70kFH8WyM7OnjhxokajEYbNbm5uNa+FVf16OXjw4IABA+zs7JKTk4X9WJx6ycjI6Ny5s9Xqioko0tzcXGEPYHp6urnxtzrrXdra2np6evr7+/fv33/UqFEzZsxYsmTJXc8knU4npMJZa6fUPxcr1hUTuaLfm2+++dlnn9U8tqqwsDApKanWYXNubm5hYeFdFuRyeXl5ec05wFdeeeWbb77p3bt3fHy8hZVk/9dITk7u0aOHk5PT1atXJT61UGRhmQsMX7x4sU2bNvW+v7y83CwyQXBFRUU1cyViYmLGjRvn5OSUmpraEIOcu+jXr9+RI0dWrlwp1GiRDtGfgSNHjgTw7LPPxsXF/frrr+fOndPpdI0zlZ2dLRQ6i4lhezDEQ8yBAwd8fNoPHPi1xGMe8YvbxsbGhoeHFxUV3dXu4uJSRzqRi4uLm5tbzV86k8kUHBwcHx8fGhq6Z88ecYP8n6J7d1NKinzjRjSqznAjEVlYRUVFAQEBly9ffvLJJ728vIR+lVarNRgM9X5WoVAIi6xqtdrNze369euJiYnu7u5nz56V+NjZh4zduzFiBNq2xYULkOxscpH9zJgx4/Lly926dTt+/PhdtdoNBkMdqxAGg0Gr1ebm5ubm5po/EhQUNG/ePK4qCxk2DB064I8/8M03GDlSIqdiPrH27t0bGhqqVCpTUlIef/zxB/14ZWWl0JHXarXCwdrTpk3jw0BR2LIFkybB3x+nT6MB6ahiIFZnzVxnJjIyUiybHLGoqCBvbwJIkrJiRCIu6QipUaLXmeGIxerVBFDPnhK5E0dYmzdvBuDs7HxVsn1rnAekuJhUKgKIcVmxakRI+Lx8+fKsWbMAbNy4seapa5wmRfPmmDoVAKKipHBn6aiQTMZvNq0qKip69dVXX5UyP5zz4EyfjsrKO7NZV6/CxQWM0iUtfWIdi9tYmrZ3/b9HREdHixIQhx0qFU6exIQJ1bfLloFdwq9FwsrNSk/Y/hFksudHTK77kBlO08HeHl99xdxL438KjZUVez6JMFZV9hg8sV3gMyLGxGHKokUIC4NwYG1JCcLD71S10GigVlffWjiB2HhhHYr5UHslQ+XVLnjcexaFwJEWV1fMnIn33gMAvR4bNtTyHpkMKhV8fArs7YcIK2zCUlvNa5VKVcf0dSOFdS39xIl9W+QKm9CZ62zslI0zwrEWEyYgJgZGI55/HlFR0Ouh1yMvD1pt9bVOB50OzZtrr1z59X5GHB0d7001MNMYYZWXFMatmU5k6jdyTusOXRthgWNd5HJER6NbNzg5odY9vyaToLDWOl2CULSnZgEf4VooXH0/GrNWuGfN9DPx33m2C5j40T65Te3ns3OaGlVV+PpruLigd+/qKYYffkC3bmjdmom7up5YP0TNKbtdpHRo8VjPAe27BwuNGcf3n4n/zlbpMOzf0VxV/yA+/PBv3XYAgwczdFeXsDJPJkyJ+k9xvm73h6+7erZt1botAN+AoM59Qn26/MvV05dhXBxROXkSS5dCLkdYmEQe6xKWTCZTOjo1c3Bs1rwFmYwHNi8kk/FG5plxy+MU/Fn1z6GsDK+9hspKzJ6Np5+WyGldwjIaq7YtGFGgu+7q4evq6VuSr/f718CBbyyTKDSOSPz730hPR6dOWLJEOqd1CUuhsBm7ZBcRHfx8cfKPWwG0VHtKFRhHHA4dwoYNsLVFTAzs7aXzW/+SjkwmkytsyWSSIBqOuOTnY8IEEGHJEjz5pKSu63pi2Taz37ZghMlkauHq1nfkTP3mRXK5VLn4HDGYMgXZ2ejVC3PmSO1a/O1fnCbCjh071q/Pu3ZtRkKCvF07qb3zJ9DDSU5OTnh4uMFg2LpV067daOkDYF4ylCM9RDRp0iSDwTBkyJDx462gKnBhPZSsW7fuwIEDarV606ZN1oqB97EeNjIyMgIDA61eVZo/sR4qqqqqwsLCSktLX3/9devWKufCeqhYvHjx77//7uvru2bNGutGwn8KHx60Wq2vr295eXlCQkJQUJB1g+HTDQ8PGo0mKSkpMTHR6qoCf2JxGMH7WBwmcGFxmMCFxWECFxaHCVxYHCZwYXGYwIXFYQIXFocJXFgcJnBhcZjAhcVhAhcWhwlcWBwmcGFxmMCFxWECFxaHCVxYHCZwYXGYwIXFYQIXFocJXFgcJnBhcZjAhcVhAhcWhwlcWBwmcGFxmMCFxWECFxaHCVxYHCZwYXGYwIXFYQIXFocJXFgcJnBhcZjAhcVhAhcWhwlcWBwmcGFxmMCFxWECFxaHCVxYHCZwYXGYwIXFYQIXFocJXFgcJvw/XB+I5MWzKDQAAAGhelRYdHJka2l0UEtMIHJka2l0IDIwMjAuMDkuMQAAeJx7v2/tPQYg4AFiRgYIEAVicSBuYGRjSACJM7MzaABpZmYYn80BzGdhc8gAizMiBCA0OwNYgokRi0pMBkSJMoMCyHC4OLsD1FJMATQzYRLcQC8wMgHdp8DMksHEwprAypbBxMauwM6hwMGZwcTJlcDFncHEzZPAw8vAwweU4k/gF8hgEhBMEBTKYBISThAWyWASYU4QYk3g40gQYWZjFhEWYmVh4+Ti5uHjYOMXEBRiZROHBRODaN6hAId/v6IPgDgb9jU7CMvwgtmRUzY7FAmJgtn/euIcFKQj94PYEYf/2i92tASzpz9abd8prGQPYhcukN7H/tYRzP74smG/n+znfSC2t4LCgeCszWD2GgHPA4wXGsBq/sdOOXBgzwQwu2L3+gOFghf2gtjuzrMPrF29C2z+gQXbDhwy0QG7weZ22IGcGafA4vNXeu3vDWB3ALGNBZtsK/TDwOwd5cftJS39wGzbNTwOc46/A5vfH57jcPfWPTD7x+IuB9mDR+xAbDEA0KJrnn31WoAAAAGSelRYdE1PTCByZGtpdCAyMDIwLjA5LjEAAHicnVXLTsQwDLz3K/IDWH4m8RWWE2IPHPgHroj/F07TDT2AxDqqVuO6mYzHdXcrY71dXj6+ylp82bbCVFhKwV8vdy/vjIjbeF6AK3mABwGVxuMeQmSxPJW/KM7XzqJA1HCwMDBqP7Fc/89iUGlqYRB2yWmJOlrTwYLQtVOOhcA722RpLC3LIso+91aRnJZQQMY49zZrlmOh2NFo8mlL9ig6Y7hrCRYx1JwWAVKq0yHEmuv0g4an1SYLCfYci4H6rmX4jFNVRkufPQqf1XrSF4N29IihOp7fusfPO9wVmywE1jnpS7xrTrsCjunWc4/umOnYUcXmXIrWnLvRX7Mux/cqVk5L1OEdJ1+vlpujUFB9ekrQlJLfFwURPhRIz7kbR/P+O4JAcg50BYFsvzWCQHVlArWVCdRXJpCvwAvh7bFAo+SZCUS8MlxoKQhEeg7sdA4tBYFoKQhES0Gg8VdwZLyM2ZqZQEy3zEA/5/ipuHHirYTXUp6vl+0bEm4cN4pXsf0AAAETelRYdFNNSUxFUyByZGtpdCAyMDIwLjA5LjEAAHicJZA7cgMxDEOvknJ3RtbwT2q2s3tfQv0WqX34gI7KJxAE8Xofr3Pz3rKP99aNdzx/z63nvW/Am38+h04JrhwPnabJa1w2mZN0PGQKWdm4fAZzRROVJT4uiDMVhGZZUY6L5ypxaZKi4dVITcoHzVBl5nHhk51XLrD0dFEwnkTJ1pOWVtpMphN0zdTJpGd1snHYaH0oQjwMxmEJwkoZID5tcWjPMbGv+KoKO5GVp3npvyyxUvqgWJTydVdP1lZ5SdY3bMLMeQgaMUE1NHszLRuQW4T3kQ7TBoKH7BCvIkaoCkc4dBVLqnOnMXkXrNpV4bZCQTHOzx80d1gPq9z5pwAAAABJRU5ErkJggg==\" alt=\"Mol\"/></td>\n",
       "    </tr>\n",
       "  </tbody>\n",
       "</table>\n",
       "</div>"
      ],
      "text/plain": [
       "  molecule_chembl_id   IC50 units      pIC50  \\\n",
       "0        CHEMBL63786  0.003    nM  11.522879   \n",
       "1        CHEMBL35820  0.006    nM  11.221849   \n",
       "2        CHEMBL53711  0.006    nM  11.221849   \n",
       "\n",
       "                                               ROMol  \n",
       "0  <img data-content=\"rdkit/molecule\" src=\"data:i...  \n",
       "1  <img data-content=\"rdkit/molecule\" src=\"data:i...  \n",
       "2  <img data-content=\"rdkit/molecule\" src=\"data:i...  "
      ]
     },
     "execution_count": 102,
     "metadata": {},
     "output_type": "execute_result"
    }
   ],
   "source": [
    "output_df.drop(\"smiles\", axis=1).head(3)"
   ]
  },
  {
   "cell_type": "code",
   "execution_count": 103,
   "metadata": {},
   "outputs": [],
   "source": [
    "output_df.drop(\"ROMol\", axis=1).to_csv(DATA / \"EGFR_compounds.csv\")"
   ]
  },
  {
   "cell_type": "code",
   "execution_count": 104,
   "metadata": {},
   "outputs": [
    {
     "name": "stdout",
     "output_type": "stream",
     "text": [
      "DataFrame shape: (5444, 6)\n"
     ]
    }
   ],
   "source": [
    "print(f\"DataFrame shape: {output_df.shape}\")"
   ]
  },
  {
   "cell_type": "code",
   "execution_count": null,
   "metadata": {},
   "outputs": [],
   "source": []
  }
 ],
 "metadata": {
  "kernelspec": {
   "display_name": "Python 3",
   "language": "python",
   "name": "python3"
  },
  "language_info": {
   "codemirror_mode": {
    "name": "ipython",
    "version": 3
   },
   "file_extension": ".py",
   "mimetype": "text/x-python",
   "name": "python",
   "nbconvert_exporter": "python",
   "pygments_lexer": "ipython3",
   "version": "3.8.6"
  }
 },
 "nbformat": 4,
 "nbformat_minor": 4
}
